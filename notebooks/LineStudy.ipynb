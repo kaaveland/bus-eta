{
 "cells": [
  {
   "cell_type": "markdown",
   "id": "d49c6d34a71adec5",
   "metadata": {},
   "source": [
    "# Visualizing traveltime along a Line\n",
    "\n",
    "This notebook is a continuation of the study I've been doing of public transit:\n",
    "\n",
    "1. [Initial blogpost](https://arktekk.no/blogs/2025_entur_realtimedataset)\n",
    "2. [The initial notebook](https://github.com/kaaveland/bus-eta/blob/main/EnturRealtimeEDA.ipynb)\n",
    "3. [Webapp](https://kollektivkart.arktekk.no)\n",
    "\n",
    "I've been wanting to find out how to produce good, interactive visualizations for an individual line. I want people to be able to go to the webapp and enter `RUT:Line:265` to see patterns in the travel time of their particular bus. This notebook is my exploration of that problem. I aim to first solve the problem very specifically, for one line, one day, then try to scale it up to all lines for one day, then to all lines for a month, by iteratively improving queries.\n",
    "\n",
    "As preparation, I've prepared some data files. Arrival data, mostly the same schema as on [Real-Time](https://data.entur.no/domain/public-transport-data/product/realtime_siri_et/urn:li:container:1d391ef93913233c516cbadfb190dc65):\n",
    "\n",
    "1. https://kaaveland-bus-eta-data.hel1.your-objectstorage.com/entur_realtime.parquet is a single day of real time data, specifically 2025-\n",
    "2. https://kaaveland-bus-eta-data.hel1.your-objectstorage.com/entur_realtime_month.parquet is an entire month of real time data\n",
    "\n",
    "Stop and quay data, for geolocation of stops and normalization on stop names.\n",
    "\n",
    "1. https://kaaveland-bus-eta-data.hel1.your-objectstorage.com/quays.parquet one version of all quay stop points\n",
    "2. https://kaaveland-bus-eta-data.hel1.your-objectstorage.com/stops.parquet one version of all stop points\n",
    "\n",
    "Since I will retrieve this data over https in the notebook, it should run as-is on your machine, if you want to tinker and play along.\n",
    "\n",
    "Let's do some imports and get started."
   ]
  },
  {
   "cell_type": "code",
   "execution_count": 1,
   "id": "initial_id",
   "metadata": {
    "ExecuteTime": {
     "end_time": "2025-04-25T21:33:14.691323Z",
     "start_time": "2025-04-25T21:33:12.649251Z"
    }
   },
   "outputs": [
    {
     "data": {
      "text/html": [
       "<span style=\"None\">The &#x27;toml&#x27; package isn&#x27;t installed. To load settings from pyproject.toml or ~/.jupysql/config, install with: pip install toml</span>"
      ],
      "text/plain": [
       "The 'toml' package isn't installed. To load settings from pyproject.toml or ~/.jupysql/config, install with: pip install toml"
      ]
     },
     "metadata": {},
     "output_type": "display_data"
    },
    {
     "data": {
      "text/html": [
       "<span style=\"None\">Running query in &#x27;duckdb&#x27;</span>"
      ],
      "text/plain": [
       "Running query in 'duckdb'"
      ]
     },
     "metadata": {},
     "output_type": "display_data"
    },
    {
     "data": {
      "text/html": [
       "<span style=\"None\">Running query in &#x27;duckdb&#x27;</span>"
      ],
      "text/plain": [
       "Running query in 'duckdb'"
      ]
     },
     "metadata": {},
     "output_type": "display_data"
    },
    {
     "data": {
      "text/html": [
       "<table>\n",
       "    <thead>\n",
       "        <tr>\n",
       "            <th>column_name</th>\n",
       "            <th>column_type</th>\n",
       "            <th>null</th>\n",
       "            <th>key</th>\n",
       "            <th>default</th>\n",
       "            <th>extra</th>\n",
       "        </tr>\n",
       "    </thead>\n",
       "    <tbody>\n",
       "        <tr>\n",
       "            <td>recordedAtTime</td>\n",
       "            <td>TIMESTAMP WITH TIME ZONE</td>\n",
       "            <td>YES</td>\n",
       "            <td>None</td>\n",
       "            <td>None</td>\n",
       "            <td>None</td>\n",
       "        </tr>\n",
       "        <tr>\n",
       "            <td>lineRef</td>\n",
       "            <td>VARCHAR</td>\n",
       "            <td>YES</td>\n",
       "            <td>None</td>\n",
       "            <td>None</td>\n",
       "            <td>None</td>\n",
       "        </tr>\n",
       "        <tr>\n",
       "            <td>directionRef</td>\n",
       "            <td>VARCHAR</td>\n",
       "            <td>YES</td>\n",
       "            <td>None</td>\n",
       "            <td>None</td>\n",
       "            <td>None</td>\n",
       "        </tr>\n",
       "        <tr>\n",
       "            <td>serviceJourneyId</td>\n",
       "            <td>VARCHAR</td>\n",
       "            <td>YES</td>\n",
       "            <td>None</td>\n",
       "            <td>None</td>\n",
       "            <td>None</td>\n",
       "        </tr>\n",
       "        <tr>\n",
       "            <td>operatorRef</td>\n",
       "            <td>VARCHAR</td>\n",
       "            <td>YES</td>\n",
       "            <td>None</td>\n",
       "            <td>None</td>\n",
       "            <td>None</td>\n",
       "        </tr>\n",
       "        <tr>\n",
       "            <td>extraJourney</td>\n",
       "            <td>BOOLEAN</td>\n",
       "            <td>YES</td>\n",
       "            <td>None</td>\n",
       "            <td>None</td>\n",
       "            <td>None</td>\n",
       "        </tr>\n",
       "        <tr>\n",
       "            <td>journeyCancellation</td>\n",
       "            <td>BOOLEAN</td>\n",
       "            <td>YES</td>\n",
       "            <td>None</td>\n",
       "            <td>None</td>\n",
       "            <td>None</td>\n",
       "        </tr>\n",
       "        <tr>\n",
       "            <td>stopPointRef</td>\n",
       "            <td>VARCHAR</td>\n",
       "            <td>YES</td>\n",
       "            <td>None</td>\n",
       "            <td>None</td>\n",
       "            <td>None</td>\n",
       "        </tr>\n",
       "        <tr>\n",
       "            <td>sequenceNr</td>\n",
       "            <td>BIGINT</td>\n",
       "            <td>YES</td>\n",
       "            <td>None</td>\n",
       "            <td>None</td>\n",
       "            <td>None</td>\n",
       "        </tr>\n",
       "        <tr>\n",
       "            <td>originName</td>\n",
       "            <td>VARCHAR</td>\n",
       "            <td>YES</td>\n",
       "            <td>None</td>\n",
       "            <td>None</td>\n",
       "            <td>None</td>\n",
       "        </tr>\n",
       "        <tr>\n",
       "            <td>destinationName</td>\n",
       "            <td>VARCHAR</td>\n",
       "            <td>YES</td>\n",
       "            <td>None</td>\n",
       "            <td>None</td>\n",
       "            <td>None</td>\n",
       "        </tr>\n",
       "        <tr>\n",
       "            <td>extraCall</td>\n",
       "            <td>BOOLEAN</td>\n",
       "            <td>YES</td>\n",
       "            <td>None</td>\n",
       "            <td>None</td>\n",
       "            <td>None</td>\n",
       "        </tr>\n",
       "        <tr>\n",
       "            <td>stopCancellation</td>\n",
       "            <td>BOOLEAN</td>\n",
       "            <td>YES</td>\n",
       "            <td>None</td>\n",
       "            <td>None</td>\n",
       "            <td>None</td>\n",
       "        </tr>\n",
       "        <tr>\n",
       "            <td>aimedArrivalTime</td>\n",
       "            <td>TIMESTAMP WITH TIME ZONE</td>\n",
       "            <td>YES</td>\n",
       "            <td>None</td>\n",
       "            <td>None</td>\n",
       "            <td>None</td>\n",
       "        </tr>\n",
       "        <tr>\n",
       "            <td>arrivalTime</td>\n",
       "            <td>TIMESTAMP WITH TIME ZONE</td>\n",
       "            <td>YES</td>\n",
       "            <td>None</td>\n",
       "            <td>None</td>\n",
       "            <td>None</td>\n",
       "        </tr>\n",
       "        <tr>\n",
       "            <td>aimedDepartureTime</td>\n",
       "            <td>TIMESTAMP WITH TIME ZONE</td>\n",
       "            <td>YES</td>\n",
       "            <td>None</td>\n",
       "            <td>None</td>\n",
       "            <td>None</td>\n",
       "        </tr>\n",
       "        <tr>\n",
       "            <td>departureTime</td>\n",
       "            <td>TIMESTAMP WITH TIME ZONE</td>\n",
       "            <td>YES</td>\n",
       "            <td>None</td>\n",
       "            <td>None</td>\n",
       "            <td>None</td>\n",
       "        </tr>\n",
       "        <tr>\n",
       "            <td>dataSource</td>\n",
       "            <td>VARCHAR</td>\n",
       "            <td>YES</td>\n",
       "            <td>None</td>\n",
       "            <td>None</td>\n",
       "            <td>None</td>\n",
       "        </tr>\n",
       "        <tr>\n",
       "            <td>dataSourceName</td>\n",
       "            <td>VARCHAR</td>\n",
       "            <td>YES</td>\n",
       "            <td>None</td>\n",
       "            <td>None</td>\n",
       "            <td>None</td>\n",
       "        </tr>\n",
       "        <tr>\n",
       "            <td>estimated</td>\n",
       "            <td>BOOLEAN</td>\n",
       "            <td>YES</td>\n",
       "            <td>None</td>\n",
       "            <td>None</td>\n",
       "            <td>None</td>\n",
       "        </tr>\n",
       "    </tbody>\n",
       "</table>"
      ],
      "text/plain": [
       "+---------------------+--------------------------+------+------+---------+-------+\n",
       "|     column_name     |       column_type        | null | key  | default | extra |\n",
       "+---------------------+--------------------------+------+------+---------+-------+\n",
       "|    recordedAtTime   | TIMESTAMP WITH TIME ZONE | YES  | None |   None  |  None |\n",
       "|       lineRef       |         VARCHAR          | YES  | None |   None  |  None |\n",
       "|     directionRef    |         VARCHAR          | YES  | None |   None  |  None |\n",
       "|   serviceJourneyId  |         VARCHAR          | YES  | None |   None  |  None |\n",
       "|     operatorRef     |         VARCHAR          | YES  | None |   None  |  None |\n",
       "|     extraJourney    |         BOOLEAN          | YES  | None |   None  |  None |\n",
       "| journeyCancellation |         BOOLEAN          | YES  | None |   None  |  None |\n",
       "|     stopPointRef    |         VARCHAR          | YES  | None |   None  |  None |\n",
       "|      sequenceNr     |          BIGINT          | YES  | None |   None  |  None |\n",
       "|      originName     |         VARCHAR          | YES  | None |   None  |  None |\n",
       "|   destinationName   |         VARCHAR          | YES  | None |   None  |  None |\n",
       "|      extraCall      |         BOOLEAN          | YES  | None |   None  |  None |\n",
       "|   stopCancellation  |         BOOLEAN          | YES  | None |   None  |  None |\n",
       "|   aimedArrivalTime  | TIMESTAMP WITH TIME ZONE | YES  | None |   None  |  None |\n",
       "|     arrivalTime     | TIMESTAMP WITH TIME ZONE | YES  | None |   None  |  None |\n",
       "|  aimedDepartureTime | TIMESTAMP WITH TIME ZONE | YES  | None |   None  |  None |\n",
       "|    departureTime    | TIMESTAMP WITH TIME ZONE | YES  | None |   None  |  None |\n",
       "|      dataSource     |         VARCHAR          | YES  | None |   None  |  None |\n",
       "|    dataSourceName   |         VARCHAR          | YES  | None |   None  |  None |\n",
       "|      estimated      |         BOOLEAN          | YES  | None |   None  |  None |\n",
       "+---------------------+--------------------------+------+------+---------+-------+"
      ]
     },
     "execution_count": 1,
     "metadata": {},
     "output_type": "execute_result"
    }
   ],
   "source": [
    "import numpy as np\n",
    "import pandas as pd\n",
    "import duckdb\n",
    "import seaborn as sns\n",
    "# Set up some styling for the visual stuff\n",
    "sns.set_theme(\n",
    "    style='whitegrid', rc={\n",
    "        'figure.figsize': (12, 8),\n",
    "        'figure.frameon': False,\n",
    "        'legend.frameon': False\n",
    "    }\n",
    ")\n",
    "\n",
    "s3_bucket = 'https://kaaveland-bus-eta-data.hel1.your-objectstorage.com'\n",
    "\n",
    "db = duckdb.connect(':memory:')\n",
    "\n",
    "%load_ext sql\n",
    "%config SqlMagic.displaylimit=50\n",
    "%sql db --alias duckdb\n",
    "\n",
    "%sql create or replace table arrivals as from read_parquet('{{s3_bucket}}/entur_realtime.parquet');\n",
    "%sql describe arrivals;"
   ]
  },
  {
   "cell_type": "markdown",
   "id": "b3b8d30b5ac8841c",
   "metadata": {},
   "source": [
    "Understanding the data:\n",
    "\n",
    "Each row in this table is a recording of some vehicle arriving at some stop. Here are some important columns:\n",
    "\n",
    "1. `serviceJourneyId` is the ID of this particular journey. Each arrival at another stop by the vehicle on the same journey reuses this ID, but will have a bigger `sequenceNr`.\n",
    "2. `lineRef` refers to which particular line that the journey takes plane on. There are variations within a line.\n",
    "3. `directionRef` is one obvious way in which lines can vary. The line can be headed into town or out from town, for example.\n",
    "4. `originName` and `destinationName` is another way in which lines can vary. I've found that these aren't always reliable, though:"
   ]
  },
  {
   "cell_type": "code",
   "execution_count": 2,
   "id": "d737f238eb8516f2",
   "metadata": {
    "ExecuteTime": {
     "end_time": "2025-04-25T21:33:14.819735Z",
     "start_time": "2025-04-25T21:33:14.813070Z"
    }
   },
   "outputs": [
    {
     "data": {
      "text/html": [
       "<span style=\"None\">Running query in &#x27;duckdb&#x27;</span>"
      ],
      "text/plain": [
       "Running query in 'duckdb'"
      ]
     },
     "metadata": {},
     "output_type": "display_data"
    },
    {
     "data": {
      "text/html": [
       "<table>\n",
       "    <thead>\n",
       "        <tr>\n",
       "            <th>missing_origin</th>\n",
       "            <th>missing_destination</th>\n",
       "        </tr>\n",
       "    </thead>\n",
       "    <tbody>\n",
       "        <tr>\n",
       "            <td>75</td>\n",
       "            <td>80</td>\n",
       "        </tr>\n",
       "    </tbody>\n",
       "</table>"
      ],
      "text/plain": [
       "+----------------+---------------------+\n",
       "| missing_origin | missing_destination |\n",
       "+----------------+---------------------+\n",
       "|       75       |          80         |\n",
       "+----------------+---------------------+"
      ]
     },
     "execution_count": 2,
     "metadata": {},
     "output_type": "execute_result"
    }
   ],
   "source": [
    "%%sql\n",
    "select\n",
    "  (100 * mean(originName is null :: int)) :: int as missing_origin,\n",
    "  (100 * mean(destinationName is null :: int)) :: int as missing_destination\n",
    "from arrivals;"
   ]
  },
  {
   "cell_type": "markdown",
   "id": "c3f736362fe651b2",
   "metadata": {},
   "source": [
    "In fact, `originName` and `destinationName` are missing most of the time. That's okay, because we can find out by taking the first and last `stopPointRef` in each journey by `sequenceNr` to find out what they really are.\n",
    "\n",
    "There are also some time stamp fields that are interesting:\n",
    "\n",
    "- `aimedArrivalTime`, `arrivalTime` - the planned and actual arrival time for the journey to arrive at `stopPointRef`. The very first stop in each journey is missing these.\n",
    "- `aimedDepartureTime`, `departureTime` - the planned and actual departure time for the journey to depart `stopPointRef`. The very last stop in each journey is missing these.\n",
    "\n",
    "As a data quality thing, I'm interesting in finding out what the consequence of `journeyCancellation`, `stopCancellation` or `extraCall` are. Let's take a look at each of them in turn:"
   ]
  },
  {
   "cell_type": "code",
   "execution_count": 3,
   "id": "b9ec38032bebeb55",
   "metadata": {
    "ExecuteTime": {
     "end_time": "2025-04-25T21:33:14.867807Z",
     "start_time": "2025-04-25T21:33:14.833498Z"
    }
   },
   "outputs": [
    {
     "data": {
      "text/html": [
       "<span style=\"None\">Running query in &#x27;duckdb&#x27;</span>"
      ],
      "text/plain": [
       "Running query in 'duckdb'"
      ]
     },
     "metadata": {},
     "output_type": "display_data"
    },
    {
     "data": {
      "text/html": [
       "<table>\n",
       "    <thead>\n",
       "        <tr>\n",
       "            <th>recordedAtTime</th>\n",
       "            <th>lineRef</th>\n",
       "            <th>directionRef</th>\n",
       "            <th>serviceJourneyId</th>\n",
       "            <th>operatorRef</th>\n",
       "            <th>extraJourney</th>\n",
       "            <th>journeyCancellation</th>\n",
       "            <th>stopPointRef</th>\n",
       "            <th>sequenceNr</th>\n",
       "            <th>originName</th>\n",
       "            <th>destinationName</th>\n",
       "            <th>extraCall</th>\n",
       "            <th>stopCancellation</th>\n",
       "            <th>aimedArrivalTime</th>\n",
       "            <th>arrivalTime</th>\n",
       "            <th>aimedDepartureTime</th>\n",
       "            <th>departureTime</th>\n",
       "            <th>dataSource</th>\n",
       "            <th>dataSourceName</th>\n",
       "            <th>estimated</th>\n",
       "        </tr>\n",
       "    </thead>\n",
       "    <tbody>\n",
       "        <tr>\n",
       "            <td>2025-04-20 07:26:51.383266+02:00</td>\n",
       "            <td>MOR:Line:1070</td>\n",
       "            <td>2</td>\n",
       "            <td>MOR:ServiceJourney:1070_709_9150000025468954</td>\n",
       "            <td>MOR:Operator:259</td>\n",
       "            <td>False</td>\n",
       "            <td>True</td>\n",
       "            <td>NSR:Quay:68112</td>\n",
       "            <td>1</td>\n",
       "            <td>None</td>\n",
       "            <td>None</td>\n",
       "            <td>False</td>\n",
       "            <td>False</td>\n",
       "            <td>2025-04-20 07:35:00+02:00</td>\n",
       "            <td>2025-04-20 07:35:00+02:00</td>\n",
       "            <td>2025-04-20 07:35:00+02:00</td>\n",
       "            <td>2025-04-20 07:35:00+02:00</td>\n",
       "            <td>MOR</td>\n",
       "            <td>FRAM</td>\n",
       "            <td>True</td>\n",
       "        </tr>\n",
       "        <tr>\n",
       "            <td>2025-04-20 07:26:51.383266+02:00</td>\n",
       "            <td>MOR:Line:1070</td>\n",
       "            <td>2</td>\n",
       "            <td>MOR:ServiceJourney:1070_709_9150000025468954</td>\n",
       "            <td>MOR:Operator:259</td>\n",
       "            <td>False</td>\n",
       "            <td>True</td>\n",
       "            <td>NSR:Quay:69465</td>\n",
       "            <td>2</td>\n",
       "            <td>None</td>\n",
       "            <td>None</td>\n",
       "            <td>False</td>\n",
       "            <td>False</td>\n",
       "            <td>2025-04-20 08:08:00+02:00</td>\n",
       "            <td>2025-04-20 08:08:00+02:00</td>\n",
       "            <td>None</td>\n",
       "            <td>None</td>\n",
       "            <td>MOR</td>\n",
       "            <td>FRAM</td>\n",
       "            <td>True</td>\n",
       "        </tr>\n",
       "        <tr>\n",
       "            <td>2025-04-20 08:21:24.005327+02:00</td>\n",
       "            <td>MOR:Line:1070</td>\n",
       "            <td>1</td>\n",
       "            <td>MOR:ServiceJourney:1070_712_9150000025465740</td>\n",
       "            <td>MOR:Operator:259</td>\n",
       "            <td>False</td>\n",
       "            <td>True</td>\n",
       "            <td>NSR:Quay:69465</td>\n",
       "            <td>1</td>\n",
       "            <td>None</td>\n",
       "            <td>None</td>\n",
       "            <td>False</td>\n",
       "            <td>False</td>\n",
       "            <td>2025-04-20 08:20:00+02:00</td>\n",
       "            <td>2025-04-20 08:20:00+02:00</td>\n",
       "            <td>2025-04-20 08:20:00+02:00</td>\n",
       "            <td>2025-04-20 08:20:00+02:00</td>\n",
       "            <td>MOR</td>\n",
       "            <td>FRAM</td>\n",
       "            <td>True</td>\n",
       "        </tr>\n",
       "        <tr>\n",
       "            <td>2025-04-20 08:21:24.005327+02:00</td>\n",
       "            <td>MOR:Line:1070</td>\n",
       "            <td>1</td>\n",
       "            <td>MOR:ServiceJourney:1070_712_9150000025465740</td>\n",
       "            <td>MOR:Operator:259</td>\n",
       "            <td>False</td>\n",
       "            <td>True</td>\n",
       "            <td>NSR:Quay:68112</td>\n",
       "            <td>2</td>\n",
       "            <td>None</td>\n",
       "            <td>None</td>\n",
       "            <td>False</td>\n",
       "            <td>False</td>\n",
       "            <td>2025-04-20 08:53:00+02:00</td>\n",
       "            <td>2025-04-20 08:53:00+02:00</td>\n",
       "            <td>None</td>\n",
       "            <td>None</td>\n",
       "            <td>MOR</td>\n",
       "            <td>FRAM</td>\n",
       "            <td>True</td>\n",
       "        </tr>\n",
       "        <tr>\n",
       "            <td>2025-04-20 06:13:58.035067+02:00</td>\n",
       "            <td>SKY:Line:1018</td>\n",
       "            <td>inbound</td>\n",
       "            <td>SKY:ServiceJourney:1018-182269-17571266</td>\n",
       "            <td>SKY:Operator:TORGH</td>\n",
       "            <td>False</td>\n",
       "            <td>True</td>\n",
       "            <td>NSR:Quay:100076</td>\n",
       "            <td>1</td>\n",
       "            <td>None</td>\n",
       "            <td>None</td>\n",
       "            <td>False</td>\n",
       "            <td>False</td>\n",
       "            <td>None</td>\n",
       "            <td>None</td>\n",
       "            <td>2025-04-20 05:40:00+02:00</td>\n",
       "            <td>2025-04-20 05:40:00+02:00</td>\n",
       "            <td>GCO</td>\n",
       "            <td>None</td>\n",
       "            <td>True</td>\n",
       "        </tr>\n",
       "        <tr>\n",
       "            <td>2025-04-20 06:13:58.035067+02:00</td>\n",
       "            <td>SKY:Line:1018</td>\n",
       "            <td>inbound</td>\n",
       "            <td>SKY:ServiceJourney:1018-182269-17571266</td>\n",
       "            <td>SKY:Operator:TORGH</td>\n",
       "            <td>False</td>\n",
       "            <td>True</td>\n",
       "            <td>NSR:Quay:99988</td>\n",
       "            <td>2</td>\n",
       "            <td>None</td>\n",
       "            <td>None</td>\n",
       "            <td>False</td>\n",
       "            <td>False</td>\n",
       "            <td>2025-04-20 06:25:00+02:00</td>\n",
       "            <td>2025-04-20 06:25:00+02:00</td>\n",
       "            <td>None</td>\n",
       "            <td>None</td>\n",
       "            <td>GCO</td>\n",
       "            <td>None</td>\n",
       "            <td>True</td>\n",
       "        </tr>\n",
       "        <tr>\n",
       "            <td>2025-04-20 06:13:58.035926+02:00</td>\n",
       "            <td>SKY:Line:1018</td>\n",
       "            <td>outbound</td>\n",
       "            <td>SKY:ServiceJourney:1018-182269-17571295</td>\n",
       "            <td>SKY:Operator:TORGH</td>\n",
       "            <td>False</td>\n",
       "            <td>True</td>\n",
       "            <td>NSR:Quay:99988</td>\n",
       "            <td>1</td>\n",
       "            <td>None</td>\n",
       "            <td>None</td>\n",
       "            <td>False</td>\n",
       "            <td>False</td>\n",
       "            <td>None</td>\n",
       "            <td>None</td>\n",
       "            <td>2025-04-20 06:30:00+02:00</td>\n",
       "            <td>2025-04-20 06:30:00+02:00</td>\n",
       "            <td>GCO</td>\n",
       "            <td>None</td>\n",
       "            <td>True</td>\n",
       "        </tr>\n",
       "        <tr>\n",
       "            <td>2025-04-20 06:13:58.035926+02:00</td>\n",
       "            <td>SKY:Line:1018</td>\n",
       "            <td>outbound</td>\n",
       "            <td>SKY:ServiceJourney:1018-182269-17571295</td>\n",
       "            <td>SKY:Operator:TORGH</td>\n",
       "            <td>False</td>\n",
       "            <td>True</td>\n",
       "            <td>NSR:Quay:100076</td>\n",
       "            <td>2</td>\n",
       "            <td>None</td>\n",
       "            <td>None</td>\n",
       "            <td>False</td>\n",
       "            <td>False</td>\n",
       "            <td>2025-04-20 07:15:00+02:00</td>\n",
       "            <td>2025-04-20 07:15:00+02:00</td>\n",
       "            <td>None</td>\n",
       "            <td>None</td>\n",
       "            <td>GCO</td>\n",
       "            <td>None</td>\n",
       "            <td>True</td>\n",
       "        </tr>\n",
       "        <tr>\n",
       "            <td>2025-04-20 16:50:16.101760+02:00</td>\n",
       "            <td>SOF:Line:3501_69</td>\n",
       "            <td>inbound</td>\n",
       "            <td>SOF:ServiceJourney:1045_204_1250_69</td>\n",
       "            <td>SOF:Operator:996</td>\n",
       "            <td>False</td>\n",
       "            <td>True</td>\n",
       "            <td>NSR:Quay:99715</td>\n",
       "            <td>1</td>\n",
       "            <td>None</td>\n",
       "            <td>None</td>\n",
       "            <td>False</td>\n",
       "            <td>False</td>\n",
       "            <td>None</td>\n",
       "            <td>None</td>\n",
       "            <td>2025-04-20 17:10:00+02:00</td>\n",
       "            <td>2025-04-20 17:10:00+02:00</td>\n",
       "            <td>GCO</td>\n",
       "            <td>None</td>\n",
       "            <td>True</td>\n",
       "        </tr>\n",
       "        <tr>\n",
       "            <td>2025-04-20 16:50:16.101760+02:00</td>\n",
       "            <td>SOF:Line:3501_69</td>\n",
       "            <td>inbound</td>\n",
       "            <td>SOF:ServiceJourney:1045_204_1250_69</td>\n",
       "            <td>SOF:Operator:996</td>\n",
       "            <td>False</td>\n",
       "            <td>True</td>\n",
       "            <td>NSR:Quay:64480</td>\n",
       "            <td>2</td>\n",
       "            <td>None</td>\n",
       "            <td>None</td>\n",
       "            <td>False</td>\n",
       "            <td>False</td>\n",
       "            <td>2025-04-20 17:30:00+02:00</td>\n",
       "            <td>2025-04-20 17:30:00+02:00</td>\n",
       "            <td>None</td>\n",
       "            <td>None</td>\n",
       "            <td>GCO</td>\n",
       "            <td>None</td>\n",
       "            <td>True</td>\n",
       "        </tr>\n",
       "    </tbody>\n",
       "</table>"
      ],
      "text/plain": [
       "+----------------------------------+------------------+--------------+----------------------------------------------+--------------------+--------------+---------------------+-----------------+------------+------------+-----------------+-----------+------------------+---------------------------+---------------------------+---------------------------+---------------------------+------------+----------------+-----------+\n",
       "|          recordedAtTime          |     lineRef      | directionRef |               serviceJourneyId               |    operatorRef     | extraJourney | journeyCancellation |   stopPointRef  | sequenceNr | originName | destinationName | extraCall | stopCancellation |      aimedArrivalTime     |        arrivalTime        |     aimedDepartureTime    |       departureTime       | dataSource | dataSourceName | estimated |\n",
       "+----------------------------------+------------------+--------------+----------------------------------------------+--------------------+--------------+---------------------+-----------------+------------+------------+-----------------+-----------+------------------+---------------------------+---------------------------+---------------------------+---------------------------+------------+----------------+-----------+\n",
       "| 2025-04-20 07:26:51.383266+02:00 |  MOR:Line:1070   |      2       | MOR:ServiceJourney:1070_709_9150000025468954 |  MOR:Operator:259  |    False     |         True        |  NSR:Quay:68112 |     1      |    None    |       None      |   False   |      False       | 2025-04-20 07:35:00+02:00 | 2025-04-20 07:35:00+02:00 | 2025-04-20 07:35:00+02:00 | 2025-04-20 07:35:00+02:00 |    MOR     |      FRAM      |    True   |\n",
       "| 2025-04-20 07:26:51.383266+02:00 |  MOR:Line:1070   |      2       | MOR:ServiceJourney:1070_709_9150000025468954 |  MOR:Operator:259  |    False     |         True        |  NSR:Quay:69465 |     2      |    None    |       None      |   False   |      False       | 2025-04-20 08:08:00+02:00 | 2025-04-20 08:08:00+02:00 |            None           |            None           |    MOR     |      FRAM      |    True   |\n",
       "| 2025-04-20 08:21:24.005327+02:00 |  MOR:Line:1070   |      1       | MOR:ServiceJourney:1070_712_9150000025465740 |  MOR:Operator:259  |    False     |         True        |  NSR:Quay:69465 |     1      |    None    |       None      |   False   |      False       | 2025-04-20 08:20:00+02:00 | 2025-04-20 08:20:00+02:00 | 2025-04-20 08:20:00+02:00 | 2025-04-20 08:20:00+02:00 |    MOR     |      FRAM      |    True   |\n",
       "| 2025-04-20 08:21:24.005327+02:00 |  MOR:Line:1070   |      1       | MOR:ServiceJourney:1070_712_9150000025465740 |  MOR:Operator:259  |    False     |         True        |  NSR:Quay:68112 |     2      |    None    |       None      |   False   |      False       | 2025-04-20 08:53:00+02:00 | 2025-04-20 08:53:00+02:00 |            None           |            None           |    MOR     |      FRAM      |    True   |\n",
       "| 2025-04-20 06:13:58.035067+02:00 |  SKY:Line:1018   |   inbound    |   SKY:ServiceJourney:1018-182269-17571266    | SKY:Operator:TORGH |    False     |         True        | NSR:Quay:100076 |     1      |    None    |       None      |   False   |      False       |            None           |            None           | 2025-04-20 05:40:00+02:00 | 2025-04-20 05:40:00+02:00 |    GCO     |      None      |    True   |\n",
       "| 2025-04-20 06:13:58.035067+02:00 |  SKY:Line:1018   |   inbound    |   SKY:ServiceJourney:1018-182269-17571266    | SKY:Operator:TORGH |    False     |         True        |  NSR:Quay:99988 |     2      |    None    |       None      |   False   |      False       | 2025-04-20 06:25:00+02:00 | 2025-04-20 06:25:00+02:00 |            None           |            None           |    GCO     |      None      |    True   |\n",
       "| 2025-04-20 06:13:58.035926+02:00 |  SKY:Line:1018   |   outbound   |   SKY:ServiceJourney:1018-182269-17571295    | SKY:Operator:TORGH |    False     |         True        |  NSR:Quay:99988 |     1      |    None    |       None      |   False   |      False       |            None           |            None           | 2025-04-20 06:30:00+02:00 | 2025-04-20 06:30:00+02:00 |    GCO     |      None      |    True   |\n",
       "| 2025-04-20 06:13:58.035926+02:00 |  SKY:Line:1018   |   outbound   |   SKY:ServiceJourney:1018-182269-17571295    | SKY:Operator:TORGH |    False     |         True        | NSR:Quay:100076 |     2      |    None    |       None      |   False   |      False       | 2025-04-20 07:15:00+02:00 | 2025-04-20 07:15:00+02:00 |            None           |            None           |    GCO     |      None      |    True   |\n",
       "| 2025-04-20 16:50:16.101760+02:00 | SOF:Line:3501_69 |   inbound    |     SOF:ServiceJourney:1045_204_1250_69      |  SOF:Operator:996  |    False     |         True        |  NSR:Quay:99715 |     1      |    None    |       None      |   False   |      False       |            None           |            None           | 2025-04-20 17:10:00+02:00 | 2025-04-20 17:10:00+02:00 |    GCO     |      None      |    True   |\n",
       "| 2025-04-20 16:50:16.101760+02:00 | SOF:Line:3501_69 |   inbound    |     SOF:ServiceJourney:1045_204_1250_69      |  SOF:Operator:996  |    False     |         True        |  NSR:Quay:64480 |     2      |    None    |       None      |   False   |      False       | 2025-04-20 17:30:00+02:00 | 2025-04-20 17:30:00+02:00 |            None           |            None           |    GCO     |      None      |    True   |\n",
       "+----------------------------------+------------------+--------------+----------------------------------------------+--------------------+--------------+---------------------+-----------------+------------+------------+-----------------+-----------+------------------+---------------------------+---------------------------+---------------------------+---------------------------+------------+----------------+-----------+"
      ]
     },
     "execution_count": 3,
     "metadata": {},
     "output_type": "execute_result"
    }
   ],
   "source": [
    "%%sql\n",
    "select * from arrivals\n",
    "where journeyCancellation\n",
    "order by serviceJourneyId, sequenceNr\n",
    "limit 10\n"
   ]
  },
  {
   "cell_type": "markdown",
   "id": "f4bc0d2aa3b6a912",
   "metadata": {},
   "source": [
    "At first glance, it looks like if `journeyCancellation`, it means all subsequent stops are cancelled. Let's check if that intuition holds up by checking if we can find a counterexample:"
   ]
  },
  {
   "cell_type": "code",
   "execution_count": 4,
   "id": "9f0575fc796552a8",
   "metadata": {
    "ExecuteTime": {
     "end_time": "2025-04-25T21:33:14.887027Z",
     "start_time": "2025-04-25T21:33:14.875804Z"
    }
   },
   "outputs": [
    {
     "data": {
      "text/html": [
       "<span style=\"None\">Running query in &#x27;duckdb&#x27;</span>"
      ],
      "text/plain": [
       "Running query in 'duckdb'"
      ]
     },
     "metadata": {},
     "output_type": "display_data"
    },
    {
     "data": {
      "text/html": [
       "<table>\n",
       "    <thead>\n",
       "        <tr>\n",
       "            <th>lineRef</th>\n",
       "            <th>serviceJourneyId</th>\n",
       "            <th>cancelledTime</th>\n",
       "            <th>arrivalTime</th>\n",
       "            <th>sequenceNr</th>\n",
       "            <th>sequenceNr_1</th>\n",
       "            <th>estimated</th>\n",
       "        </tr>\n",
       "    </thead>\n",
       "    <tbody>\n",
       "        <tr>\n",
       "            <td>SOF:Line:3501_69</td>\n",
       "            <td>SOF:ServiceJourney:1045_204_1250_69</td>\n",
       "            <td>None</td>\n",
       "            <td>2025-04-20 17:30:00+02:00</td>\n",
       "            <td>1</td>\n",
       "            <td>2</td>\n",
       "            <td>True</td>\n",
       "        </tr>\n",
       "        <tr>\n",
       "            <td>SKY:Line:1018</td>\n",
       "            <td>SKY:ServiceJourney:1018-182269-17571266</td>\n",
       "            <td>None</td>\n",
       "            <td>2025-04-20 06:25:00+02:00</td>\n",
       "            <td>1</td>\n",
       "            <td>2</td>\n",
       "            <td>True</td>\n",
       "        </tr>\n",
       "        <tr>\n",
       "            <td>MOR:Line:1070</td>\n",
       "            <td>MOR:ServiceJourney:1070_709_9150000025468954</td>\n",
       "            <td>2025-04-20 07:35:00+02:00</td>\n",
       "            <td>2025-04-20 08:08:00+02:00</td>\n",
       "            <td>1</td>\n",
       "            <td>2</td>\n",
       "            <td>True</td>\n",
       "        </tr>\n",
       "        <tr>\n",
       "            <td>VYG:Line:R31</td>\n",
       "            <td>VYG:ServiceJourney:43a911d5-f641-4bc1-942f-1c63af09ef71-222-2025-04-20-0</td>\n",
       "            <td>2025-04-20 15:19:00+02:00</td>\n",
       "            <td>2025-04-20 15:28:00+02:00</td>\n",
       "            <td>2</td>\n",
       "            <td>3</td>\n",
       "            <td>True</td>\n",
       "        </tr>\n",
       "        <tr>\n",
       "            <td>VYG:Line:R31</td>\n",
       "            <td>VYG:ServiceJourney:43a911d5-f641-4bc1-942f-1c63af09ef71-222-2025-04-20-0</td>\n",
       "            <td>2025-04-20 15:10:40+02:00</td>\n",
       "            <td>2025-04-20 15:19:00+02:00</td>\n",
       "            <td>1</td>\n",
       "            <td>2</td>\n",
       "            <td>True</td>\n",
       "        </tr>\n",
       "        <tr>\n",
       "            <td>VYG:Line:R31</td>\n",
       "            <td>VYG:ServiceJourney:43a911d5-f641-4bc1-942f-1c63af09ef71-222-2025-04-20-0</td>\n",
       "            <td>2025-04-20 15:10:40+02:00</td>\n",
       "            <td>2025-04-20 15:28:00+02:00</td>\n",
       "            <td>1</td>\n",
       "            <td>3</td>\n",
       "            <td>True</td>\n",
       "        </tr>\n",
       "        <tr>\n",
       "            <td>SKY:Line:1018</td>\n",
       "            <td>SKY:ServiceJourney:1018-182269-17571295</td>\n",
       "            <td>None</td>\n",
       "            <td>2025-04-20 07:15:00+02:00</td>\n",
       "            <td>1</td>\n",
       "            <td>2</td>\n",
       "            <td>True</td>\n",
       "        </tr>\n",
       "        <tr>\n",
       "            <td>MOR:Line:1070</td>\n",
       "            <td>MOR:ServiceJourney:1070_712_9150000025465740</td>\n",
       "            <td>2025-04-20 08:20:00+02:00</td>\n",
       "            <td>2025-04-20 08:53:00+02:00</td>\n",
       "            <td>1</td>\n",
       "            <td>2</td>\n",
       "            <td>True</td>\n",
       "        </tr>\n",
       "        <tr>\n",
       "            <td>SOF:Line:3501_69</td>\n",
       "            <td>SOF:ServiceJourney:1045_270_1247_69</td>\n",
       "            <td>None</td>\n",
       "            <td>2025-04-20 17:00:00+02:00</td>\n",
       "            <td>1</td>\n",
       "            <td>2</td>\n",
       "            <td>True</td>\n",
       "        </tr>\n",
       "    </tbody>\n",
       "</table>"
      ],
      "text/plain": [
       "+------------------+--------------------------------------------------------------------------+---------------------------+---------------------------+------------+--------------+-----------+\n",
       "|     lineRef      |                             serviceJourneyId                             |       cancelledTime       |        arrivalTime        | sequenceNr | sequenceNr_1 | estimated |\n",
       "+------------------+--------------------------------------------------------------------------+---------------------------+---------------------------+------------+--------------+-----------+\n",
       "| SOF:Line:3501_69 |                   SOF:ServiceJourney:1045_204_1250_69                    |            None           | 2025-04-20 17:30:00+02:00 |     1      |      2       |    True   |\n",
       "|  SKY:Line:1018   |                 SKY:ServiceJourney:1018-182269-17571266                  |            None           | 2025-04-20 06:25:00+02:00 |     1      |      2       |    True   |\n",
       "|  MOR:Line:1070   |               MOR:ServiceJourney:1070_709_9150000025468954               | 2025-04-20 07:35:00+02:00 | 2025-04-20 08:08:00+02:00 |     1      |      2       |    True   |\n",
       "|   VYG:Line:R31   | VYG:ServiceJourney:43a911d5-f641-4bc1-942f-1c63af09ef71-222-2025-04-20-0 | 2025-04-20 15:19:00+02:00 | 2025-04-20 15:28:00+02:00 |     2      |      3       |    True   |\n",
       "|   VYG:Line:R31   | VYG:ServiceJourney:43a911d5-f641-4bc1-942f-1c63af09ef71-222-2025-04-20-0 | 2025-04-20 15:10:40+02:00 | 2025-04-20 15:19:00+02:00 |     1      |      2       |    True   |\n",
       "|   VYG:Line:R31   | VYG:ServiceJourney:43a911d5-f641-4bc1-942f-1c63af09ef71-222-2025-04-20-0 | 2025-04-20 15:10:40+02:00 | 2025-04-20 15:28:00+02:00 |     1      |      3       |    True   |\n",
       "|  SKY:Line:1018   |                 SKY:ServiceJourney:1018-182269-17571295                  |            None           | 2025-04-20 07:15:00+02:00 |     1      |      2       |    True   |\n",
       "|  MOR:Line:1070   |               MOR:ServiceJourney:1070_712_9150000025465740               | 2025-04-20 08:20:00+02:00 | 2025-04-20 08:53:00+02:00 |     1      |      2       |    True   |\n",
       "| SOF:Line:3501_69 |                   SOF:ServiceJourney:1045_270_1247_69                    |            None           | 2025-04-20 17:00:00+02:00 |     1      |      2       |    True   |\n",
       "+------------------+--------------------------------------------------------------------------+---------------------------+---------------------------+------------+--------------+-----------+"
      ]
     },
     "execution_count": 4,
     "metadata": {},
     "output_type": "execute_result"
    }
   ],
   "source": [
    "%%sql\n",
    "with cancelled as (\n",
    "     from arrivals where journeyCancellation\n",
    ")\n",
    "from arrivals a join cancelled c\n",
    "     on a.serviceJourneyId = c.serviceJourneyId\n",
    "     and a.sequenceNr > c.sequenceNr\n",
    "select a.lineRef, a.serviceJourneyId, c.arrivalTime as cancelledTime, a.arrivalTime, c.sequenceNr, a.sequenceNr, a.estimated;\n"
   ]
  },
  {
   "cell_type": "markdown",
   "id": "659cd34f6d35a84b",
   "metadata": {},
   "source": [
    "Right, so when `journeyCancellation` the rest of the stops are `estimated`. We should probably ignore all data that has `journeyCancellation` or `estimated`.\n",
    "\n",
    "Let's try to see how `stopCancellation` works:"
   ]
  },
  {
   "cell_type": "code",
   "execution_count": 5,
   "id": "c4c5d7afca3f48a0",
   "metadata": {
    "ExecuteTime": {
     "end_time": "2025-04-25T21:33:14.914033Z",
     "start_time": "2025-04-25T21:33:14.896781Z"
    }
   },
   "outputs": [
    {
     "data": {
      "text/html": [
       "<span style=\"None\">Running query in &#x27;duckdb&#x27;</span>"
      ],
      "text/plain": [
       "Running query in 'duckdb'"
      ]
     },
     "metadata": {},
     "output_type": "display_data"
    },
    {
     "data": {
      "text/html": [
       "<table>\n",
       "    <thead>\n",
       "        <tr>\n",
       "            <th>serviceJourneyId</th>\n",
       "            <th>journeyCancellation</th>\n",
       "            <th>sequenceNr</th>\n",
       "            <th>last_seen</th>\n",
       "            <th>next_seen</th>\n",
       "            <th>arrivalTime</th>\n",
       "            <th>last_seen_time</th>\n",
       "            <th>next_seen_time</th>\n",
       "            <th>last_canceled</th>\n",
       "            <th>next_canceled</th>\n",
       "        </tr>\n",
       "    </thead>\n",
       "    <tbody>\n",
       "        <tr>\n",
       "            <td>ATB:ServiceJourney:70_240826121303111_7002</td>\n",
       "            <td>False</td>\n",
       "            <td>32</td>\n",
       "            <td>None</td>\n",
       "            <td>33</td>\n",
       "            <td>None</td>\n",
       "            <td>None</td>\n",
       "            <td>None</td>\n",
       "            <td>None</td>\n",
       "            <td>True</td>\n",
       "        </tr>\n",
       "        <tr>\n",
       "            <td>ATB:ServiceJourney:70_240826121303111_7002</td>\n",
       "            <td>False</td>\n",
       "            <td>33</td>\n",
       "            <td>32</td>\n",
       "            <td>34</td>\n",
       "            <td>None</td>\n",
       "            <td>None</td>\n",
       "            <td>None</td>\n",
       "            <td>True</td>\n",
       "            <td>True</td>\n",
       "        </tr>\n",
       "        <tr>\n",
       "            <td>ATB:ServiceJourney:70_240826121303111_7002</td>\n",
       "            <td>False</td>\n",
       "            <td>34</td>\n",
       "            <td>33</td>\n",
       "            <td>None</td>\n",
       "            <td>None</td>\n",
       "            <td>None</td>\n",
       "            <td>None</td>\n",
       "            <td>True</td>\n",
       "            <td>None</td>\n",
       "        </tr>\n",
       "        <tr>\n",
       "            <td>FLT:ServiceJourney:1-2614-3752-20250420</td>\n",
       "            <td>False</td>\n",
       "            <td>1</td>\n",
       "            <td>None</td>\n",
       "            <td>2</td>\n",
       "            <td>None</td>\n",
       "            <td>None</td>\n",
       "            <td>None</td>\n",
       "            <td>None</td>\n",
       "            <td>True</td>\n",
       "        </tr>\n",
       "        <tr>\n",
       "            <td>FLT:ServiceJourney:1-2614-3752-20250420</td>\n",
       "            <td>False</td>\n",
       "            <td>2</td>\n",
       "            <td>1</td>\n",
       "            <td>None</td>\n",
       "            <td>None</td>\n",
       "            <td>None</td>\n",
       "            <td>None</td>\n",
       "            <td>True</td>\n",
       "            <td>None</td>\n",
       "        </tr>\n",
       "        <tr>\n",
       "            <td>KOL:ServiceJourney:5200_250221104744502_5004</td>\n",
       "            <td>False</td>\n",
       "            <td>4</td>\n",
       "            <td>None</td>\n",
       "            <td>6</td>\n",
       "            <td>None</td>\n",
       "            <td>None</td>\n",
       "            <td>None</td>\n",
       "            <td>None</td>\n",
       "            <td>True</td>\n",
       "        </tr>\n",
       "        <tr>\n",
       "            <td>KOL:ServiceJourney:5200_250221104744502_5004</td>\n",
       "            <td>False</td>\n",
       "            <td>6</td>\n",
       "            <td>4</td>\n",
       "            <td>10</td>\n",
       "            <td>None</td>\n",
       "            <td>None</td>\n",
       "            <td>None</td>\n",
       "            <td>True</td>\n",
       "            <td>True</td>\n",
       "        </tr>\n",
       "        <tr>\n",
       "            <td>KOL:ServiceJourney:5200_250221104744502_5004</td>\n",
       "            <td>False</td>\n",
       "            <td>10</td>\n",
       "            <td>6</td>\n",
       "            <td>None</td>\n",
       "            <td>None</td>\n",
       "            <td>None</td>\n",
       "            <td>None</td>\n",
       "            <td>True</td>\n",
       "            <td>None</td>\n",
       "        </tr>\n",
       "        <tr>\n",
       "            <td>KOL:ServiceJourney:5200_250221104744529_5011</td>\n",
       "            <td>False</td>\n",
       "            <td>2</td>\n",
       "            <td>None</td>\n",
       "            <td>6</td>\n",
       "            <td>None</td>\n",
       "            <td>None</td>\n",
       "            <td>None</td>\n",
       "            <td>None</td>\n",
       "            <td>True</td>\n",
       "        </tr>\n",
       "        <tr>\n",
       "            <td>KOL:ServiceJourney:5200_250221104744529_5011</td>\n",
       "            <td>False</td>\n",
       "            <td>6</td>\n",
       "            <td>2</td>\n",
       "            <td>7</td>\n",
       "            <td>None</td>\n",
       "            <td>None</td>\n",
       "            <td>None</td>\n",
       "            <td>True</td>\n",
       "            <td>True</td>\n",
       "        </tr>\n",
       "        <tr>\n",
       "            <td>KOL:ServiceJourney:5200_250221104744529_5011</td>\n",
       "            <td>False</td>\n",
       "            <td>7</td>\n",
       "            <td>6</td>\n",
       "            <td>None</td>\n",
       "            <td>None</td>\n",
       "            <td>None</td>\n",
       "            <td>None</td>\n",
       "            <td>True</td>\n",
       "            <td>None</td>\n",
       "        </tr>\n",
       "        <tr>\n",
       "            <td>KOL:ServiceJourney:5200_250221104744545_5020</td>\n",
       "            <td>False</td>\n",
       "            <td>2</td>\n",
       "            <td>None</td>\n",
       "            <td>3</td>\n",
       "            <td>None</td>\n",
       "            <td>None</td>\n",
       "            <td>2025-04-20 03:09:52+02:00</td>\n",
       "            <td>None</td>\n",
       "            <td>True</td>\n",
       "        </tr>\n",
       "        <tr>\n",
       "            <td>KOL:ServiceJourney:5200_250221104744545_5020</td>\n",
       "            <td>False</td>\n",
       "            <td>3</td>\n",
       "            <td>2</td>\n",
       "            <td>4</td>\n",
       "            <td>2025-04-20 03:09:52+02:00</td>\n",
       "            <td>None</td>\n",
       "            <td>None</td>\n",
       "            <td>True</td>\n",
       "            <td>True</td>\n",
       "        </tr>\n",
       "        <tr>\n",
       "            <td>KOL:ServiceJourney:5200_250221104744545_5020</td>\n",
       "            <td>False</td>\n",
       "            <td>4</td>\n",
       "            <td>3</td>\n",
       "            <td>5</td>\n",
       "            <td>None</td>\n",
       "            <td>2025-04-20 03:09:52+02:00</td>\n",
       "            <td>None</td>\n",
       "            <td>True</td>\n",
       "            <td>True</td>\n",
       "        </tr>\n",
       "        <tr>\n",
       "            <td>KOL:ServiceJourney:5200_250221104744545_5020</td>\n",
       "            <td>False</td>\n",
       "            <td>5</td>\n",
       "            <td>4</td>\n",
       "            <td>6</td>\n",
       "            <td>None</td>\n",
       "            <td>None</td>\n",
       "            <td>None</td>\n",
       "            <td>True</td>\n",
       "            <td>True</td>\n",
       "        </tr>\n",
       "        <tr>\n",
       "            <td>KOL:ServiceJourney:5200_250221104744545_5020</td>\n",
       "            <td>False</td>\n",
       "            <td>6</td>\n",
       "            <td>5</td>\n",
       "            <td>7</td>\n",
       "            <td>None</td>\n",
       "            <td>None</td>\n",
       "            <td>None</td>\n",
       "            <td>True</td>\n",
       "            <td>True</td>\n",
       "        </tr>\n",
       "        <tr>\n",
       "            <td>KOL:ServiceJourney:5200_250221104744545_5020</td>\n",
       "            <td>False</td>\n",
       "            <td>7</td>\n",
       "            <td>6</td>\n",
       "            <td>8</td>\n",
       "            <td>None</td>\n",
       "            <td>None</td>\n",
       "            <td>None</td>\n",
       "            <td>True</td>\n",
       "            <td>True</td>\n",
       "        </tr>\n",
       "        <tr>\n",
       "            <td>KOL:ServiceJourney:5200_250221104744545_5020</td>\n",
       "            <td>False</td>\n",
       "            <td>8</td>\n",
       "            <td>7</td>\n",
       "            <td>None</td>\n",
       "            <td>None</td>\n",
       "            <td>None</td>\n",
       "            <td>None</td>\n",
       "            <td>True</td>\n",
       "            <td>None</td>\n",
       "        </tr>\n",
       "        <tr>\n",
       "            <td>KOL:ServiceJourney:5200_250221104744560_5012</td>\n",
       "            <td>False</td>\n",
       "            <td>3</td>\n",
       "            <td>None</td>\n",
       "            <td>8</td>\n",
       "            <td>None</td>\n",
       "            <td>None</td>\n",
       "            <td>None</td>\n",
       "            <td>None</td>\n",
       "            <td>True</td>\n",
       "        </tr>\n",
       "        <tr>\n",
       "            <td>KOL:ServiceJourney:5200_250221104744560_5012</td>\n",
       "            <td>False</td>\n",
       "            <td>8</td>\n",
       "            <td>3</td>\n",
       "            <td>10</td>\n",
       "            <td>None</td>\n",
       "            <td>None</td>\n",
       "            <td>None</td>\n",
       "            <td>True</td>\n",
       "            <td>True</td>\n",
       "        </tr>\n",
       "    </tbody>\n",
       "</table>"
      ],
      "text/plain": [
       "+----------------------------------------------+---------------------+------------+-----------+-----------+---------------------------+---------------------------+---------------------------+---------------+---------------+\n",
       "|               serviceJourneyId               | journeyCancellation | sequenceNr | last_seen | next_seen |        arrivalTime        |       last_seen_time      |       next_seen_time      | last_canceled | next_canceled |\n",
       "+----------------------------------------------+---------------------+------------+-----------+-----------+---------------------------+---------------------------+---------------------------+---------------+---------------+\n",
       "|  ATB:ServiceJourney:70_240826121303111_7002  |        False        |     32     |    None   |     33    |            None           |            None           |            None           |      None     |      True     |\n",
       "|  ATB:ServiceJourney:70_240826121303111_7002  |        False        |     33     |     32    |     34    |            None           |            None           |            None           |      True     |      True     |\n",
       "|  ATB:ServiceJourney:70_240826121303111_7002  |        False        |     34     |     33    |    None   |            None           |            None           |            None           |      True     |      None     |\n",
       "|   FLT:ServiceJourney:1-2614-3752-20250420    |        False        |     1      |    None   |     2     |            None           |            None           |            None           |      None     |      True     |\n",
       "|   FLT:ServiceJourney:1-2614-3752-20250420    |        False        |     2      |     1     |    None   |            None           |            None           |            None           |      True     |      None     |\n",
       "| KOL:ServiceJourney:5200_250221104744502_5004 |        False        |     4      |    None   |     6     |            None           |            None           |            None           |      None     |      True     |\n",
       "| KOL:ServiceJourney:5200_250221104744502_5004 |        False        |     6      |     4     |     10    |            None           |            None           |            None           |      True     |      True     |\n",
       "| KOL:ServiceJourney:5200_250221104744502_5004 |        False        |     10     |     6     |    None   |            None           |            None           |            None           |      True     |      None     |\n",
       "| KOL:ServiceJourney:5200_250221104744529_5011 |        False        |     2      |    None   |     6     |            None           |            None           |            None           |      None     |      True     |\n",
       "| KOL:ServiceJourney:5200_250221104744529_5011 |        False        |     6      |     2     |     7     |            None           |            None           |            None           |      True     |      True     |\n",
       "| KOL:ServiceJourney:5200_250221104744529_5011 |        False        |     7      |     6     |    None   |            None           |            None           |            None           |      True     |      None     |\n",
       "| KOL:ServiceJourney:5200_250221104744545_5020 |        False        |     2      |    None   |     3     |            None           |            None           | 2025-04-20 03:09:52+02:00 |      None     |      True     |\n",
       "| KOL:ServiceJourney:5200_250221104744545_5020 |        False        |     3      |     2     |     4     | 2025-04-20 03:09:52+02:00 |            None           |            None           |      True     |      True     |\n",
       "| KOL:ServiceJourney:5200_250221104744545_5020 |        False        |     4      |     3     |     5     |            None           | 2025-04-20 03:09:52+02:00 |            None           |      True     |      True     |\n",
       "| KOL:ServiceJourney:5200_250221104744545_5020 |        False        |     5      |     4     |     6     |            None           |            None           |            None           |      True     |      True     |\n",
       "| KOL:ServiceJourney:5200_250221104744545_5020 |        False        |     6      |     5     |     7     |            None           |            None           |            None           |      True     |      True     |\n",
       "| KOL:ServiceJourney:5200_250221104744545_5020 |        False        |     7      |     6     |     8     |            None           |            None           |            None           |      True     |      True     |\n",
       "| KOL:ServiceJourney:5200_250221104744545_5020 |        False        |     8      |     7     |    None   |            None           |            None           |            None           |      True     |      None     |\n",
       "| KOL:ServiceJourney:5200_250221104744560_5012 |        False        |     3      |    None   |     8     |            None           |            None           |            None           |      None     |      True     |\n",
       "| KOL:ServiceJourney:5200_250221104744560_5012 |        False        |     8      |     3     |     10    |            None           |            None           |            None           |      True     |      True     |\n",
       "+----------------------------------------------+---------------------+------------+-----------+-----------+---------------------------+---------------------------+---------------------------+---------------+---------------+"
      ]
     },
     "execution_count": 5,
     "metadata": {},
     "output_type": "execute_result"
    }
   ],
   "source": [
    "%%sql\n",
    "from arrivals\n",
    "select\n",
    "    serviceJourneyId,\n",
    "    journeyCancellation,\n",
    "    sequenceNr,\n",
    "    lag(sequenceNr) over w as last_seen,\n",
    "    lead(sequenceNr) over w as next_seen,\n",
    "    arrivalTime,\n",
    "    lag(arrivalTime) over w as last_seen_time,\n",
    "    lead(arrivalTime) over w as next_seen_time,\n",
    "    lag(stopCancellation) over w as last_canceled,\n",
    "    lead(stopCancellation) over w as next_canceled\n",
    "where stopCancellation and not estimated\n",
    "window w as (partition by (serviceJourneyId) order by sequenceNr)\n",
    "qualify last_seen is not null or next_seen is not null\n",
    "order by serviceJourneyId, sequenceNr\n",
    "limit 20;"
   ]
  },
  {
   "cell_type": "markdown",
   "id": "de12adbe9c31c07e",
   "metadata": {},
   "source": [
    "Right, this data looks sketchy. We should probably not include any registrations past a point where any arrival has `stopCancellation`."
   ]
  },
  {
   "cell_type": "code",
   "execution_count": 6,
   "id": "d84885dc32678851",
   "metadata": {
    "ExecuteTime": {
     "end_time": "2025-04-25T21:33:14.930544Z",
     "start_time": "2025-04-25T21:33:14.920857Z"
    }
   },
   "outputs": [
    {
     "data": {
      "text/html": [
       "<span style=\"None\">Running query in &#x27;duckdb&#x27;</span>"
      ],
      "text/plain": [
       "Running query in 'duckdb'"
      ]
     },
     "metadata": {},
     "output_type": "display_data"
    },
    {
     "data": {
      "text/html": [
       "<table>\n",
       "    <thead>\n",
       "        <tr>\n",
       "            <th>recordedAtTime</th>\n",
       "            <th>lineRef</th>\n",
       "            <th>directionRef</th>\n",
       "            <th>serviceJourneyId</th>\n",
       "            <th>operatorRef</th>\n",
       "            <th>extraJourney</th>\n",
       "            <th>journeyCancellation</th>\n",
       "            <th>stopPointRef</th>\n",
       "            <th>sequenceNr</th>\n",
       "            <th>originName</th>\n",
       "            <th>destinationName</th>\n",
       "            <th>extraCall</th>\n",
       "            <th>stopCancellation</th>\n",
       "            <th>aimedArrivalTime</th>\n",
       "            <th>arrivalTime</th>\n",
       "            <th>aimedDepartureTime</th>\n",
       "            <th>departureTime</th>\n",
       "            <th>dataSource</th>\n",
       "            <th>dataSourceName</th>\n",
       "            <th>estimated</th>\n",
       "        </tr>\n",
       "    </thead>\n",
       "    <tbody>\n",
       "    </tbody>\n",
       "</table>"
      ],
      "text/plain": [
       "+----------------+---------+--------------+------------------+-------------+--------------+---------------------+--------------+------------+------------+-----------------+-----------+------------------+------------------+-------------+--------------------+---------------+------------+----------------+-----------+\n",
       "| recordedAtTime | lineRef | directionRef | serviceJourneyId | operatorRef | extraJourney | journeyCancellation | stopPointRef | sequenceNr | originName | destinationName | extraCall | stopCancellation | aimedArrivalTime | arrivalTime | aimedDepartureTime | departureTime | dataSource | dataSourceName | estimated |\n",
       "+----------------+---------+--------------+------------------+-------------+--------------+---------------------+--------------+------------+------------+-----------------+-----------+------------------+------------------+-------------+--------------------+---------------+------------+----------------+-----------+\n",
       "+----------------+---------+--------------+------------------+-------------+--------------+---------------------+--------------+------------+------------+-----------------+-----------+------------------+------------------+-------------+--------------------+---------------+------------+----------------+-----------+"
      ]
     },
     "execution_count": 6,
     "metadata": {},
     "output_type": "execute_result"
    }
   ],
   "source": [
    "%%sql\n",
    "from arrivals\n",
    "select *\n",
    "where extraCall;"
   ]
  },
  {
   "cell_type": "markdown",
   "id": "9cbb90de1d231dc5",
   "metadata": {},
   "source": [
    "There are no `extraCall` this day.\n",
    "\n",
    "## Summary so far\n",
    "\n",
    "We use only data where none of these are true:\n",
    "\n",
    "- `stopCancellation`, `estimated`, `journeyCancellation`, `extraCall`\n",
    "\n",
    "## Establishing normal schedules and routes\n",
    "\n",
    "We've found that we can't use the existing `origin` and `destination` columns, but we can create our own. Let's check if we get sensible results."
   ]
  },
  {
   "cell_type": "code",
   "execution_count": 7,
   "id": "9b1bee675942f0bf",
   "metadata": {
    "ExecuteTime": {
     "end_time": "2025-04-25T21:33:14.964896Z",
     "start_time": "2025-04-25T21:33:14.946563Z"
    }
   },
   "outputs": [
    {
     "data": {
      "text/html": [
       "<span style=\"None\">Running query in &#x27;duckdb&#x27;</span>"
      ],
      "text/plain": [
       "Running query in 'duckdb'"
      ]
     },
     "metadata": {},
     "output_type": "display_data"
    },
    {
     "data": {
      "text/html": [
       "<table>\n",
       "    <thead>\n",
       "        <tr>\n",
       "            <th>lineRef</th>\n",
       "            <th>directionRef</th>\n",
       "            <th>origin</th>\n",
       "            <th>destination</th>\n",
       "        </tr>\n",
       "    </thead>\n",
       "    <tbody>\n",
       "        <tr>\n",
       "            <td>ATB:Line:2_10</td>\n",
       "            <td>Inbound</td>\n",
       "            <td>NSR:Quay:103580</td>\n",
       "            <td>NSR:Quay:73483</td>\n",
       "        </tr>\n",
       "        <tr>\n",
       "            <td>ATB:Line:2_10</td>\n",
       "            <td>Outbound</td>\n",
       "            <td>NSR:Quay:73482</td>\n",
       "            <td>NSR:Quay:103580</td>\n",
       "        </tr>\n",
       "    </tbody>\n",
       "</table>"
      ],
      "text/plain": [
       "+---------------+--------------+-----------------+-----------------+\n",
       "|    lineRef    | directionRef |      origin     |   destination   |\n",
       "+---------------+--------------+-----------------+-----------------+\n",
       "| ATB:Line:2_10 |   Inbound    | NSR:Quay:103580 |  NSR:Quay:73483 |\n",
       "| ATB:Line:2_10 |   Outbound   |  NSR:Quay:73482 | NSR:Quay:103580 |\n",
       "+---------------+--------------+-----------------+-----------------+"
      ]
     },
     "execution_count": 7,
     "metadata": {},
     "output_type": "execute_result"
    }
   ],
   "source": [
    "%%sql\n",
    "\n",
    "create or replace table routes as\n",
    "from arrivals\n",
    "select\n",
    "    lineRef,\n",
    "    directionRef,\n",
    "    first(stopPointRef order by sequenceNr) as origin ,\n",
    "    last(stopPointRef order by sequenceNr) as destination\n",
    "group by lineRef, directionRef\n",
    "having not (bool_or(extraCall) or bool_or(estimated) or bool_or(journeyCancellation) or bool_or(stopCancellation));\n",
    "\n",
    "from routes\n",
    "where lineRef = 'ATB:Line:2_10';"
   ]
  },
  {
   "cell_type": "code",
   "execution_count": 8,
   "id": "acc85b1cc3080ee8",
   "metadata": {
    "ExecuteTime": {
     "end_time": "2025-04-25T21:33:14.978304Z",
     "start_time": "2025-04-25T21:33:14.973552Z"
    }
   },
   "outputs": [
    {
     "data": {
      "text/html": [
       "<span style=\"None\">Running query in &#x27;duckdb&#x27;</span>"
      ],
      "text/plain": [
       "Running query in 'duckdb'"
      ]
     },
     "metadata": {},
     "output_type": "display_data"
    },
    {
     "data": {
      "text/html": [
       "<table>\n",
       "    <thead>\n",
       "        <tr>\n",
       "            <th>lineRef</th>\n",
       "            <th>directionRef</th>\n",
       "            <th>origin</th>\n",
       "            <th>destination</th>\n",
       "        </tr>\n",
       "    </thead>\n",
       "    <tbody>\n",
       "        <tr>\n",
       "            <td>ATB:Line:2_14</td>\n",
       "            <td>Outbound</td>\n",
       "            <td>NSR:Quay:75300</td>\n",
       "            <td>NSR:Quay:73036</td>\n",
       "        </tr>\n",
       "        <tr>\n",
       "            <td>ATB:Line:2_14</td>\n",
       "            <td>Inbound</td>\n",
       "            <td>NSR:Quay:73038</td>\n",
       "            <td>NSR:Quay:71982</td>\n",
       "        </tr>\n",
       "    </tbody>\n",
       "</table>"
      ],
      "text/plain": [
       "+---------------+--------------+----------------+----------------+\n",
       "|    lineRef    | directionRef |     origin     |  destination   |\n",
       "+---------------+--------------+----------------+----------------+\n",
       "| ATB:Line:2_14 |   Outbound   | NSR:Quay:75300 | NSR:Quay:73036 |\n",
       "| ATB:Line:2_14 |   Inbound    | NSR:Quay:73038 | NSR:Quay:71982 |\n",
       "+---------------+--------------+----------------+----------------+"
      ]
     },
     "execution_count": 8,
     "metadata": {},
     "output_type": "execute_result"
    }
   ],
   "source": [
    "%%sql\n",
    "\n",
    "from routes\n",
    "where lineRef = 'ATB:Line:2_14';"
   ]
  },
  {
   "cell_type": "code",
   "execution_count": 9,
   "id": "63a754c0e2c4db93",
   "metadata": {
    "ExecuteTime": {
     "end_time": "2025-04-25T21:33:14.995029Z",
     "start_time": "2025-04-25T21:33:14.988829Z"
    }
   },
   "outputs": [
    {
     "data": {
      "text/html": [
       "<span style=\"None\">Running query in &#x27;duckdb&#x27;</span>"
      ],
      "text/plain": [
       "Running query in 'duckdb'"
      ]
     },
     "metadata": {},
     "output_type": "display_data"
    },
    {
     "data": {
      "text/html": [
       "<table>\n",
       "    <thead>\n",
       "        <tr>\n",
       "            <th>lineRef</th>\n",
       "            <th>directionRef</th>\n",
       "            <th>count_star()</th>\n",
       "        </tr>\n",
       "    </thead>\n",
       "    <tbody>\n",
       "    </tbody>\n",
       "</table>"
      ],
      "text/plain": [
       "+---------+--------------+--------------+\n",
       "| lineRef | directionRef | count_star() |\n",
       "+---------+--------------+--------------+\n",
       "+---------+--------------+--------------+"
      ]
     },
     "execution_count": 9,
     "metadata": {},
     "output_type": "execute_result"
    }
   ],
   "source": [
    "%%sql\n",
    "from routes\n",
    "select\n",
    "  lineRef,\n",
    "  directionRef,\n",
    "  count(*),\n",
    "group by lineRef, directionRef\n",
    "having count(*) > 1"
   ]
  },
  {
   "cell_type": "markdown",
   "id": "6fb97e818de8d1ff",
   "metadata": {},
   "source": [
    "At first glance, it looks like we could probably use this method to set the origin and destination for each route correctly. Dare we also hope that each transit on a route with a direction visited the same stops in the same order?"
   ]
  },
  {
   "cell_type": "code",
   "execution_count": 10,
   "id": "5b38a7638e78839b",
   "metadata": {
    "ExecuteTime": {
     "end_time": "2025-04-25T21:33:15.038228Z",
     "start_time": "2025-04-25T21:33:15.004692Z"
    }
   },
   "outputs": [
    {
     "data": {
      "text/html": [
       "<span style=\"None\">Running query in &#x27;duckdb&#x27;</span>"
      ],
      "text/plain": [
       "Running query in 'duckdb'"
      ]
     },
     "metadata": {},
     "output_type": "display_data"
    },
    {
     "data": {
      "text/html": [
       "<table>\n",
       "    <thead>\n",
       "        <tr>\n",
       "            <th>lineRef</th>\n",
       "            <th>directionRef</th>\n",
       "            <th>count_star()</th>\n",
       "        </tr>\n",
       "    </thead>\n",
       "    <tbody>\n",
       "    </tbody>\n",
       "</table>"
      ],
      "text/plain": [
       "+---------+--------------+--------------+\n",
       "| lineRef | directionRef | count_star() |\n",
       "+---------+--------------+--------------+\n",
       "+---------+--------------+--------------+"
      ]
     },
     "execution_count": 10,
     "metadata": {},
     "output_type": "execute_result"
    }
   ],
   "source": [
    "%%sql\n",
    "\n",
    "create or replace table stop_order as\n",
    "from arrivals\n",
    "select\n",
    "    lineRef,\n",
    "    directionRef,\n",
    "    array_agg(stopPointRef order by sequenceNr) as stops\n",
    "group by lineRef, directionRef\n",
    "having not (bool_or(extraCall) or bool_or(estimated) or bool_or(journeyCancellation) or bool_or(stopCancellation));\n",
    "\n",
    "from stop_order\n",
    "select\n",
    "    lineRef,\n",
    "    directionRef,\n",
    "    count(*)\n",
    "group by lineRef, directionRef\n",
    "having count(*) > 1;"
   ]
  },
  {
   "cell_type": "markdown",
   "id": "bf2b93aa20fc2412",
   "metadata": {},
   "source": [
    "That feels almost magical, excellent data quality. Does doesn't feel like it would hold up if we were to use a whole month of data. Let's test it:"
   ]
  },
  {
   "cell_type": "code",
   "execution_count": 11,
   "id": "295f1eda7d499b80",
   "metadata": {
    "ExecuteTime": {
     "end_time": "2025-04-25T21:34:22.085200Z",
     "start_time": "2025-04-25T21:33:15.046663Z"
    }
   },
   "outputs": [
    {
     "data": {
      "text/html": [
       "<span style=\"None\">Running query in &#x27;duckdb&#x27;</span>"
      ],
      "text/plain": [
       "Running query in 'duckdb'"
      ]
     },
     "metadata": {},
     "output_type": "display_data"
    },
    {
     "data": {
      "text/html": [
       "<table>\n",
       "    <thead>\n",
       "        <tr>\n",
       "            <th>lineRef</th>\n",
       "            <th>directionRef</th>\n",
       "            <th>count_star()</th>\n",
       "        </tr>\n",
       "    </thead>\n",
       "    <tbody>\n",
       "    </tbody>\n",
       "</table>"
      ],
      "text/plain": [
       "+---------+--------------+--------------+\n",
       "| lineRef | directionRef | count_star() |\n",
       "+---------+--------------+--------------+\n",
       "+---------+--------------+--------------+"
      ]
     },
     "execution_count": 11,
     "metadata": {},
     "output_type": "execute_result"
    }
   ],
   "source": [
    "%%sql\n",
    "\n",
    "create or replace table arrivals as from read_parquet('{{s3_bucket}}/entur_realtime_month.parquet');\n",
    "\n",
    "create or replace table stop_order as\n",
    "from arrivals\n",
    "select\n",
    "    lineRef,\n",
    "    directionRef,\n",
    "    array_agg(stopPointRef order by sequenceNr) as stops\n",
    "group by lineRef, directionRef\n",
    "having not (bool_or(extraCall) or bool_or(estimated) or bool_or(journeyCancellation) or bool_or(stopCancellation));\n",
    "\n",
    "from stop_order\n",
    "select\n",
    "    lineRef,\n",
    "    directionRef,\n",
    "    count(*)\n",
    "group by lineRef, directionRef\n",
    "having count(*) > 1;"
   ]
  },
  {
   "cell_type": "code",
   "execution_count": 12,
   "id": "829881e7a66a28a6",
   "metadata": {
    "ExecuteTime": {
     "end_time": "2025-04-25T21:34:22.127692Z",
     "start_time": "2025-04-25T21:34:22.103685Z"
    }
   },
   "outputs": [
    {
     "data": {
      "text/html": [
       "<span style=\"None\">Running query in &#x27;duckdb&#x27;</span>"
      ],
      "text/plain": [
       "Running query in 'duckdb'"
      ]
     },
     "metadata": {},
     "output_type": "display_data"
    },
    {
     "data": {
      "text/html": [
       "<table>\n",
       "    <thead>\n",
       "        <tr>\n",
       "            <th>from_date</th>\n",
       "            <th>to_date</th>\n",
       "        </tr>\n",
       "    </thead>\n",
       "    <tbody>\n",
       "        <tr>\n",
       "            <td>2025-03-01</td>\n",
       "            <td>2025-03-31</td>\n",
       "        </tr>\n",
       "    </tbody>\n",
       "</table>"
      ],
      "text/plain": [
       "+------------+------------+\n",
       "| from_date  |  to_date   |\n",
       "+------------+------------+\n",
       "| 2025-03-01 | 2025-03-31 |\n",
       "+------------+------------+"
      ]
     },
     "execution_count": 12,
     "metadata": {},
     "output_type": "execute_result"
    }
   ],
   "source": [
    "%%sql\n",
    "from arrivals select min(operatingDate) as from_date, max(operatingDate) as to_date"
   ]
  },
  {
   "cell_type": "markdown",
   "id": "21fb70cbec5d7204",
   "metadata": {},
   "source": [
    "## Summary\n",
    "\n",
    "Data quality for this particular month is excellent. We can get away with plotting the stops in the order that we observe them by `sequenceNr`. This makes me very happy. I wonder how many routes we saw across the whole month?"
   ]
  },
  {
   "cell_type": "code",
   "execution_count": 13,
   "id": "3771afb4df51dfce",
   "metadata": {
    "ExecuteTime": {
     "end_time": "2025-04-25T21:34:22.164089Z",
     "start_time": "2025-04-25T21:34:22.159106Z"
    }
   },
   "outputs": [
    {
     "data": {
      "text/html": [
       "<span style=\"None\">Running query in &#x27;duckdb&#x27;</span>"
      ],
      "text/plain": [
       "Running query in 'duckdb'"
      ]
     },
     "metadata": {},
     "output_type": "display_data"
    },
    {
     "data": {
      "text/html": [
       "<table>\n",
       "    <thead>\n",
       "        <tr>\n",
       "            <th>count_star()</th>\n",
       "        </tr>\n",
       "    </thead>\n",
       "    <tbody>\n",
       "        <tr>\n",
       "            <td>1570</td>\n",
       "        </tr>\n",
       "    </tbody>\n",
       "</table>"
      ],
      "text/plain": [
       "+--------------+\n",
       "| count_star() |\n",
       "+--------------+\n",
       "|     1570     |\n",
       "+--------------+"
      ]
     },
     "execution_count": 13,
     "metadata": {},
     "output_type": "execute_result"
    }
   ],
   "source": [
    "%sql select count(*) from stop_order"
   ]
  },
  {
   "cell_type": "markdown",
   "id": "d93c107b48bc4fd3",
   "metadata": {},
   "source": [
    "That's not too many. Data quality appears worryingly good, so I want to make some extra sanity checks. This seems unlikely to happen in the real world. I want to know how many journeys there were and how many our filter removes:"
   ]
  },
  {
   "cell_type": "code",
   "execution_count": 14,
   "id": "bbaffdac6db34bff",
   "metadata": {
    "ExecuteTime": {
     "end_time": "2025-04-25T21:34:22.449578Z",
     "start_time": "2025-04-25T21:34:22.171211Z"
    }
   },
   "outputs": [
    {
     "data": {
      "text/html": [
       "<span style=\"None\">Running query in &#x27;duckdb&#x27;</span>"
      ],
      "text/plain": [
       "Running query in 'duckdb'"
      ]
     },
     "metadata": {},
     "output_type": "display_data"
    },
    {
     "data": {
      "text/html": [
       "<table>\n",
       "    <thead>\n",
       "        <tr>\n",
       "            <th>count_star()</th>\n",
       "        </tr>\n",
       "    </thead>\n",
       "    <tbody>\n",
       "        <tr>\n",
       "            <td>1790267</td>\n",
       "        </tr>\n",
       "    </tbody>\n",
       "</table>"
      ],
      "text/plain": [
       "+--------------+\n",
       "| count_star() |\n",
       "+--------------+\n",
       "|   1790267    |\n",
       "+--------------+"
      ]
     },
     "execution_count": 14,
     "metadata": {},
     "output_type": "execute_result"
    }
   ],
   "source": [
    "%%sql\n",
    "with journeys as (\n",
    "    from arrivals select distinct serviceJourneyId, operatingDate\n",
    ") select count(*) from journeys;\n"
   ]
  },
  {
   "cell_type": "code",
   "execution_count": 15,
   "id": "93ba68d16b5ddd5a",
   "metadata": {
    "ExecuteTime": {
     "end_time": "2025-04-25T21:34:22.740544Z",
     "start_time": "2025-04-25T21:34:22.460002Z"
    }
   },
   "outputs": [
    {
     "data": {
      "text/html": [
       "<span style=\"None\">Running query in &#x27;duckdb&#x27;</span>"
      ],
      "text/plain": [
       "Running query in 'duckdb'"
      ]
     },
     "metadata": {},
     "output_type": "display_data"
    },
    {
     "data": {
      "text/html": [
       "<table>\n",
       "    <thead>\n",
       "        <tr>\n",
       "            <th>count_star()</th>\n",
       "        </tr>\n",
       "    </thead>\n",
       "    <tbody>\n",
       "        <tr>\n",
       "            <td>308389</td>\n",
       "        </tr>\n",
       "    </tbody>\n",
       "</table>"
      ],
      "text/plain": [
       "+--------------+\n",
       "| count_star() |\n",
       "+--------------+\n",
       "|    308389    |\n",
       "+--------------+"
      ]
     },
     "execution_count": 15,
     "metadata": {},
     "output_type": "execute_result"
    }
   ],
   "source": [
    "%%sql\n",
    "with journeys as (\n",
    "    from arrivals select serviceJourneyId, operatingDate\n",
    "    group by serviceJourneyId, operatingDate\n",
    "    having (bool_or(extraCall) or bool_or(estimated) or bool_or(journeyCancellation) or bool_or(stopCancellation))\n",
    ") select count(*) from journeys;"
   ]
  },
  {
   "cell_type": "markdown",
   "id": "1159f99e3968ad43",
   "metadata": {},
   "source": [
    "We are removing quite a bit of data here, around one sixth. I think I'm fine with that. Let's check out what the reasons tend to be:"
   ]
  },
  {
   "cell_type": "code",
   "execution_count": 16,
   "id": "37ea201c02768083",
   "metadata": {
    "ExecuteTime": {
     "end_time": "2025-04-25T21:34:23.051490Z",
     "start_time": "2025-04-25T21:34:22.749980Z"
    }
   },
   "outputs": [
    {
     "data": {
      "text/html": [
       "<span style=\"None\">Running query in &#x27;duckdb&#x27;</span>"
      ],
      "text/plain": [
       "Running query in 'duckdb'"
      ]
     },
     "metadata": {},
     "output_type": "display_data"
    },
    {
     "data": {
      "text/html": [
       "<table>\n",
       "    <thead>\n",
       "        <tr>\n",
       "            <th>extraCall</th>\n",
       "            <th>estimated</th>\n",
       "            <th>journeyCancellation</th>\n",
       "            <th>stopCancellation</th>\n",
       "        </tr>\n",
       "    </thead>\n",
       "    <tbody>\n",
       "        <tr>\n",
       "            <td>0</td>\n",
       "            <td>289162</td>\n",
       "            <td>5251</td>\n",
       "            <td>28962</td>\n",
       "        </tr>\n",
       "    </tbody>\n",
       "</table>"
      ],
      "text/plain": [
       "+-----------+-----------+---------------------+------------------+\n",
       "| extraCall | estimated | journeyCancellation | stopCancellation |\n",
       "+-----------+-----------+---------------------+------------------+\n",
       "|     0     |   289162  |         5251        |      28962       |\n",
       "+-----------+-----------+---------------------+------------------+"
      ]
     },
     "execution_count": 16,
     "metadata": {},
     "output_type": "execute_result"
    }
   ],
   "source": [
    "%%sql\n",
    "with journeys as (\n",
    "    from arrivals\n",
    "    select\n",
    "        serviceJourneyId,\n",
    "        operatingDate,\n",
    "        bool_or(extraCall) as extraCall,\n",
    "        bool_or(estimated) as estimated,\n",
    "        bool_or(journeyCancellation) as journeyCancellation,\n",
    "        bool_or(stopCancellation) as stopCancellation\n",
    "    group by serviceJourneyId, operatingDate\n",
    ")\n",
    "from journeys\n",
    "select\n",
    "    sum(extraCall :: int) as extraCall,\n",
    "    sum(estimated :: int) as estimated,\n",
    "    sum(journeyCancellation :: int) as journeyCancellation,\n",
    "    sum(stopCancellation :: int) as stopCancellation"
   ]
  },
  {
   "cell_type": "markdown",
   "id": "76ad11493f780592",
   "metadata": {},
   "source": [
    "We drop by far the most data by refusing to use `estimated` rows. I think that's fine, given that we saw `estimated` rows being produced after encountering `journeyCancellation`, and there weren't any `arrivalTime`s on those rows.\n",
    "\n",
    "I'm starting to think I know what I need to know to produce reasonably good data for plots for lines. I'm thinking of a few use cases here:\n",
    "\n",
    "### 1. What are delays like at different stop points in a route?\n",
    "\n",
    "I imagine that at some time, let's say 08:00, some parts of the route have bigger delays than others. For someone casually looking up their bus line, that would probably be interesting. For a plot about this, we could slice the data into buckets by the hour of the day that the arrival happened and work out the delay by looking at the planned arrival time. We would produce 24 different plots with stop points on one axis, and time on the other axis. It would make the most sense to be to plot quantiles for the time, as it is so fast to calculate, can be stored compactly and is easy to draw. It may also be interesting to look at some plots with boxplots or confidence intervals.\n",
    "\n",
    "### 2. Comparing delays on a route across dates\n",
    "\n",
    "This is a little bit like the idea above, but more focused on finding out the effects on some change in traffic that happened at a known time. I think I want to crunch the numbers by month. That way, I could let a user view a side-by-side plot of the same route for october 2024 and october 2025 to figure out if the delay got worse. It may be interesting to use this kind of view to figure out if public transportation got better when EVs were no longer allowed to use the bus lane, for example. This is all about comparing rush hour (for example 08:XX) on different dates.\n",
    "\n",
    "## 3. Comparing delays on a route across different hours\n",
    "\n",
    "This would be all about comparing delays at 07:XX and 08:XX, not across different dates. This too could probably be built from the same pieces as 1. Strictly speaking, perhaps 2. and 3. are the same idea, we'd just need to let the user select both.\n",
    "\n",
    "For both of the last two ideas, we can choose to either attempt to let the user view plots side-by-side, or we could attempt to subtract one result set from another to focus on the difference. The attractive part of the last method is that we could gain a way to identify routes where there have been big changes automatically, to help people identify which routes that are worth studying. Maybe it's worth looking into both ideas.\n",
    "\n",
    "## Facts\n",
    "\n",
    "1. We have some filters for journeys we must remove, it will be the first part of our pipeline.\n",
    "2. For the remainder, we know that a route is uniquely identified by the `lineRef` and a `directionRef`, at least for the month we are currently studying.\n",
    "\n",
    "It should be fairly easy to aggregate everything all at once. Let's try:"
   ]
  },
  {
   "cell_type": "code",
   "execution_count": 17,
   "id": "8d386d174ec1dd3c",
   "metadata": {
    "ExecuteTime": {
     "end_time": "2025-04-25T21:34:34.823212Z",
     "start_time": "2025-04-25T21:34:23.058959Z"
    }
   },
   "outputs": [
    {
     "data": {
      "text/html": [
       "<span style=\"None\">Running query in &#x27;duckdb&#x27;</span>"
      ],
      "text/plain": [
       "Running query in 'duckdb'"
      ]
     },
     "metadata": {},
     "output_type": "display_data"
    },
    {
     "data": {
      "text/html": [
       "<table>\n",
       "    <thead>\n",
       "        <tr>\n",
       "            <th>Count</th>\n",
       "        </tr>\n",
       "    </thead>\n",
       "    <tbody>\n",
       "        <tr>\n",
       "            <td>1373124</td>\n",
       "        </tr>\n",
       "    </tbody>\n",
       "</table>"
      ],
      "text/plain": [
       "+---------+\n",
       "|  Count  |\n",
       "+---------+\n",
       "| 1373124 |\n",
       "+---------+"
      ]
     },
     "execution_count": 17,
     "metadata": {},
     "output_type": "execute_result"
    }
   ],
   "source": [
    "%%sql\n",
    "create or replace table by_hour as\n",
    "with selected_journeys as (\n",
    "    from arrivals select serviceJourneyId, operatingDate\n",
    "    group by serviceJourneyId, operatingDate\n",
    "    having not (bool_or(extraCall) or bool_or(estimated) or bool_or(journeyCancellation) or bool_or(stopCancellation))\n",
    "), times as (\n",
    "    from arrivals a join selected_journeys using(serviceJourneyId, operatingDate)\n",
    "    select\n",
    "        -- group key\n",
    "        lineRef,\n",
    "        directionRef,\n",
    "        stopPointRef,\n",
    "        sequenceNr,\n",
    "        extract(hour from coalesce(arrivalTime, departureTime)) as hour,\n",
    "        -- aggregate this in next query\n",
    "        extract(epoch from coalesce(arrivalTime, departureTime) - coalesce(aimedArrivalTime, aimedDepartureTime)) as delay_seconds\n",
    ")\n",
    "from times t\n",
    "select\n",
    "    t.* exclude (delay_seconds), -- group by\n",
    "    quantile_disc(delay_seconds, .1) as first_decile,\n",
    "    quantile_disc(delay_seconds, .25) as first_quartile,\n",
    "    quantile_disc(delay_seconds, .5) as median,\n",
    "    quantile_disc(delay_seconds, .75) as last_quartile,\n",
    "    quantile_disc(delay_seconds, .9) as last_decile,\n",
    "    count(*) as count\n",
    "group by all;"
   ]
  },
  {
   "cell_type": "markdown",
   "id": "935d131d0ae2531",
   "metadata": {},
   "source": [
    "That's a biggish table. Let's check if anything makes sense by looking up a line I know well for one hour and plotting it. There should only be one row for each stop."
   ]
  },
  {
   "cell_type": "code",
   "execution_count": 18,
   "id": "73e70d6bab29bfb5",
   "metadata": {
    "ExecuteTime": {
     "end_time": "2025-04-25T21:34:34.879856Z",
     "start_time": "2025-04-25T21:34:34.844134Z"
    }
   },
   "outputs": [
    {
     "data": {
      "text/html": [
       "<div>\n",
       "<style scoped>\n",
       "    .dataframe tbody tr th:only-of-type {\n",
       "        vertical-align: middle;\n",
       "    }\n",
       "\n",
       "    .dataframe tbody tr th {\n",
       "        vertical-align: top;\n",
       "    }\n",
       "\n",
       "    .dataframe thead th {\n",
       "        text-align: right;\n",
       "    }\n",
       "</style>\n",
       "<table border=\"1\" class=\"dataframe\">\n",
       "  <thead>\n",
       "    <tr style=\"text-align: right;\">\n",
       "      <th></th>\n",
       "      <th>lineRef</th>\n",
       "      <th>directionRef</th>\n",
       "      <th>stopPointRef</th>\n",
       "      <th>sequenceNr</th>\n",
       "      <th>hour</th>\n",
       "      <th>first_decile</th>\n",
       "      <th>first_quartile</th>\n",
       "      <th>median</th>\n",
       "      <th>last_quartile</th>\n",
       "      <th>last_decile</th>\n",
       "      <th>count</th>\n",
       "    </tr>\n",
       "  </thead>\n",
       "  <tbody>\n",
       "    <tr>\n",
       "      <th>0</th>\n",
       "      <td>ATB:Line:2_14</td>\n",
       "      <td>Inbound</td>\n",
       "      <td>NSR:Quay:71959</td>\n",
       "      <td>19</td>\n",
       "      <td>8</td>\n",
       "      <td>10.0</td>\n",
       "      <td>29.0</td>\n",
       "      <td>67.0</td>\n",
       "      <td>87.0</td>\n",
       "      <td>107.0</td>\n",
       "      <td>21</td>\n",
       "    </tr>\n",
       "    <tr>\n",
       "      <th>1</th>\n",
       "      <td>ATB:Line:2_14</td>\n",
       "      <td>Inbound</td>\n",
       "      <td>NSR:Quay:72785</td>\n",
       "      <td>20</td>\n",
       "      <td>8</td>\n",
       "      <td>16.0</td>\n",
       "      <td>37.0</td>\n",
       "      <td>77.0</td>\n",
       "      <td>96.0</td>\n",
       "      <td>120.0</td>\n",
       "      <td>21</td>\n",
       "    </tr>\n",
       "    <tr>\n",
       "      <th>2</th>\n",
       "      <td>ATB:Line:2_14</td>\n",
       "      <td>Outbound</td>\n",
       "      <td>NSR:Quay:73261</td>\n",
       "      <td>7</td>\n",
       "      <td>8</td>\n",
       "      <td>38.0</td>\n",
       "      <td>91.0</td>\n",
       "      <td>133.0</td>\n",
       "      <td>187.0</td>\n",
       "      <td>271.0</td>\n",
       "      <td>82</td>\n",
       "    </tr>\n",
       "    <tr>\n",
       "      <th>3</th>\n",
       "      <td>ATB:Line:2_14</td>\n",
       "      <td>Outbound</td>\n",
       "      <td>NSR:Quay:102732</td>\n",
       "      <td>24</td>\n",
       "      <td>8</td>\n",
       "      <td>-63.0</td>\n",
       "      <td>-18.0</td>\n",
       "      <td>19.0</td>\n",
       "      <td>103.0</td>\n",
       "      <td>206.0</td>\n",
       "      <td>26</td>\n",
       "    </tr>\n",
       "    <tr>\n",
       "      <th>4</th>\n",
       "      <td>ATB:Line:2_14</td>\n",
       "      <td>Inbound</td>\n",
       "      <td>NSR:Quay:72033</td>\n",
       "      <td>11</td>\n",
       "      <td>8</td>\n",
       "      <td>-58.0</td>\n",
       "      <td>-4.0</td>\n",
       "      <td>7.0</td>\n",
       "      <td>69.0</td>\n",
       "      <td>102.0</td>\n",
       "      <td>10</td>\n",
       "    </tr>\n",
       "  </tbody>\n",
       "</table>\n",
       "</div>"
      ],
      "text/plain": [
       "         lineRef directionRef     stopPointRef  sequenceNr  hour  \\\n",
       "0  ATB:Line:2_14      Inbound   NSR:Quay:71959          19     8   \n",
       "1  ATB:Line:2_14      Inbound   NSR:Quay:72785          20     8   \n",
       "2  ATB:Line:2_14     Outbound   NSR:Quay:73261           7     8   \n",
       "3  ATB:Line:2_14     Outbound  NSR:Quay:102732          24     8   \n",
       "4  ATB:Line:2_14      Inbound   NSR:Quay:72033          11     8   \n",
       "\n",
       "   first_decile  first_quartile  median  last_quartile  last_decile  count  \n",
       "0          10.0            29.0    67.0           87.0        107.0     21  \n",
       "1          16.0            37.0    77.0           96.0        120.0     21  \n",
       "2          38.0            91.0   133.0          187.0        271.0     82  \n",
       "3         -63.0           -18.0    19.0          103.0        206.0     26  \n",
       "4         -58.0            -4.0     7.0           69.0        102.0     10  "
      ]
     },
     "execution_count": 18,
     "metadata": {},
     "output_type": "execute_result"
    }
   ],
   "source": [
    "df = db.sql(\"select * from by_hour where lineRef = 'ATB:Line:2_14' and hour = 8\").df()\n",
    "\n",
    "df.head()"
   ]
  },
  {
   "cell_type": "markdown",
   "id": "2aeae33e1bdd8384",
   "metadata": {},
   "source": [
    "We should be able to plot this. For it to work nicely with `seaborn`, we will need to shape the dataframe a little differently. This dataframe is \"wide\", but seaborn works best with \"long\" or \"tall\" dataframes. We can easily use `df.melt` to do this:"
   ]
  },
  {
   "cell_type": "code",
   "execution_count": 19,
   "id": "5e9eef43a391066b",
   "metadata": {
    "ExecuteTime": {
     "end_time": "2025-04-25T21:34:34.927713Z",
     "start_time": "2025-04-25T21:34:34.918525Z"
    }
   },
   "outputs": [
    {
     "data": {
      "text/html": [
       "<div>\n",
       "<style scoped>\n",
       "    .dataframe tbody tr th:only-of-type {\n",
       "        vertical-align: middle;\n",
       "    }\n",
       "\n",
       "    .dataframe tbody tr th {\n",
       "        vertical-align: top;\n",
       "    }\n",
       "\n",
       "    .dataframe thead th {\n",
       "        text-align: right;\n",
       "    }\n",
       "</style>\n",
       "<table border=\"1\" class=\"dataframe\">\n",
       "  <thead>\n",
       "    <tr style=\"text-align: right;\">\n",
       "      <th></th>\n",
       "      <th>directionRef</th>\n",
       "      <th>sequenceNr</th>\n",
       "      <th>quantity</th>\n",
       "      <th>delay</th>\n",
       "    </tr>\n",
       "  </thead>\n",
       "  <tbody>\n",
       "    <tr>\n",
       "      <th>31</th>\n",
       "      <td>Inbound</td>\n",
       "      <td>1</td>\n",
       "      <td>first_decile</td>\n",
       "      <td>18.0</td>\n",
       "    </tr>\n",
       "    <tr>\n",
       "      <th>158</th>\n",
       "      <td>Inbound</td>\n",
       "      <td>1</td>\n",
       "      <td>first_quartile</td>\n",
       "      <td>26.0</td>\n",
       "    </tr>\n",
       "    <tr>\n",
       "      <th>285</th>\n",
       "      <td>Inbound</td>\n",
       "      <td>1</td>\n",
       "      <td>median</td>\n",
       "      <td>64.0</td>\n",
       "    </tr>\n",
       "    <tr>\n",
       "      <th>412</th>\n",
       "      <td>Inbound</td>\n",
       "      <td>1</td>\n",
       "      <td>last_quartile</td>\n",
       "      <td>92.0</td>\n",
       "    </tr>\n",
       "    <tr>\n",
       "      <th>539</th>\n",
       "      <td>Inbound</td>\n",
       "      <td>1</td>\n",
       "      <td>last_decile</td>\n",
       "      <td>130.0</td>\n",
       "    </tr>\n",
       "  </tbody>\n",
       "</table>\n",
       "</div>"
      ],
      "text/plain": [
       "    directionRef  sequenceNr        quantity  delay\n",
       "31       Inbound           1    first_decile   18.0\n",
       "158      Inbound           1  first_quartile   26.0\n",
       "285      Inbound           1          median   64.0\n",
       "412      Inbound           1   last_quartile   92.0\n",
       "539      Inbound           1     last_decile  130.0"
      ]
     },
     "execution_count": 19,
     "metadata": {},
     "output_type": "execute_result"
    }
   ],
   "source": [
    "d = df.drop(\n",
    "    columns=['lineRef', 'hour', 'stopPointRef']\n",
    ").melt(\n",
    "    id_vars=['directionRef', 'sequenceNr'],\n",
    "    var_name='quantity',\n",
    "    value_name='delay'\n",
    ").sort_values(by=['directionRef', 'sequenceNr'])\n",
    "d.head()"
   ]
  },
  {
   "cell_type": "markdown",
   "id": "f4d47be4d9c16084",
   "metadata": {},
   "source": [
    "We should be able to plot this, let's give it a shot:"
   ]
  },
  {
   "cell_type": "code",
   "execution_count": 20,
   "id": "5838154b9b4ab352",
   "metadata": {
    "ExecuteTime": {
     "end_time": "2025-04-25T21:34:36.386749Z",
     "start_time": "2025-04-25T21:34:34.984612Z"
    }
   },
   "outputs": [
    {
     "data": {
      "image/png": "[encoded data removed]",
      "text/plain": [
       "<Figure size 1138.25x500 with 2 Axes>"
      ]
     },
     "metadata": {},
     "output_type": "display_data"
    }
   ],
   "source": [
    "sns.relplot(\n",
    "    d,\n",
    "    x='sequenceNr',\n",
    "    y='delay',\n",
    "    hue='quantity',\n",
    "    col='directionRef',\n",
    "    kind='line'\n",
    ");"
   ]
  },
  {
   "cell_type": "markdown",
   "id": "6cd83cf380d08c30",
   "metadata": {},
   "source": [
    "Oh no, that didn't go well at all. We were not supposed to get confidence intervals here. It means that some `sequenceNr` have multiple registrations. This can only mean that our aggregation is imperfect. I thought we had established that the stop order by sequence nr was the same always, but that must not be the case (I thought this was suspicious in the first place). Let's dig into that and see what happened."
   ]
  },
  {
   "cell_type": "code",
   "execution_count": 21,
   "id": "8ee6cc0efde3befa",
   "metadata": {
    "ExecuteTime": {
     "end_time": "2025-04-25T21:34:36.420738Z",
     "start_time": "2025-04-25T21:34:36.412871Z"
    }
   },
   "outputs": [
    {
     "data": {
      "text/html": [
       "<div>\n",
       "<style scoped>\n",
       "    .dataframe tbody tr th:only-of-type {\n",
       "        vertical-align: middle;\n",
       "    }\n",
       "\n",
       "    .dataframe tbody tr th {\n",
       "        vertical-align: top;\n",
       "    }\n",
       "\n",
       "    .dataframe thead th {\n",
       "        text-align: right;\n",
       "    }\n",
       "</style>\n",
       "<table border=\"1\" class=\"dataframe\">\n",
       "  <thead>\n",
       "    <tr style=\"text-align: right;\">\n",
       "      <th></th>\n",
       "      <th>lineRef</th>\n",
       "      <th>directionRef</th>\n",
       "      <th>stopPointRef</th>\n",
       "      <th>sequenceNr</th>\n",
       "      <th>hour</th>\n",
       "      <th>first_decile</th>\n",
       "      <th>first_quartile</th>\n",
       "      <th>median</th>\n",
       "      <th>last_quartile</th>\n",
       "      <th>last_decile</th>\n",
       "      <th>count</th>\n",
       "    </tr>\n",
       "  </thead>\n",
       "  <tbody>\n",
       "    <tr>\n",
       "      <th>77</th>\n",
       "      <td>ATB:Line:2_14</td>\n",
       "      <td>Outbound</td>\n",
       "      <td>NSR:Quay:73791</td>\n",
       "      <td>20</td>\n",
       "      <td>8</td>\n",
       "      <td>-2.0</td>\n",
       "      <td>39.0</td>\n",
       "      <td>70.0</td>\n",
       "      <td>90.0</td>\n",
       "      <td>178.0</td>\n",
       "      <td>11</td>\n",
       "    </tr>\n",
       "    <tr>\n",
       "      <th>12</th>\n",
       "      <td>ATB:Line:2_14</td>\n",
       "      <td>Outbound</td>\n",
       "      <td>NSR:Quay:75404</td>\n",
       "      <td>20</td>\n",
       "      <td>8</td>\n",
       "      <td>-51.0</td>\n",
       "      <td>-14.0</td>\n",
       "      <td>83.0</td>\n",
       "      <td>247.0</td>\n",
       "      <td>361.0</td>\n",
       "      <td>48</td>\n",
       "    </tr>\n",
       "    <tr>\n",
       "      <th>21</th>\n",
       "      <td>ATB:Line:2_14</td>\n",
       "      <td>Outbound</td>\n",
       "      <td>NSR:Quay:75657</td>\n",
       "      <td>20</td>\n",
       "      <td>8</td>\n",
       "      <td>13.0</td>\n",
       "      <td>76.0</td>\n",
       "      <td>107.0</td>\n",
       "      <td>157.0</td>\n",
       "      <td>210.0</td>\n",
       "      <td>12</td>\n",
       "    </tr>\n",
       "    <tr>\n",
       "      <th>69</th>\n",
       "      <td>ATB:Line:2_14</td>\n",
       "      <td>Outbound</td>\n",
       "      <td>NSR:Quay:102732</td>\n",
       "      <td>21</td>\n",
       "      <td>8</td>\n",
       "      <td>-63.0</td>\n",
       "      <td>14.0</td>\n",
       "      <td>33.0</td>\n",
       "      <td>86.0</td>\n",
       "      <td>120.0</td>\n",
       "      <td>10</td>\n",
       "    </tr>\n",
       "    <tr>\n",
       "      <th>107</th>\n",
       "      <td>ATB:Line:2_14</td>\n",
       "      <td>Outbound</td>\n",
       "      <td>NSR:Quay:71577</td>\n",
       "      <td>21</td>\n",
       "      <td>8</td>\n",
       "      <td>-41.0</td>\n",
       "      <td>-11.0</td>\n",
       "      <td>31.0</td>\n",
       "      <td>131.0</td>\n",
       "      <td>146.0</td>\n",
       "      <td>22</td>\n",
       "    </tr>\n",
       "    <tr>\n",
       "      <th>30</th>\n",
       "      <td>ATB:Line:2_14</td>\n",
       "      <td>Outbound</td>\n",
       "      <td>NSR:Quay:73036</td>\n",
       "      <td>21</td>\n",
       "      <td>8</td>\n",
       "      <td>-79.0</td>\n",
       "      <td>-13.0</td>\n",
       "      <td>18.0</td>\n",
       "      <td>68.0</td>\n",
       "      <td>120.0</td>\n",
       "      <td>12</td>\n",
       "    </tr>\n",
       "    <tr>\n",
       "      <th>116</th>\n",
       "      <td>ATB:Line:2_14</td>\n",
       "      <td>Outbound</td>\n",
       "      <td>NSR:Quay:74276</td>\n",
       "      <td>21</td>\n",
       "      <td>8</td>\n",
       "      <td>13.0</td>\n",
       "      <td>43.0</td>\n",
       "      <td>263.0</td>\n",
       "      <td>370.0</td>\n",
       "      <td>467.0</td>\n",
       "      <td>27</td>\n",
       "    </tr>\n",
       "    <tr>\n",
       "      <th>6</th>\n",
       "      <td>ATB:Line:2_14</td>\n",
       "      <td>Outbound</td>\n",
       "      <td>NSR:Quay:109990</td>\n",
       "      <td>22</td>\n",
       "      <td>8</td>\n",
       "      <td>-18.0</td>\n",
       "      <td>33.0</td>\n",
       "      <td>266.0</td>\n",
       "      <td>371.0</td>\n",
       "      <td>520.0</td>\n",
       "      <td>27</td>\n",
       "    </tr>\n",
       "    <tr>\n",
       "      <th>58</th>\n",
       "      <td>ATB:Line:2_14</td>\n",
       "      <td>Outbound</td>\n",
       "      <td>NSR:Quay:71365</td>\n",
       "      <td>22</td>\n",
       "      <td>8</td>\n",
       "      <td>-96.0</td>\n",
       "      <td>0.0</td>\n",
       "      <td>23.0</td>\n",
       "      <td>66.0</td>\n",
       "      <td>119.0</td>\n",
       "      <td>10</td>\n",
       "    </tr>\n",
       "    <tr>\n",
       "      <th>52</th>\n",
       "      <td>ATB:Line:2_14</td>\n",
       "      <td>Outbound</td>\n",
       "      <td>NSR:Quay:75600</td>\n",
       "      <td>22</td>\n",
       "      <td>8</td>\n",
       "      <td>-15.0</td>\n",
       "      <td>8.0</td>\n",
       "      <td>57.0</td>\n",
       "      <td>146.0</td>\n",
       "      <td>209.0</td>\n",
       "      <td>25</td>\n",
       "    </tr>\n",
       "    <tr>\n",
       "      <th>88</th>\n",
       "      <td>ATB:Line:2_14</td>\n",
       "      <td>Outbound</td>\n",
       "      <td>NSR:Quay:102732</td>\n",
       "      <td>23</td>\n",
       "      <td>8</td>\n",
       "      <td>-30.0</td>\n",
       "      <td>18.0</td>\n",
       "      <td>268.0</td>\n",
       "      <td>383.0</td>\n",
       "      <td>482.0</td>\n",
       "      <td>27</td>\n",
       "    </tr>\n",
       "    <tr>\n",
       "      <th>76</th>\n",
       "      <td>ATB:Line:2_14</td>\n",
       "      <td>Outbound</td>\n",
       "      <td>NSR:Quay:73791</td>\n",
       "      <td>23</td>\n",
       "      <td>8</td>\n",
       "      <td>-18.0</td>\n",
       "      <td>1.0</td>\n",
       "      <td>24.0</td>\n",
       "      <td>94.0</td>\n",
       "      <td>164.0</td>\n",
       "      <td>23</td>\n",
       "    </tr>\n",
       "    <tr>\n",
       "      <th>108</th>\n",
       "      <td>ATB:Line:2_14</td>\n",
       "      <td>Outbound</td>\n",
       "      <td>NSR:Quay:75657</td>\n",
       "      <td>23</td>\n",
       "      <td>8</td>\n",
       "      <td>-87.0</td>\n",
       "      <td>11.0</td>\n",
       "      <td>51.0</td>\n",
       "      <td>60.0</td>\n",
       "      <td>177.0</td>\n",
       "      <td>9</td>\n",
       "    </tr>\n",
       "    <tr>\n",
       "      <th>3</th>\n",
       "      <td>ATB:Line:2_14</td>\n",
       "      <td>Outbound</td>\n",
       "      <td>NSR:Quay:102732</td>\n",
       "      <td>24</td>\n",
       "      <td>8</td>\n",
       "      <td>-63.0</td>\n",
       "      <td>-18.0</td>\n",
       "      <td>19.0</td>\n",
       "      <td>103.0</td>\n",
       "      <td>206.0</td>\n",
       "      <td>26</td>\n",
       "    </tr>\n",
       "    <tr>\n",
       "      <th>39</th>\n",
       "      <td>ATB:Line:2_14</td>\n",
       "      <td>Outbound</td>\n",
       "      <td>NSR:Quay:71365</td>\n",
       "      <td>24</td>\n",
       "      <td>8</td>\n",
       "      <td>-53.0</td>\n",
       "      <td>1.0</td>\n",
       "      <td>238.0</td>\n",
       "      <td>366.0</td>\n",
       "      <td>462.0</td>\n",
       "      <td>26</td>\n",
       "    </tr>\n",
       "    <tr>\n",
       "      <th>96</th>\n",
       "      <td>ATB:Line:2_14</td>\n",
       "      <td>Outbound</td>\n",
       "      <td>NSR:Quay:73036</td>\n",
       "      <td>24</td>\n",
       "      <td>8</td>\n",
       "      <td>-186.0</td>\n",
       "      <td>-80.0</td>\n",
       "      <td>-30.0</td>\n",
       "      <td>-18.0</td>\n",
       "      <td>108.0</td>\n",
       "      <td>9</td>\n",
       "    </tr>\n",
       "    <tr>\n",
       "      <th>92</th>\n",
       "      <td>ATB:Line:2_14</td>\n",
       "      <td>Outbound</td>\n",
       "      <td>NSR:Quay:71365</td>\n",
       "      <td>25</td>\n",
       "      <td>8</td>\n",
       "      <td>-82.0</td>\n",
       "      <td>-28.0</td>\n",
       "      <td>0.0</td>\n",
       "      <td>99.0</td>\n",
       "      <td>186.0</td>\n",
       "      <td>25</td>\n",
       "    </tr>\n",
       "    <tr>\n",
       "      <th>70</th>\n",
       "      <td>ATB:Line:2_14</td>\n",
       "      <td>Outbound</td>\n",
       "      <td>NSR:Quay:75657</td>\n",
       "      <td>25</td>\n",
       "      <td>8</td>\n",
       "      <td>-14.0</td>\n",
       "      <td>21.0</td>\n",
       "      <td>222.0</td>\n",
       "      <td>391.0</td>\n",
       "      <td>477.0</td>\n",
       "      <td>26</td>\n",
       "    </tr>\n",
       "    <tr>\n",
       "      <th>113</th>\n",
       "      <td>ATB:Line:2_14</td>\n",
       "      <td>Outbound</td>\n",
       "      <td>NSR:Quay:73036</td>\n",
       "      <td>26</td>\n",
       "      <td>8</td>\n",
       "      <td>-104.0</td>\n",
       "      <td>-29.0</td>\n",
       "      <td>202.0</td>\n",
       "      <td>319.0</td>\n",
       "      <td>380.0</td>\n",
       "      <td>25</td>\n",
       "    </tr>\n",
       "    <tr>\n",
       "      <th>5</th>\n",
       "      <td>ATB:Line:2_14</td>\n",
       "      <td>Outbound</td>\n",
       "      <td>NSR:Quay:75657</td>\n",
       "      <td>26</td>\n",
       "      <td>8</td>\n",
       "      <td>-88.0</td>\n",
       "      <td>-30.0</td>\n",
       "      <td>16.0</td>\n",
       "      <td>92.0</td>\n",
       "      <td>171.0</td>\n",
       "      <td>24</td>\n",
       "    </tr>\n",
       "    <tr>\n",
       "      <th>90</th>\n",
       "      <td>ATB:Line:2_14</td>\n",
       "      <td>Outbound</td>\n",
       "      <td>NSR:Quay:73036</td>\n",
       "      <td>27</td>\n",
       "      <td>8</td>\n",
       "      <td>-163.0</td>\n",
       "      <td>-97.0</td>\n",
       "      <td>-75.0</td>\n",
       "      <td>7.0</td>\n",
       "      <td>105.0</td>\n",
       "      <td>23</td>\n",
       "    </tr>\n",
       "  </tbody>\n",
       "</table>\n",
       "</div>"
      ],
      "text/plain": [
       "           lineRef directionRef     stopPointRef  sequenceNr  hour  \\\n",
       "77   ATB:Line:2_14     Outbound   NSR:Quay:73791          20     8   \n",
       "12   ATB:Line:2_14     Outbound   NSR:Quay:75404          20     8   \n",
       "21   ATB:Line:2_14     Outbound   NSR:Quay:75657          20     8   \n",
       "69   ATB:Line:2_14     Outbound  NSR:Quay:102732          21     8   \n",
       "107  ATB:Line:2_14     Outbound   NSR:Quay:71577          21     8   \n",
       "30   ATB:Line:2_14     Outbound   NSR:Quay:73036          21     8   \n",
       "116  ATB:Line:2_14     Outbound   NSR:Quay:74276          21     8   \n",
       "6    ATB:Line:2_14     Outbound  NSR:Quay:109990          22     8   \n",
       "58   ATB:Line:2_14     Outbound   NSR:Quay:71365          22     8   \n",
       "52   ATB:Line:2_14     Outbound   NSR:Quay:75600          22     8   \n",
       "88   ATB:Line:2_14     Outbound  NSR:Quay:102732          23     8   \n",
       "76   ATB:Line:2_14     Outbound   NSR:Quay:73791          23     8   \n",
       "108  ATB:Line:2_14     Outbound   NSR:Quay:75657          23     8   \n",
       "3    ATB:Line:2_14     Outbound  NSR:Quay:102732          24     8   \n",
       "39   ATB:Line:2_14     Outbound   NSR:Quay:71365          24     8   \n",
       "96   ATB:Line:2_14     Outbound   NSR:Quay:73036          24     8   \n",
       "92   ATB:Line:2_14     Outbound   NSR:Quay:71365          25     8   \n",
       "70   ATB:Line:2_14     Outbound   NSR:Quay:75657          25     8   \n",
       "113  ATB:Line:2_14     Outbound   NSR:Quay:73036          26     8   \n",
       "5    ATB:Line:2_14     Outbound   NSR:Quay:75657          26     8   \n",
       "90   ATB:Line:2_14     Outbound   NSR:Quay:73036          27     8   \n",
       "\n",
       "     first_decile  first_quartile  median  last_quartile  last_decile  count  \n",
       "77           -2.0            39.0    70.0           90.0        178.0     11  \n",
       "12          -51.0           -14.0    83.0          247.0        361.0     48  \n",
       "21           13.0            76.0   107.0          157.0        210.0     12  \n",
       "69          -63.0            14.0    33.0           86.0        120.0     10  \n",
       "107         -41.0           -11.0    31.0          131.0        146.0     22  \n",
       "30          -79.0           -13.0    18.0           68.0        120.0     12  \n",
       "116          13.0            43.0   263.0          370.0        467.0     27  \n",
       "6           -18.0            33.0   266.0          371.0        520.0     27  \n",
       "58          -96.0             0.0    23.0           66.0        119.0     10  \n",
       "52          -15.0             8.0    57.0          146.0        209.0     25  \n",
       "88          -30.0            18.0   268.0          383.0        482.0     27  \n",
       "76          -18.0             1.0    24.0           94.0        164.0     23  \n",
       "108         -87.0            11.0    51.0           60.0        177.0      9  \n",
       "3           -63.0           -18.0    19.0          103.0        206.0     26  \n",
       "39          -53.0             1.0   238.0          366.0        462.0     26  \n",
       "96         -186.0           -80.0   -30.0          -18.0        108.0      9  \n",
       "92          -82.0           -28.0     0.0           99.0        186.0     25  \n",
       "70          -14.0            21.0   222.0          391.0        477.0     26  \n",
       "113        -104.0           -29.0   202.0          319.0        380.0     25  \n",
       "5           -88.0           -30.0    16.0           92.0        171.0     24  \n",
       "90         -163.0           -97.0   -75.0            7.0        105.0     23  "
      ]
     },
     "execution_count": 21,
     "metadata": {},
     "output_type": "execute_result"
    }
   ],
   "source": [
    "df.loc[\n",
    "    (df.directionRef == 'Outbound') & (df.sequenceNr >= 20)\n",
    "].sort_values(by=['sequenceNr', 'stopPointRef'])"
   ]
  },
  {
   "cell_type": "markdown",
   "id": "76f31100724a7ba0",
   "metadata": {},
   "source": [
    "Exactly what I feared, stop nr 20 can be one of several different variants. Why did this go wrong? Clearly our `stop_order` table is wrong:"
   ]
  },
  {
   "cell_type": "code",
   "execution_count": 22,
   "id": "704bceca46d25d9a",
   "metadata": {
    "ExecuteTime": {
     "end_time": "2025-04-25T21:34:36.457698Z",
     "start_time": "2025-04-25T21:34:36.452260Z"
    }
   },
   "outputs": [
    {
     "data": {
      "text/html": [
       "<span style=\"None\">Running query in &#x27;duckdb&#x27;</span>"
      ],
      "text/plain": [
       "Running query in 'duckdb'"
      ]
     },
     "metadata": {},
     "output_type": "display_data"
    },
    {
     "data": {
      "text/html": [
       "<table>\n",
       "    <thead>\n",
       "        <tr>\n",
       "            <th>lineRef</th>\n",
       "            <th>directionRef</th>\n",
       "            <th>stops</th>\n",
       "        </tr>\n",
       "    </thead>\n",
       "    <tbody>\n",
       "    </tbody>\n",
       "</table>"
      ],
      "text/plain": [
       "+---------+--------------+-------+\n",
       "| lineRef | directionRef | stops |\n",
       "+---------+--------------+-------+\n",
       "+---------+--------------+-------+"
      ]
     },
     "execution_count": 22,
     "metadata": {},
     "output_type": "execute_result"
    }
   ],
   "source": [
    "%%sql\n",
    "from stop_order\n",
    "select *\n",
    "where lineRef = 'ATB:Line:2_14' and directionRef = 'Outbound'"
   ]
  },
  {
   "cell_type": "markdown",
   "id": "11141ca8e0f5967c",
   "metadata": {},
   "source": [
    "I have a sinking feeling that I know why. Let's review the SQL:\n",
    "```sql\n",
    "create or replace table stop_order as\n",
    "from arrivals\n",
    "select\n",
    "    lineRef,\n",
    "    directionRef,\n",
    "    array_agg(stopPointRef order by sequenceNr) as stops\n",
    "group by lineRef, directionRef\n",
    "having not (bool_or(extraCall) or bool_or(estimated) or bool_or(journeyCancellation) or bool_or(stopCancellation));\n",
    "```\n",
    "This does the wrong thing _entirely_. It calculates the stop orders for only the `lineRef`, `directionRef` pairs that never had any journeys with cancellations or estimations. We need to do this calculation differently, more like how we approached the aggregation above. First, we make a list of all the journeys we want to keep, then join those with the `arrivals` to do the aggregation. I'm certain I made the same error when looking up `origin` and `destination` pairs, and I should have caught it already then. Oh well. This time, let's make a table of the journeys we want to use."
   ]
  },
  {
   "cell_type": "code",
   "execution_count": 23,
   "id": "b6fbbcb50a22dee7",
   "metadata": {
    "ExecuteTime": {
     "end_time": "2025-04-25T21:34:47.035219Z",
     "start_time": "2025-04-25T21:34:36.525078Z"
    }
   },
   "outputs": [
    {
     "data": {
      "text/html": [
       "<span style=\"None\">Running query in &#x27;duckdb&#x27;</span>"
      ],
      "text/plain": [
       "Running query in 'duckdb'"
      ]
     },
     "metadata": {},
     "output_type": "display_data"
    },
    {
     "data": {
      "text/html": [
       "<table>\n",
       "    <thead>\n",
       "        <tr>\n",
       "            <th>Count</th>\n",
       "        </tr>\n",
       "    </thead>\n",
       "    <tbody>\n",
       "        <tr>\n",
       "            <td>21185</td>\n",
       "        </tr>\n",
       "    </tbody>\n",
       "</table>"
      ],
      "text/plain": [
       "+-------+\n",
       "| Count |\n",
       "+-------+\n",
       "| 21185 |\n",
       "+-------+"
      ]
     },
     "execution_count": 23,
     "metadata": {},
     "output_type": "execute_result"
    }
   ],
   "source": [
    "%%sql\n",
    "create or replace table selected_journeys as\n",
    "from arrivals select serviceJourneyId, operatingDate\n",
    "group by serviceJourneyId, operatingDate\n",
    "having not (bool_or(extraCall) or bool_or(estimated) or bool_or(journeyCancellation) or bool_or(stopCancellation));\n",
    "\n",
    "create or replace table origins as\n",
    "with observed as (\n",
    "    from selected_journeys join arrivals using(serviceJourneyId, operatingDate)\n",
    "    select\n",
    "        lineRef,\n",
    "        directionRef,\n",
    "        serviceJourneyId,\n",
    "        operatingDate,\n",
    "        first(stopPointRef order by sequenceNr) as origin,\n",
    "        last(stopPointRef order by sequenceNr) as destination\n",
    "    group by all\n",
    ")\n",
    "from observed\n",
    "select distinct\n",
    "    lineRef,\n",
    "    directionRef,\n",
    "    origin,\n",
    "    destination;\n",
    "\n",
    "create or replace table stop_order as\n",
    "with observed as (\n",
    "    from selected_journeys join arrivals using(serviceJourneyId, operatingDate)\n",
    "    select\n",
    "        lineRef,\n",
    "        directionRef,\n",
    "        serviceJourneyId,\n",
    "        operatingDate,\n",
    "        array_agg(stopPointRef order by sequenceNr) as stops\n",
    "    group by all\n",
    ")\n",
    "from observed\n",
    "select distinct\n",
    "    lineRef,\n",
    "    directionRef,\n",
    "    stops;"
   ]
  },
  {
   "cell_type": "markdown",
   "id": "1c7d1a0a677d6a8b",
   "metadata": {},
   "source": [
    "This time, I'm much more confident it is correct. Let us check how many variants of the 'ATB:Line:2_14' routes we spot now:"
   ]
  },
  {
   "cell_type": "code",
   "execution_count": 24,
   "id": "3bb97012056a3932",
   "metadata": {
    "ExecuteTime": {
     "end_time": "2025-04-25T21:34:47.072244Z",
     "start_time": "2025-04-25T21:34:47.064693Z"
    }
   },
   "outputs": [
    {
     "data": {
      "text/html": [
       "<span style=\"None\">Running query in &#x27;duckdb&#x27;</span>"
      ],
      "text/plain": [
       "Running query in 'duckdb'"
      ]
     },
     "metadata": {},
     "output_type": "display_data"
    },
    {
     "data": {
      "text/html": [
       "<table>\n",
       "    <thead>\n",
       "        <tr>\n",
       "            <th>lineRef</th>\n",
       "            <th>directionRef</th>\n",
       "            <th>origin</th>\n",
       "            <th>destination</th>\n",
       "        </tr>\n",
       "    </thead>\n",
       "    <tbody>\n",
       "        <tr>\n",
       "            <td>ATB:Line:2_14</td>\n",
       "            <td>Outbound</td>\n",
       "            <td>NSR:Quay:75300</td>\n",
       "            <td>NSR:Quay:73036</td>\n",
       "        </tr>\n",
       "        <tr>\n",
       "            <td>ATB:Line:2_14</td>\n",
       "            <td>Inbound</td>\n",
       "            <td>NSR:Quay:73038</td>\n",
       "            <td>NSR:Quay:71982</td>\n",
       "        </tr>\n",
       "    </tbody>\n",
       "</table>"
      ],
      "text/plain": [
       "+---------------+--------------+----------------+----------------+\n",
       "|    lineRef    | directionRef |     origin     |  destination   |\n",
       "+---------------+--------------+----------------+----------------+\n",
       "| ATB:Line:2_14 |   Outbound   | NSR:Quay:75300 | NSR:Quay:73036 |\n",
       "| ATB:Line:2_14 |   Inbound    | NSR:Quay:73038 | NSR:Quay:71982 |\n",
       "+---------------+--------------+----------------+----------------+"
      ]
     },
     "execution_count": 24,
     "metadata": {},
     "output_type": "execute_result"
    }
   ],
   "source": [
    "%%sql\n",
    "from origins\n",
    "select *\n",
    "where lineRef = 'ATB:Line:2_14';"
   ]
  },
  {
   "cell_type": "markdown",
   "id": "c254d87accd1f7ab",
   "metadata": {},
   "source": [
    "Still only one destination and origin in each direction. How about stops?"
   ]
  },
  {
   "cell_type": "code",
   "execution_count": 25,
   "id": "2a8a67092846e33a",
   "metadata": {
    "ExecuteTime": {
     "end_time": "2025-04-25T21:34:47.111505Z",
     "start_time": "2025-04-25T21:34:47.103429Z"
    }
   },
   "outputs": [
    {
     "data": {
      "text/html": [
       "<span style=\"None\">Running query in &#x27;duckdb&#x27;</span>"
      ],
      "text/plain": [
       "Running query in 'duckdb'"
      ]
     },
     "metadata": {},
     "output_type": "display_data"
    },
    {
     "data": {
      "text/html": [
       "<table>\n",
       "    <thead>\n",
       "        <tr>\n",
       "            <th>lineRef</th>\n",
       "            <th>directionRef</th>\n",
       "            <th>len</th>\n",
       "        </tr>\n",
       "    </thead>\n",
       "    <tbody>\n",
       "        <tr>\n",
       "            <td>ATB:Line:2_14</td>\n",
       "            <td>Outbound</td>\n",
       "            <td>21</td>\n",
       "        </tr>\n",
       "        <tr>\n",
       "            <td>ATB:Line:2_14</td>\n",
       "            <td>Inbound</td>\n",
       "            <td>26</td>\n",
       "        </tr>\n",
       "        <tr>\n",
       "            <td>ATB:Line:2_14</td>\n",
       "            <td>Inbound</td>\n",
       "            <td>21</td>\n",
       "        </tr>\n",
       "        <tr>\n",
       "            <td>ATB:Line:2_14</td>\n",
       "            <td>Inbound</td>\n",
       "            <td>24</td>\n",
       "        </tr>\n",
       "        <tr>\n",
       "            <td>ATB:Line:2_14</td>\n",
       "            <td>Inbound</td>\n",
       "            <td>27</td>\n",
       "        </tr>\n",
       "        <tr>\n",
       "            <td>ATB:Line:2_14</td>\n",
       "            <td>Outbound</td>\n",
       "            <td>26</td>\n",
       "        </tr>\n",
       "        <tr>\n",
       "            <td>ATB:Line:2_14</td>\n",
       "            <td>Outbound</td>\n",
       "            <td>24</td>\n",
       "        </tr>\n",
       "        <tr>\n",
       "            <td>ATB:Line:2_14</td>\n",
       "            <td>Outbound</td>\n",
       "            <td>27</td>\n",
       "        </tr>\n",
       "    </tbody>\n",
       "</table>"
      ],
      "text/plain": [
       "+---------------+--------------+-----+\n",
       "|    lineRef    | directionRef | len |\n",
       "+---------------+--------------+-----+\n",
       "| ATB:Line:2_14 |   Outbound   |  21 |\n",
       "| ATB:Line:2_14 |   Inbound    |  26 |\n",
       "| ATB:Line:2_14 |   Inbound    |  21 |\n",
       "| ATB:Line:2_14 |   Inbound    |  24 |\n",
       "| ATB:Line:2_14 |   Inbound    |  27 |\n",
       "| ATB:Line:2_14 |   Outbound   |  26 |\n",
       "| ATB:Line:2_14 |   Outbound   |  24 |\n",
       "| ATB:Line:2_14 |   Outbound   |  27 |\n",
       "+---------------+--------------+-----+"
      ]
     },
     "execution_count": 25,
     "metadata": {},
     "output_type": "execute_result"
    }
   ],
   "source": [
    "%%sql\n",
    "from stop_order\n",
    "select lineRef, directionRef, array_length(stops) as len\n",
    "where lineRef = 'ATB:Line:2_14';"
   ]
  },
  {
   "cell_type": "markdown",
   "id": "f3f4a05906ed67e7",
   "metadata": {},
   "source": [
    "That means there are quite a lot of different variations. I suppose some of that could we weekend routes? Let's check if we get fewer by picking only weekdays:"
   ]
  },
  {
   "cell_type": "code",
   "execution_count": 26,
   "id": "22785fc75cadfda",
   "metadata": {
    "ExecuteTime": {
     "end_time": "2025-04-25T21:40:04.470474Z",
     "start_time": "2025-04-25T21:40:04.383020Z"
    }
   },
   "outputs": [
    {
     "data": {
      "text/html": [
       "<span style=\"None\">Running query in &#x27;duckdb&#x27;</span>"
      ],
      "text/plain": [
       "Running query in 'duckdb'"
      ]
     },
     "metadata": {},
     "output_type": "display_data"
    },
    {
     "data": {
      "text/html": [
       "<table>\n",
       "    <thead>\n",
       "        <tr>\n",
       "            <th>lineRef</th>\n",
       "            <th>directionRef</th>\n",
       "            <th>array_length(stops)</th>\n",
       "        </tr>\n",
       "    </thead>\n",
       "    <tbody>\n",
       "        <tr>\n",
       "            <td>ATB:Line:2_14</td>\n",
       "            <td>Outbound</td>\n",
       "            <td>21</td>\n",
       "        </tr>\n",
       "        <tr>\n",
       "            <td>ATB:Line:2_14</td>\n",
       "            <td>Outbound</td>\n",
       "            <td>26</td>\n",
       "        </tr>\n",
       "        <tr>\n",
       "            <td>ATB:Line:2_14</td>\n",
       "            <td>Inbound</td>\n",
       "            <td>27</td>\n",
       "        </tr>\n",
       "        <tr>\n",
       "            <td>ATB:Line:2_14</td>\n",
       "            <td>Outbound</td>\n",
       "            <td>24</td>\n",
       "        </tr>\n",
       "        <tr>\n",
       "            <td>ATB:Line:2_14</td>\n",
       "            <td>Inbound</td>\n",
       "            <td>21</td>\n",
       "        </tr>\n",
       "        <tr>\n",
       "            <td>ATB:Line:2_14</td>\n",
       "            <td>Inbound</td>\n",
       "            <td>24</td>\n",
       "        </tr>\n",
       "        <tr>\n",
       "            <td>ATB:Line:2_14</td>\n",
       "            <td>Inbound</td>\n",
       "            <td>26</td>\n",
       "        </tr>\n",
       "        <tr>\n",
       "            <td>ATB:Line:2_14</td>\n",
       "            <td>Outbound</td>\n",
       "            <td>27</td>\n",
       "        </tr>\n",
       "    </tbody>\n",
       "</table>"
      ],
      "text/plain": [
       "+---------------+--------------+---------------------+\n",
       "|    lineRef    | directionRef | array_length(stops) |\n",
       "+---------------+--------------+---------------------+\n",
       "| ATB:Line:2_14 |   Outbound   |          21         |\n",
       "| ATB:Line:2_14 |   Outbound   |          26         |\n",
       "| ATB:Line:2_14 |   Inbound    |          27         |\n",
       "| ATB:Line:2_14 |   Outbound   |          24         |\n",
       "| ATB:Line:2_14 |   Inbound    |          21         |\n",
       "| ATB:Line:2_14 |   Inbound    |          24         |\n",
       "| ATB:Line:2_14 |   Inbound    |          26         |\n",
       "| ATB:Line:2_14 |   Outbound   |          27         |\n",
       "+---------------+--------------+---------------------+"
      ]
     },
     "execution_count": 26,
     "metadata": {},
     "output_type": "execute_result"
    }
   ],
   "source": [
    "%%sql\n",
    "with observed as (\n",
    "    from selected_journeys join arrivals using(serviceJourneyId, operatingDate)\n",
    "    select\n",
    "        lineRef,\n",
    "        directionRef,\n",
    "        serviceJourneyId,\n",
    "        operatingDate,\n",
    "        array_agg(stopPointRef order by sequenceNr) as stops\n",
    "    where extract(weekday from operatingDate) not in (0, 6) and lineRef = 'ATB:Line:2_14'\n",
    "    group by all\n",
    "), routes as (\n",
    "    from observed\n",
    "    select distinct\n",
    "        lineRef,\n",
    "        directionRef,\n",
    "        stops\n",
    ") from routes select lineRef, directionRef, array_length(stops);"
   ]
  },
  {
   "cell_type": "markdown",
   "id": "fa39d6e63f9246bc",
   "metadata": {},
   "source": [
    "Actually, let's look up the [schedule](https://www.atb.no/getfile.php/13117915-1742208109/Rutetabeller/24-25_by/AtB_linje14%20avvik%20fra%2024.03.25.pdf).\n",
    "\n",
    "From here I can see something I think is interesting and fascinating. It looks like some buses skip some segments. That's fine, we can work with that. What we will need to do is to establish a canonical ordering of the stops, then plot that instead of `sequenceNr` on the `X` axis. For now, let's work on the assumption that no lineRef/directionRef pair visits the same stop point twice within one journey. If that is the case, we can place the stop at its maximally observed `sequenceNr` for the lineRef/directionRef combination. Then we can check whether that still causes some duplicates by investigating whether we have duplicated `stopPointRef` with the same canonical `sequenceNr`."
   ]
  },
  {
   "cell_type": "code",
   "execution_count": 27,
   "id": "318d0d15e4227bb9",
   "metadata": {
    "ExecuteTime": {
     "end_time": "2025-04-25T21:48:07.511116Z",
     "start_time": "2025-04-25T21:48:06.451355Z"
    }
   },
   "outputs": [
    {
     "data": {
      "text/html": [
       "<span style=\"None\">Running query in &#x27;duckdb&#x27;</span>"
      ],
      "text/plain": [
       "Running query in 'duckdb'"
      ]
     },
     "metadata": {},
     "output_type": "display_data"
    },
    {
     "data": {
      "text/html": [
       "<table>\n",
       "    <thead>\n",
       "        <tr>\n",
       "            <th>Count</th>\n",
       "        </tr>\n",
       "    </thead>\n",
       "    <tbody>\n",
       "        <tr>\n",
       "            <td>211065</td>\n",
       "        </tr>\n",
       "    </tbody>\n",
       "</table>"
      ],
      "text/plain": [
       "+--------+\n",
       "| Count  |\n",
       "+--------+\n",
       "| 211065 |\n",
       "+--------+"
      ]
     },
     "execution_count": 27,
     "metadata": {},
     "output_type": "execute_result"
    }
   ],
   "source": [
    "%%sql\n",
    "create or replace table canonical_ordering as\n",
    "from selected_journeys join arrivals using(serviceJourneyId, operatingDate)\n",
    "select\n",
    "    lineRef,\n",
    "    directionRef,\n",
    "    stopPointRef,\n",
    "    max(sequenceNr) as scheduleNr\n",
    "group by lineRef, directionRef, stopPointRef;"
   ]
  },
  {
   "cell_type": "markdown",
   "id": "76530f2a6fe23e93",
   "metadata": {},
   "source": [
    "If this worked, we should see a monotonically increasing `scheduleNr` for the bus we're looking at right now, that's fast to check:"
   ]
  },
  {
   "cell_type": "code",
   "execution_count": 28,
   "id": "4896f3581e97068d",
   "metadata": {
    "ExecuteTime": {
     "end_time": "2025-04-25T21:49:48.807927Z",
     "start_time": "2025-04-25T21:49:48.795613Z"
    }
   },
   "outputs": [
    {
     "data": {
      "text/html": [
       "<span style=\"None\">Running query in &#x27;duckdb&#x27;</span>"
      ],
      "text/plain": [
       "Running query in 'duckdb'"
      ]
     },
     "metadata": {},
     "output_type": "display_data"
    },
    {
     "data": {
      "text/html": [
       "<table>\n",
       "    <thead>\n",
       "        <tr>\n",
       "            <th>lineRef</th>\n",
       "            <th>directionRef</th>\n",
       "            <th>stopPointRef</th>\n",
       "            <th>scheduleNr</th>\n",
       "        </tr>\n",
       "    </thead>\n",
       "    <tbody>\n",
       "        <tr>\n",
       "            <td>ATB:Line:2_14</td>\n",
       "            <td>Outbound</td>\n",
       "            <td>NSR:Quay:75300</td>\n",
       "            <td>1</td>\n",
       "        </tr>\n",
       "        <tr>\n",
       "            <td>ATB:Line:2_14</td>\n",
       "            <td>Outbound</td>\n",
       "            <td>NSR:Quay:71981</td>\n",
       "            <td>2</td>\n",
       "        </tr>\n",
       "        <tr>\n",
       "            <td>ATB:Line:2_14</td>\n",
       "            <td>Outbound</td>\n",
       "            <td>NSR:Quay:73420</td>\n",
       "            <td>3</td>\n",
       "        </tr>\n",
       "        <tr>\n",
       "            <td>ATB:Line:2_14</td>\n",
       "            <td>Outbound</td>\n",
       "            <td>NSR:Quay:73414</td>\n",
       "            <td>4</td>\n",
       "        </tr>\n",
       "        <tr>\n",
       "            <td>ATB:Line:2_14</td>\n",
       "            <td>Outbound</td>\n",
       "            <td>NSR:Quay:74952</td>\n",
       "            <td>5</td>\n",
       "        </tr>\n",
       "        <tr>\n",
       "            <td>ATB:Line:2_14</td>\n",
       "            <td>Outbound</td>\n",
       "            <td>NSR:Quay:102730</td>\n",
       "            <td>6</td>\n",
       "        </tr>\n",
       "        <tr>\n",
       "            <td>ATB:Line:2_14</td>\n",
       "            <td>Outbound</td>\n",
       "            <td>NSR:Quay:73261</td>\n",
       "            <td>7</td>\n",
       "        </tr>\n",
       "        <tr>\n",
       "            <td>ATB:Line:2_14</td>\n",
       "            <td>Outbound</td>\n",
       "            <td>NSR:Quay:72402</td>\n",
       "            <td>8</td>\n",
       "        </tr>\n",
       "        <tr>\n",
       "            <td>ATB:Line:2_14</td>\n",
       "            <td>Outbound</td>\n",
       "            <td>NSR:Quay:72787</td>\n",
       "            <td>9</td>\n",
       "        </tr>\n",
       "        <tr>\n",
       "            <td>ATB:Line:2_14</td>\n",
       "            <td>Outbound</td>\n",
       "            <td>NSR:Quay:71957</td>\n",
       "            <td>10</td>\n",
       "        </tr>\n",
       "        <tr>\n",
       "            <td>ATB:Line:2_14</td>\n",
       "            <td>Outbound</td>\n",
       "            <td>NSR:Quay:73724</td>\n",
       "            <td>11</td>\n",
       "        </tr>\n",
       "        <tr>\n",
       "            <td>ATB:Line:2_14</td>\n",
       "            <td>Outbound</td>\n",
       "            <td>NSR:Quay:74297</td>\n",
       "            <td>12</td>\n",
       "        </tr>\n",
       "        <tr>\n",
       "            <td>ATB:Line:2_14</td>\n",
       "            <td>Outbound</td>\n",
       "            <td>NSR:Quay:73793</td>\n",
       "            <td>13</td>\n",
       "        </tr>\n",
       "        <tr>\n",
       "            <td>ATB:Line:2_14</td>\n",
       "            <td>Outbound</td>\n",
       "            <td>NSR:Quay:72034</td>\n",
       "            <td>14</td>\n",
       "        </tr>\n",
       "        <tr>\n",
       "            <td>ATB:Line:2_14</td>\n",
       "            <td>Outbound</td>\n",
       "            <td>NSR:Quay:71167</td>\n",
       "            <td>15</td>\n",
       "        </tr>\n",
       "        <tr>\n",
       "            <td>ATB:Line:2_14</td>\n",
       "            <td>Outbound</td>\n",
       "            <td>NSR:Quay:75595</td>\n",
       "            <td>16</td>\n",
       "        </tr>\n",
       "        <tr>\n",
       "            <td>ATB:Line:2_14</td>\n",
       "            <td>Outbound</td>\n",
       "            <td>NSR:Quay:74274</td>\n",
       "            <td>17</td>\n",
       "        </tr>\n",
       "        <tr>\n",
       "            <td>ATB:Line:2_14</td>\n",
       "            <td>Outbound</td>\n",
       "            <td>NSR:Quay:75409</td>\n",
       "            <td>18</td>\n",
       "        </tr>\n",
       "        <tr>\n",
       "            <td>ATB:Line:2_14</td>\n",
       "            <td>Outbound</td>\n",
       "            <td>NSR:Quay:75402</td>\n",
       "            <td>19</td>\n",
       "        </tr>\n",
       "        <tr>\n",
       "            <td>ATB:Line:2_14</td>\n",
       "            <td>Outbound</td>\n",
       "            <td>NSR:Quay:75404</td>\n",
       "            <td>20</td>\n",
       "        </tr>\n",
       "        <tr>\n",
       "            <td>ATB:Line:2_14</td>\n",
       "            <td>Outbound</td>\n",
       "            <td>NSR:Quay:71577</td>\n",
       "            <td>21</td>\n",
       "        </tr>\n",
       "        <tr>\n",
       "            <td>ATB:Line:2_14</td>\n",
       "            <td>Outbound</td>\n",
       "            <td>NSR:Quay:74276</td>\n",
       "            <td>21</td>\n",
       "        </tr>\n",
       "        <tr>\n",
       "            <td>ATB:Line:2_14</td>\n",
       "            <td>Outbound</td>\n",
       "            <td>NSR:Quay:109990</td>\n",
       "            <td>22</td>\n",
       "        </tr>\n",
       "        <tr>\n",
       "            <td>ATB:Line:2_14</td>\n",
       "            <td>Outbound</td>\n",
       "            <td>NSR:Quay:75600</td>\n",
       "            <td>22</td>\n",
       "        </tr>\n",
       "        <tr>\n",
       "            <td>ATB:Line:2_14</td>\n",
       "            <td>Outbound</td>\n",
       "            <td>NSR:Quay:73791</td>\n",
       "            <td>23</td>\n",
       "        </tr>\n",
       "        <tr>\n",
       "            <td>ATB:Line:2_14</td>\n",
       "            <td>Outbound</td>\n",
       "            <td>NSR:Quay:102732</td>\n",
       "            <td>24</td>\n",
       "        </tr>\n",
       "        <tr>\n",
       "            <td>ATB:Line:2_14</td>\n",
       "            <td>Outbound</td>\n",
       "            <td>NSR:Quay:71365</td>\n",
       "            <td>25</td>\n",
       "        </tr>\n",
       "        <tr>\n",
       "            <td>ATB:Line:2_14</td>\n",
       "            <td>Outbound</td>\n",
       "            <td>NSR:Quay:75657</td>\n",
       "            <td>26</td>\n",
       "        </tr>\n",
       "        <tr>\n",
       "            <td>ATB:Line:2_14</td>\n",
       "            <td>Outbound</td>\n",
       "            <td>NSR:Quay:73036</td>\n",
       "            <td>27</td>\n",
       "        </tr>\n",
       "    </tbody>\n",
       "</table>"
      ],
      "text/plain": [
       "+---------------+--------------+-----------------+------------+\n",
       "|    lineRef    | directionRef |   stopPointRef  | scheduleNr |\n",
       "+---------------+--------------+-----------------+------------+\n",
       "| ATB:Line:2_14 |   Outbound   |  NSR:Quay:75300 |     1      |\n",
       "| ATB:Line:2_14 |   Outbound   |  NSR:Quay:71981 |     2      |\n",
       "| ATB:Line:2_14 |   Outbound   |  NSR:Quay:73420 |     3      |\n",
       "| ATB:Line:2_14 |   Outbound   |  NSR:Quay:73414 |     4      |\n",
       "| ATB:Line:2_14 |   Outbound   |  NSR:Quay:74952 |     5      |\n",
       "| ATB:Line:2_14 |   Outbound   | NSR:Quay:102730 |     6      |\n",
       "| ATB:Line:2_14 |   Outbound   |  NSR:Quay:73261 |     7      |\n",
       "| ATB:Line:2_14 |   Outbound   |  NSR:Quay:72402 |     8      |\n",
       "| ATB:Line:2_14 |   Outbound   |  NSR:Quay:72787 |     9      |\n",
       "| ATB:Line:2_14 |   Outbound   |  NSR:Quay:71957 |     10     |\n",
       "| ATB:Line:2_14 |   Outbound   |  NSR:Quay:73724 |     11     |\n",
       "| ATB:Line:2_14 |   Outbound   |  NSR:Quay:74297 |     12     |\n",
       "| ATB:Line:2_14 |   Outbound   |  NSR:Quay:73793 |     13     |\n",
       "| ATB:Line:2_14 |   Outbound   |  NSR:Quay:72034 |     14     |\n",
       "| ATB:Line:2_14 |   Outbound   |  NSR:Quay:71167 |     15     |\n",
       "| ATB:Line:2_14 |   Outbound   |  NSR:Quay:75595 |     16     |\n",
       "| ATB:Line:2_14 |   Outbound   |  NSR:Quay:74274 |     17     |\n",
       "| ATB:Line:2_14 |   Outbound   |  NSR:Quay:75409 |     18     |\n",
       "| ATB:Line:2_14 |   Outbound   |  NSR:Quay:75402 |     19     |\n",
       "| ATB:Line:2_14 |   Outbound   |  NSR:Quay:75404 |     20     |\n",
       "| ATB:Line:2_14 |   Outbound   |  NSR:Quay:71577 |     21     |\n",
       "| ATB:Line:2_14 |   Outbound   |  NSR:Quay:74276 |     21     |\n",
       "| ATB:Line:2_14 |   Outbound   | NSR:Quay:109990 |     22     |\n",
       "| ATB:Line:2_14 |   Outbound   |  NSR:Quay:75600 |     22     |\n",
       "| ATB:Line:2_14 |   Outbound   |  NSR:Quay:73791 |     23     |\n",
       "| ATB:Line:2_14 |   Outbound   | NSR:Quay:102732 |     24     |\n",
       "| ATB:Line:2_14 |   Outbound   |  NSR:Quay:71365 |     25     |\n",
       "| ATB:Line:2_14 |   Outbound   |  NSR:Quay:75657 |     26     |\n",
       "| ATB:Line:2_14 |   Outbound   |  NSR:Quay:73036 |     27     |\n",
       "+---------------+--------------+-----------------+------------+"
      ]
     },
     "execution_count": 28,
     "metadata": {},
     "output_type": "execute_result"
    }
   ],
   "source": [
    "%%sql\n",
    "from canonical_ordering\n",
    "select\n",
    "    lineRef,\n",
    "    directionRef,\n",
    "    stopPointRef,\n",
    "    scheduleNr\n",
    "where lineRef = 'ATB:Line:2_14' and directionRef = 'Outbound'\n",
    "order by lineRef, directionRef, scheduleNr"
   ]
  },
  {
   "cell_type": "markdown",
   "id": "faa1204dbf85294b",
   "metadata": {},
   "source": [
    "Perfect, that fixes this line! Let's check if there are any that are still broken:"
   ]
  },
  {
   "cell_type": "code",
   "execution_count": 29,
   "id": "ee07c48b74f1cf61",
   "metadata": {
    "ExecuteTime": {
     "end_time": "2025-04-25T21:53:27.212275Z",
     "start_time": "2025-04-25T21:53:27.190401Z"
    }
   },
   "outputs": [
    {
     "data": {
      "text/html": [
       "<span style=\"None\">Running query in &#x27;duckdb&#x27;</span>"
      ],
      "text/plain": [
       "Running query in 'duckdb'"
      ]
     },
     "metadata": {},
     "output_type": "display_data"
    },
    {
     "data": {
      "text/html": [
       "<table>\n",
       "    <thead>\n",
       "        <tr>\n",
       "            <th>count_star()</th>\n",
       "        </tr>\n",
       "    </thead>\n",
       "    <tbody>\n",
       "        <tr>\n",
       "            <td>2941</td>\n",
       "        </tr>\n",
       "    </tbody>\n",
       "</table>"
      ],
      "text/plain": [
       "+--------------+\n",
       "| count_star() |\n",
       "+--------------+\n",
       "|     2941     |\n",
       "+--------------+"
      ]
     },
     "execution_count": 29,
     "metadata": {},
     "output_type": "execute_result"
    }
   ],
   "source": [
    "%%sql\n",
    "with broken as (\n",
    "from canonical_ordering\n",
    "select\n",
    "    lineRef,\n",
    "    directionRef,\n",
    "    scheduleNr,\n",
    "    count(*)\n",
    "group by all\n",
    "having count(*) > 1\n",
    ") select count(*) from (from broken select distinct lineRef, directionRef);"
   ]
  },
  {
   "cell_type": "markdown",
   "id": "1f9256cc49ad4cd2",
   "metadata": {},
   "source": [
    "We're still having problems with 2941 combinations of lineRef and directionRef."
   ]
  },
  {
   "cell_type": "code",
   "execution_count": 30,
   "id": "2812b2fbf90b690e",
   "metadata": {
    "ExecuteTime": {
     "end_time": "2025-04-25T21:54:21.039145Z",
     "start_time": "2025-04-25T21:54:20.894207Z"
    }
   },
   "outputs": [
    {
     "data": {
      "text/html": [
       "<span style=\"None\">Running query in &#x27;duckdb&#x27;</span>"
      ],
      "text/plain": [
       "Running query in 'duckdb'"
      ]
     },
     "metadata": {},
     "output_type": "display_data"
    },
    {
     "data": {
      "text/html": [
       "<table>\n",
       "    <thead>\n",
       "        <tr>\n",
       "            <th>count_star()</th>\n",
       "        </tr>\n",
       "    </thead>\n",
       "    <tbody>\n",
       "        <tr>\n",
       "            <td>7052</td>\n",
       "        </tr>\n",
       "    </tbody>\n",
       "</table>"
      ],
      "text/plain": [
       "+--------------+\n",
       "| count_star() |\n",
       "+--------------+\n",
       "|     7052     |\n",
       "+--------------+"
      ]
     },
     "execution_count": 30,
     "metadata": {},
     "output_type": "execute_result"
    }
   ],
   "source": [
    "%%sql\n",
    "select count(*)\n",
    "from (select distinct lineRef, directionRef from arrivals);"
   ]
  },
  {
   "cell_type": "markdown",
   "id": "9ca6efba17fcddb0",
   "metadata": {},
   "source": [
    "That's almost half the combinations we've seen. Hrm.\n",
    "\n",
    "## Time for a break\n",
    "\n",
    "I have to sleep on this to come up with some new ideas. Fundamentally, I only really need the order because I want to place the stops in the semantically correct order along an axis, I can disambiguate them perfectly by using their name. So we could easily just also use the `stopPointRef` as an input to the canonical ordering. But it would be jarring for a person to see \"their stops\" in semantically the wrong order, so I'd like to fix this. Maybe I could use the maximally observed scheduled time since departure at the origin to disambiguate better?\n",
    "\n",
    "Since this is a displeasing place to stop, let's join our aggregation from earlier with the canonical ordering that works for ATB:Line:2_14 so we get to see how the plots come out:"
   ]
  },
  {
   "cell_type": "code",
   "execution_count": 31,
   "id": "1b1761bd74e4bdbf",
   "metadata": {
    "ExecuteTime": {
     "end_time": "2025-04-25T22:13:41.296277Z",
     "start_time": "2025-04-25T22:13:33.554671Z"
    }
   },
   "outputs": [
    {
     "data": {
      "text/html": [
       "<span style=\"None\">Running query in &#x27;duckdb&#x27;</span>"
      ],
      "text/plain": [
       "Running query in 'duckdb'"
      ]
     },
     "metadata": {},
     "output_type": "display_data"
    },
    {
     "data": {
      "text/html": [
       "<table>\n",
       "    <thead>\n",
       "        <tr>\n",
       "            <th>Count</th>\n",
       "        </tr>\n",
       "    </thead>\n",
       "    <tbody>\n",
       "        <tr>\n",
       "            <td>988343</td>\n",
       "        </tr>\n",
       "    </tbody>\n",
       "</table>"
      ],
      "text/plain": [
       "+--------+\n",
       "| Count  |\n",
       "+--------+\n",
       "| 988343 |\n",
       "+--------+"
      ]
     },
     "execution_count": 31,
     "metadata": {},
     "output_type": "execute_result"
    }
   ],
   "source": [
    "%%sql\n",
    "create or replace table by_hour as\n",
    "with selected_journeys as (\n",
    "    from arrivals select serviceJourneyId, operatingDate\n",
    "    group by serviceJourneyId, operatingDate\n",
    "    having not (bool_or(extraCall) or bool_or(estimated) or bool_or(journeyCancellation) or bool_or(stopCancellation))\n",
    "), times as (\n",
    "    from arrivals a join selected_journeys using(serviceJourneyId, operatingDate)\n",
    "        join canonical_ordering using(lineRef, directionRef, stopPointRef)\n",
    "    select\n",
    "        -- group key\n",
    "        lineRef,\n",
    "        directionRef,\n",
    "        scheduleNr,\n",
    "        extract(hour from coalesce(arrivalTime, departureTime)) as hour,\n",
    "        -- aggregate this in next query\n",
    "        extract(epoch from coalesce(arrivalTime, departureTime) - coalesce(aimedArrivalTime, aimedDepartureTime)) as delay_seconds\n",
    "    where extract(weekday from operatingDate) not in (0, 6)\n",
    ")\n",
    "from times t\n",
    "select\n",
    "    t.* exclude (delay_seconds), -- group by\n",
    "    quantile_disc(delay_seconds, .1) as first_decile,\n",
    "    quantile_disc(delay_seconds, .25) as first_quartile,\n",
    "    quantile_disc(delay_seconds, .5) as median,\n",
    "    quantile_disc(delay_seconds, .75) as last_quartile,\n",
    "    quantile_disc(delay_seconds, .9) as last_decile,\n",
    "    count(*) as count\n",
    "group by all;"
   ]
  },
  {
   "cell_type": "code",
   "execution_count": 32,
   "id": "56e7c94f8453cd8b",
   "metadata": {
    "ExecuteTime": {
     "end_time": "2025-04-25T22:15:24.519921Z",
     "start_time": "2025-04-25T22:15:24.170586Z"
    }
   },
   "outputs": [
    {
     "data": {
      "image/png": "[encoded data removed]",
      "text/plain": [
       "<Figure size 1138.25x1000 with 4 Axes>"
      ]
     },
     "metadata": {},
     "output_type": "display_data"
    }
   ],
   "source": [
    "d = db.sql(\"select * from by_hour where lineRef = 'ATB:Line:2_14' and hour in (8, 15);\").df().drop(\n",
    "    columns=['lineRef', 'count']\n",
    ").melt(\n",
    "    id_vars=['directionRef', 'scheduleNr', 'hour'],\n",
    "    var_name='quantity',\n",
    "    value_name='delay'\n",
    ")\n",
    "\n",
    "sns.relplot(\n",
    "    d,\n",
    "    x='scheduleNr',\n",
    "    y='delay',\n",
    "    hue='quantity',\n",
    "    col='directionRef',\n",
    "    row='hour',\n",
    "    kind='line'\n",
    ");"
   ]
  },
  {
   "cell_type": "markdown",
   "id": "5bd3a3c7aecd3665",
   "metadata": {},
   "source": [
    "This is progress, at least. It's fascinating to see how similar the morning and afternoon delay shapes are for this particular bus. I think this visualization can be done pretty well!"
   ]
  },
  {
   "cell_type": "code",
   "execution_count": null,
   "id": "d53265a12428fc87",
   "metadata": {},
   "outputs": [],
   "source": []
  }
 ],
 "metadata": {
  "kernelspec": {
   "display_name": "Python 3 (ipykernel)",
   "language": "python",
   "name": "python3"
  },
  "language_info": {
   "codemirror_mode": {
    "name": "ipython",
    "version": 3
   },
   "file_extension": ".py",
   "mimetype": "text/x-python",
   "name": "python",
   "nbconvert_exporter": "python",
   "pygments_lexer": "ipython3",
   "version": "3.12.7"
  }
 },
 "nbformat": 4,
 "nbformat_minor": 5
}
