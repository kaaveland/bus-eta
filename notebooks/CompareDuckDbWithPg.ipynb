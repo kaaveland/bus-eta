{
 "cells": [
  {
   "cell_type": "markdown",
   "id": "bc583d8e627000cc",
   "metadata": {},
   "source": [
    "Can't I just use postgres?\n",
    "===\n",
    "\n",
    "The past few weeks I've been experimenting with [DuckDB](https://duckdb.org/), and as a consequence I've ended up talking about it a lot as well. I'm not going to lie, I really like it! However, experience programmers will rightly be skeptical to add new technology that overlaps with something that already works great. So why not just use postgres?\n",
    "\n",
    "Well, I really like postgres as well, and I think you should! But despite both of these technologies being all about tabular data, they're not really for the same kinds of problems. I think DuckDB is primarily an analysis or ETL tool, and it really excels in this space. postgres _can_ do a lot of the things that DuckDB can do, but not nearly as fast or easily. I wouldn't want to use DuckDB for a transactional workload, so it's not going to replace postgres for anything that I use it for.\n",
    "\n",
    "I want to do some basic tests, verify that my understanding is correct and be able to back up my claims with some numbers. So I've downloaded some data of from [data.entur.no](https://data.entur.no/) again, namely the Norwegian national real-time recordings for public transit data for January and February of 2025. I wrote about this data set in [an earlier blogpost](https://arktekk.no/blogs/2025_entur_realtimedataset), if you want to learn more about it.\n",
    "\n",
    "If you want to follow along, you can download the DuckDB file from [here](https://kaaveland-bus-eta-data.hel1.your-objectstorage.com/all.db).\n",
    "\n",
    "This is a jupyter notebook, so we'll be mixing code and prose, and show lots of output from programs. Let's get our bearings quickly."
   ]
  },
  {
   "cell_type": "code",
   "execution_count": 1,
   "id": "initial_id",
   "metadata": {
    "ExecuteTime": {
     "end_time": "2025-03-01T21:32:01.522010Z",
     "start_time": "2025-03-01T21:32:01.311751Z"
    }
   },
   "outputs": [
    {
     "data": {
      "text/html": [
       "<span style=\"None\">The &#x27;toml&#x27; package isn&#x27;t installed. To load settings from pyproject.toml or ~/.jupysql/config, install with: pip install toml</span>"
      ],
      "text/plain": [
       "The 'toml' package isn't installed. To load settings from pyproject.toml or ~/.jupysql/config, install with: pip install toml"
      ]
     },
     "metadata": {},
     "output_type": "display_data"
    },
    {
     "data": {
      "text/html": [
       "<span style=\"None\">Running query in &#x27;duckdb&#x27;</span>"
      ],
      "text/plain": [
       "Running query in 'duckdb'"
      ]
     },
     "metadata": {},
     "output_type": "display_data"
    },
    {
     "data": {
      "text/html": [
       "<table>\n",
       "    <thead>\n",
       "        <tr>\n",
       "            <th>count_star()</th>\n",
       "        </tr>\n",
       "    </thead>\n",
       "    <tbody>\n",
       "        <tr>\n",
       "            <td>85079666</td>\n",
       "        </tr>\n",
       "    </tbody>\n",
       "</table>"
      ],
      "text/plain": [
       "+--------------+\n",
       "| count_star() |\n",
       "+--------------+\n",
       "|   85079666   |\n",
       "+--------------+"
      ]
     },
     "execution_count": 1,
     "metadata": {},
     "output_type": "execute_result"
    }
   ],
   "source": [
    "import duckdb\n",
    "\n",
    "db = duckdb.connect('all.db')\n",
    "\n",
    "%load_ext sql\n",
    "%config SqlMagic.displaylimit=50\n",
    "%sql db --alias duckdb\n",
    "\n",
    "%sql select count() from arrivals;"
   ]
  },
  {
   "cell_type": "markdown",
   "id": "43365df8b49d62e9",
   "metadata": {},
   "source": [
    "So we have about 85 million rows in here, on this schema:"
   ]
  },
  {
   "cell_type": "code",
   "execution_count": 2,
   "id": "4010c424eeacb53b",
   "metadata": {
    "ExecuteTime": {
     "end_time": "2025-03-01T21:32:02.754100Z",
     "start_time": "2025-03-01T21:32:02.744528Z"
    }
   },
   "outputs": [
    {
     "data": {
      "text/html": [
       "<span style=\"None\">Running query in &#x27;duckdb&#x27;</span>"
      ],
      "text/plain": [
       "Running query in 'duckdb'"
      ]
     },
     "metadata": {},
     "output_type": "display_data"
    },
    {
     "data": {
      "text/html": [
       "<table>\n",
       "    <thead>\n",
       "        <tr>\n",
       "            <th>column_name</th>\n",
       "            <th>column_type</th>\n",
       "            <th>null</th>\n",
       "            <th>key</th>\n",
       "            <th>default</th>\n",
       "            <th>extra</th>\n",
       "        </tr>\n",
       "    </thead>\n",
       "    <tbody>\n",
       "        <tr>\n",
       "            <td>recordedAtTime</td>\n",
       "            <td>TIMESTAMP WITH TIME ZONE</td>\n",
       "            <td>YES</td>\n",
       "            <td>None</td>\n",
       "            <td>None</td>\n",
       "            <td>None</td>\n",
       "        </tr>\n",
       "        <tr>\n",
       "            <td>lineRef</td>\n",
       "            <td>VARCHAR</td>\n",
       "            <td>YES</td>\n",
       "            <td>None</td>\n",
       "            <td>None</td>\n",
       "            <td>None</td>\n",
       "        </tr>\n",
       "        <tr>\n",
       "            <td>directionRef</td>\n",
       "            <td>VARCHAR</td>\n",
       "            <td>YES</td>\n",
       "            <td>None</td>\n",
       "            <td>None</td>\n",
       "            <td>None</td>\n",
       "        </tr>\n",
       "        <tr>\n",
       "            <td>operatingDate</td>\n",
       "            <td>DATE</td>\n",
       "            <td>YES</td>\n",
       "            <td>None</td>\n",
       "            <td>None</td>\n",
       "            <td>None</td>\n",
       "        </tr>\n",
       "        <tr>\n",
       "            <td>vehicleMode</td>\n",
       "            <td>VARCHAR</td>\n",
       "            <td>YES</td>\n",
       "            <td>None</td>\n",
       "            <td>None</td>\n",
       "            <td>None</td>\n",
       "        </tr>\n",
       "        <tr>\n",
       "            <td>extraJourney</td>\n",
       "            <td>BOOLEAN</td>\n",
       "            <td>YES</td>\n",
       "            <td>None</td>\n",
       "            <td>None</td>\n",
       "            <td>None</td>\n",
       "        </tr>\n",
       "        <tr>\n",
       "            <td>journeyCancellation</td>\n",
       "            <td>BOOLEAN</td>\n",
       "            <td>YES</td>\n",
       "            <td>None</td>\n",
       "            <td>None</td>\n",
       "            <td>None</td>\n",
       "        </tr>\n",
       "        <tr>\n",
       "            <td>stopPointRef</td>\n",
       "            <td>VARCHAR</td>\n",
       "            <td>YES</td>\n",
       "            <td>None</td>\n",
       "            <td>None</td>\n",
       "            <td>None</td>\n",
       "        </tr>\n",
       "        <tr>\n",
       "            <td>sequenceNr</td>\n",
       "            <td>BIGINT</td>\n",
       "            <td>YES</td>\n",
       "            <td>None</td>\n",
       "            <td>None</td>\n",
       "            <td>None</td>\n",
       "        </tr>\n",
       "        <tr>\n",
       "            <td>stopPointName</td>\n",
       "            <td>VARCHAR</td>\n",
       "            <td>YES</td>\n",
       "            <td>None</td>\n",
       "            <td>None</td>\n",
       "            <td>None</td>\n",
       "        </tr>\n",
       "        <tr>\n",
       "            <td>originName</td>\n",
       "            <td>VARCHAR</td>\n",
       "            <td>YES</td>\n",
       "            <td>None</td>\n",
       "            <td>None</td>\n",
       "            <td>None</td>\n",
       "        </tr>\n",
       "        <tr>\n",
       "            <td>destinationName</td>\n",
       "            <td>VARCHAR</td>\n",
       "            <td>YES</td>\n",
       "            <td>None</td>\n",
       "            <td>None</td>\n",
       "            <td>None</td>\n",
       "        </tr>\n",
       "        <tr>\n",
       "            <td>extraCall</td>\n",
       "            <td>BOOLEAN</td>\n",
       "            <td>YES</td>\n",
       "            <td>None</td>\n",
       "            <td>None</td>\n",
       "            <td>None</td>\n",
       "        </tr>\n",
       "        <tr>\n",
       "            <td>stopCancellation</td>\n",
       "            <td>BOOLEAN</td>\n",
       "            <td>YES</td>\n",
       "            <td>None</td>\n",
       "            <td>None</td>\n",
       "            <td>None</td>\n",
       "        </tr>\n",
       "        <tr>\n",
       "            <td>estimated</td>\n",
       "            <td>BOOLEAN</td>\n",
       "            <td>YES</td>\n",
       "            <td>None</td>\n",
       "            <td>None</td>\n",
       "            <td>None</td>\n",
       "        </tr>\n",
       "        <tr>\n",
       "            <td>aimedArrivalTime</td>\n",
       "            <td>TIMESTAMP WITH TIME ZONE</td>\n",
       "            <td>YES</td>\n",
       "            <td>None</td>\n",
       "            <td>None</td>\n",
       "            <td>None</td>\n",
       "        </tr>\n",
       "        <tr>\n",
       "            <td>arrivalTime</td>\n",
       "            <td>TIMESTAMP WITH TIME ZONE</td>\n",
       "            <td>YES</td>\n",
       "            <td>None</td>\n",
       "            <td>None</td>\n",
       "            <td>None</td>\n",
       "        </tr>\n",
       "        <tr>\n",
       "            <td>aimedDepartureTime</td>\n",
       "            <td>TIMESTAMP WITH TIME ZONE</td>\n",
       "            <td>YES</td>\n",
       "            <td>None</td>\n",
       "            <td>None</td>\n",
       "            <td>None</td>\n",
       "        </tr>\n",
       "        <tr>\n",
       "            <td>departureTime</td>\n",
       "            <td>TIMESTAMP WITH TIME ZONE</td>\n",
       "            <td>YES</td>\n",
       "            <td>None</td>\n",
       "            <td>None</td>\n",
       "            <td>None</td>\n",
       "        </tr>\n",
       "        <tr>\n",
       "            <td>datedServiceJourneyId</td>\n",
       "            <td>VARCHAR</td>\n",
       "            <td>YES</td>\n",
       "            <td>None</td>\n",
       "            <td>None</td>\n",
       "            <td>None</td>\n",
       "        </tr>\n",
       "        <tr>\n",
       "            <td>dataSource</td>\n",
       "            <td>VARCHAR</td>\n",
       "            <td>YES</td>\n",
       "            <td>None</td>\n",
       "            <td>None</td>\n",
       "            <td>None</td>\n",
       "        </tr>\n",
       "        <tr>\n",
       "            <td>dataSourceName</td>\n",
       "            <td>VARCHAR</td>\n",
       "            <td>YES</td>\n",
       "            <td>None</td>\n",
       "            <td>None</td>\n",
       "            <td>None</td>\n",
       "        </tr>\n",
       "    </tbody>\n",
       "</table>"
      ],
      "text/plain": [
       "+-----------------------+--------------------------+------+------+---------+-------+\n",
       "|      column_name      |       column_type        | null | key  | default | extra |\n",
       "+-----------------------+--------------------------+------+------+---------+-------+\n",
       "|     recordedAtTime    | TIMESTAMP WITH TIME ZONE | YES  | None |   None  |  None |\n",
       "|        lineRef        |         VARCHAR          | YES  | None |   None  |  None |\n",
       "|      directionRef     |         VARCHAR          | YES  | None |   None  |  None |\n",
       "|     operatingDate     |           DATE           | YES  | None |   None  |  None |\n",
       "|      vehicleMode      |         VARCHAR          | YES  | None |   None  |  None |\n",
       "|      extraJourney     |         BOOLEAN          | YES  | None |   None  |  None |\n",
       "|  journeyCancellation  |         BOOLEAN          | YES  | None |   None  |  None |\n",
       "|      stopPointRef     |         VARCHAR          | YES  | None |   None  |  None |\n",
       "|       sequenceNr      |          BIGINT          | YES  | None |   None  |  None |\n",
       "|     stopPointName     |         VARCHAR          | YES  | None |   None  |  None |\n",
       "|       originName      |         VARCHAR          | YES  | None |   None  |  None |\n",
       "|    destinationName    |         VARCHAR          | YES  | None |   None  |  None |\n",
       "|       extraCall       |         BOOLEAN          | YES  | None |   None  |  None |\n",
       "|    stopCancellation   |         BOOLEAN          | YES  | None |   None  |  None |\n",
       "|       estimated       |         BOOLEAN          | YES  | None |   None  |  None |\n",
       "|    aimedArrivalTime   | TIMESTAMP WITH TIME ZONE | YES  | None |   None  |  None |\n",
       "|      arrivalTime      | TIMESTAMP WITH TIME ZONE | YES  | None |   None  |  None |\n",
       "|   aimedDepartureTime  | TIMESTAMP WITH TIME ZONE | YES  | None |   None  |  None |\n",
       "|     departureTime     | TIMESTAMP WITH TIME ZONE | YES  | None |   None  |  None |\n",
       "| datedServiceJourneyId |         VARCHAR          | YES  | None |   None  |  None |\n",
       "|       dataSource      |         VARCHAR          | YES  | None |   None  |  None |\n",
       "|     dataSourceName    |         VARCHAR          | YES  | None |   None  |  None |\n",
       "+-----------------------+--------------------------+------+------+---------+-------+"
      ]
     },
     "execution_count": 2,
     "metadata": {},
     "output_type": "execute_result"
    }
   ],
   "source": [
    "%%sql\n",
    "DESCRIBE ARRIVALS"
   ]
  },
  {
   "cell_type": "markdown",
   "id": "6bf65deb3a7da904",
   "metadata": {},
   "source": [
    "This database file is about 5GB:"
   ]
  },
  {
   "cell_type": "code",
   "execution_count": 3,
   "id": "49fbdc24d7babc1d",
   "metadata": {
    "ExecuteTime": {
     "end_time": "2025-03-01T21:32:04.155951Z",
     "start_time": "2025-03-01T21:32:03.885185Z"
    }
   },
   "outputs": [
    {
     "name": "stdout",
     "output_type": "stream",
     "text": [
      "5,1G\tall.db\n"
     ]
    }
   ],
   "source": [
    "!du -hs all.db"
   ]
  },
  {
   "cell_type": "markdown",
   "id": "ec504879cc555092",
   "metadata": {},
   "source": [
    "I want to put this in a postgres database, so we can do some comparisons. I've set up postgres-17 on my machine, from the [postgres apt](https://wiki.postgresql.org/wiki/Apt). I'm going to put the binaries on PATH, so we can easily make our own postgres instance. This machine has 64GB RAM, and we're going to be the only ones using it, so we can give postgres a lot of resources."
   ]
  },
  {
   "cell_type": "code",
   "execution_count": 4,
   "id": "e4cfd812009285cd",
   "metadata": {
    "ExecuteTime": {
     "end_time": "2025-03-01T21:32:05.047821Z",
     "start_time": "2025-03-01T21:32:05.044369Z"
    }
   },
   "outputs": [],
   "source": [
    "import os\n",
    "import string\n",
    "import random\n",
    "os.environ['PATH'] = '/usr/lib/postgresql/17/bin:' + os.environ['PATH']\n",
    "os.environ['PGPASSWORD'] = ''.join(random.choices(string.ascii_letters + string.digits, k=20))"
   ]
  },
  {
   "cell_type": "code",
   "execution_count": 5,
   "id": "b24ca146bd875148",
   "metadata": {
    "ExecuteTime": {
     "end_time": "2025-03-01T21:32:07.408578Z",
     "start_time": "2025-03-01T21:32:05.864566Z"
    }
   },
   "outputs": [
    {
     "name": "stdout",
     "output_type": "stream",
     "text": [
      "The files belonging to this database system will be owned by user \"robin\".\n",
      "he server process.o own t\n",
      "\n",
      "The database cluster will be initialized with this locale configuration:\n",
      "  locale provider:   libc\n",
      "  LC_COLLATE:  en_US.UTF-8\n",
      "  LC_CTYPE:    en_US.UTF-8\n",
      ".UTF-8ESSAGES: en_US\n",
      "  LC_MONETARY: nb_NO.UTF-8\n",
      "  LC_NUMERIC:  nb_NO.UTF-8\n",
      "  LC_TIME:     nb_NO.UTF-8\n",
      "database encoding has accordingly been set to \"UTF8\".\n",
      "set to \"english\".search configuration will be \n",
      "\n",
      "Data page checksums are disabled.\n",
      "\n",
      "okeating directory pgtemp ... \n",
      "creating subdirectories ... ok\n",
      "selecting dynamic shared memory implementation ... posix\n",
      " default \"max_connections\" ... 100\n",
      "128MBting default \"shared_buffers\" ... \n",
      "Europe/Osloefault time zone ... \n",
      "okeating configuration files ... \n",
      "oknning bootstrap script ... \n",
      "performing post-bootstrap initialization ... ok\n",
      "okncing data to disk ... \n",
      "\n",
      "\n",
      "Success. You can now start the database server using:\n",
      "\n",
      "    pg_ctl -D pgtemp -l logfile start\n",
      "\n"
     ]
    },
    {
     "name": "stderr",
     "output_type": "stream",
     "text": [
      "initdb: warning: enabling \"trust\" authentication for local connections\n",
      "this by editing pg_hba.conf or using the option -A, or --auth-local and --auth-host, the next time you run initdb.\n"
     ]
    }
   ],
   "source": [
    "%%bash\n",
    "\n",
    "# Create a databasecluster where:\n",
    "# superuser is named postgres\n",
    "# each connection/worker can use 8GB RAM\n",
    "# the buffer manager can use 16GB RAM to cache tables\n",
    "# in the pgtemp directory\n",
    "initdb -U postgres \\\n",
    "  --set work_mem=8GB \\\n",
    "  --set shared_buffers=24GB \\\n",
    "  --set maintenance_work_mem=8GB \\\n",
    "  --set listen_addresses=127.0.0.1 \\\n",
    "  --set port=5433 \\\n",
    "  --set unix_socket_directories=\"$(pwd)/pgsockets\" \\\n",
    "  -D pgtemp"
   ]
  },
  {
   "cell_type": "code",
   "execution_count": 6,
   "id": "24c62fd4fe3e589d",
   "metadata": {
    "ExecuteTime": {
     "end_time": "2025-03-01T21:32:10.136009Z",
     "start_time": "2025-03-01T21:32:09.880315Z"
    }
   },
   "outputs": [
    {
     "name": "stdout",
     "output_type": "stream",
     "text": [
      "listen_addresses = '127.0.0.1'\t\t# what IP address(es) to listen on;\n",
      "shared_buffers = 24GB\t\t\t# min 128kB\n",
      "work_mem = 8GB\t\t\t\t# min 64kB\n",
      "#hash_mem_multiplier = 2.0\t\t# 1-1000.0 multiplier on hash table work_mem\n",
      "maintenance_work_mem = 8GB\t\t# min 64kB\n",
      "#autovacuum_work_mem = -1\t\t# min 64kB, or -1 to use maintenance_work_mem\n",
      "#logical_decoding_work_mem = 64MB\t# min 64kB\n",
      "#wal_buffers = -1\t\t\t# min 32kB, -1 sets based on shared_buffers\n"
     ]
    }
   ],
   "source": [
    "!grep -E 'work_mem|shared_buffers|listen' pgtemp/postgresql.conf"
   ]
  },
  {
   "cell_type": "markdown",
   "id": "8efd82395e3c9757",
   "metadata": {},
   "source": [
    "Looks good, let's start it!"
   ]
  },
  {
   "cell_type": "code",
   "execution_count": 7,
   "id": "66ac76b6d356dc6c",
   "metadata": {
    "ExecuteTime": {
     "end_time": "2025-03-01T21:32:13.464434Z",
     "start_time": "2025-03-01T21:32:12.655267Z"
    }
   },
   "outputs": [
    {
     "name": "stdout",
     "output_type": "stream",
     "text": [
      "waiting for server to start.... done\n",
      "server started\n"
     ]
    }
   ],
   "source": [
    "!mkdir -p pgsockets\n",
    "!pg_ctl -D pgtemp -l pg.log start"
   ]
  },
  {
   "cell_type": "markdown",
   "id": "4004e96dd62bcbbb",
   "metadata": {},
   "source": [
    "Now we have a postgres! Let's attach DuckDB to it so we can easily put the data in there. We will create an unlogged table that doesn't generate transaction logs, since they're not useful for this experiment. It should make it a bit faster to insert data into it."
   ]
  },
  {
   "cell_type": "code",
   "execution_count": 8,
   "id": "20eaa59b10a49d38",
   "metadata": {
    "ExecuteTime": {
     "end_time": "2025-03-01T21:32:18.767067Z",
     "start_time": "2025-03-01T21:32:18.716897Z"
    }
   },
   "outputs": [
    {
     "data": {
      "text/html": [
       "<span style=\"None\">Running query in &#x27;duckdb&#x27;</span>"
      ],
      "text/plain": [
       "Running query in 'duckdb'"
      ]
     },
     "metadata": {},
     "output_type": "display_data"
    },
    {
     "data": {
      "text/html": [
       "<table>\n",
       "    <thead>\n",
       "        <tr>\n",
       "            <th>Count</th>\n",
       "        </tr>\n",
       "    </thead>\n",
       "    <tbody>\n",
       "    </tbody>\n",
       "</table>"
      ],
      "text/plain": [
       "+-------+\n",
       "| Count |\n",
       "+-------+\n",
       "+-------+"
      ]
     },
     "execution_count": 8,
     "metadata": {},
     "output_type": "execute_result"
    }
   ],
   "source": [
    "%%sql\n",
    "\n",
    "ATTACH 'dbname=postgres user=postgres host=127.0.0.1 port=5433' AS pgtemp (TYPE postgres);\n",
    "\n",
    "CREATE TABLE pgtemp.arrivals(\n",
    "    recordedAtTime TIMESTAMP WITH TIME ZONE,\n",
    "    lineRef VARCHAR,\n",
    "    directionRef VARCHAR,\n",
    "    operatingDate DATE,\n",
    "    vehicleMode VARCHAR,\n",
    "    extraJourney BOOLEAN,\n",
    "    journeyCancellation BOOLEAN,\n",
    "    stopPointRef VARCHAR,\n",
    "    sequenceNr BIGINT,\n",
    "    stopPointName VARCHAR,\n",
    "    originName VARCHAR,\n",
    "    destinationName VARCHAR,\n",
    "    extraCall BOOLEAN,\n",
    "    stopCancellation BOOLEAN,\n",
    "    estimated BOOLEAN,\n",
    "    aimedArrivalTime TIMESTAMP WITH TIME ZONE,\n",
    "    arrivalTime TIMESTAMP WITH TIME ZONE,\n",
    "    aimedDepartureTime TIMESTAMP WITH TIME ZONE,\n",
    "    departureTime TIMESTAMP WITH TIME ZONE,\n",
    "    datedServiceJourneyId VARCHAR,\n",
    "    dataSource VARCHAR,\n",
    "    dataSourceName VARCHAR);"
   ]
  },
  {
   "cell_type": "code",
   "execution_count": 9,
   "id": "fd4e9340f8cd1296",
   "metadata": {
    "ExecuteTime": {
     "end_time": "2025-03-01T21:32:56.856361Z",
     "start_time": "2025-03-01T21:32:56.833405Z"
    }
   },
   "outputs": [
    {
     "data": {
      "text/html": [
       "<span style=\"None\">Running query in &#x27;duckdb&#x27;</span>"
      ],
      "text/plain": [
       "Running query in 'duckdb'"
      ]
     },
     "metadata": {},
     "output_type": "display_data"
    },
    {
     "data": {
      "text/html": [
       "<table>\n",
       "    <thead>\n",
       "        <tr>\n",
       "            <th>Success</th>\n",
       "        </tr>\n",
       "    </thead>\n",
       "    <tbody>\n",
       "    </tbody>\n",
       "</table>"
      ],
      "text/plain": [
       "+---------+\n",
       "| Success |\n",
       "+---------+\n",
       "+---------+"
      ]
     },
     "execution_count": 9,
     "metadata": {},
     "output_type": "execute_result"
    }
   ],
   "source": [
    "%%sql\n",
    "CALL postgres_execute('pgtemp', 'ALTER TABLE arrivals SET UNLOGGED;')"
   ]
  },
  {
   "cell_type": "markdown",
   "id": "60e707cf2314444d",
   "metadata": {},
   "source": [
    "Since our table schemas match, we should be able to use DuckDB to bulkload this. Let's give it a go:"
   ]
  },
  {
   "cell_type": "code",
   "execution_count": 10,
   "id": "d97403a2-0316-47b4-9365-2141bccd4c7d",
   "metadata": {
    "ExecuteTime": {
     "end_time": "2025-03-01T21:35:43.469300Z",
     "start_time": "2025-03-01T21:35:43.461502Z"
    }
   },
   "outputs": [
    {
     "data": {
      "text/html": [
       "<span style=\"None\">Running query in &#x27;duckdb&#x27;</span>"
      ],
      "text/plain": [
       "Running query in 'duckdb'"
      ]
     },
     "metadata": {},
     "output_type": "display_data"
    },
    {
     "data": {
      "text/html": [
       "<table>\n",
       "    <thead>\n",
       "        <tr>\n",
       "            <th>Count</th>\n",
       "        </tr>\n",
       "    </thead>\n",
       "    <tbody>\n",
       "        <tr>\n",
       "            <td>85079666</td>\n",
       "        </tr>\n",
       "    </tbody>\n",
       "</table>"
      ],
      "text/plain": [
       "+----------+\n",
       "|  Count   |\n",
       "+----------+\n",
       "| 85079666 |\n",
       "+----------+"
      ]
     },
     "execution_count": 10,
     "metadata": {},
     "output_type": "execute_result"
    }
   ],
   "source": [
    "%%sql\n",
    "INSERT INTO pgtemp.arrivals BY NAME SELECT * FROM arrivals;"
   ]
  },
  {
   "cell_type": "markdown",
   "id": "46a89275-5228-4c18-b766-798302a4f52f",
   "metadata": {},
   "source": [
    "Okay, the first thing I want to know is the size of the database after doing this, let's check:"
   ]
  },
  {
   "cell_type": "code",
   "execution_count": 11,
   "id": "e03c056a-fd64-4a85-b2a8-7503758b0d1e",
   "metadata": {},
   "outputs": [
    {
     "name": "stdout",
     "output_type": "stream",
     "text": [
      "18G\tpgtemp\n"
     ]
    }
   ],
   "source": [
    "!du -hs pgtemp"
   ]
  },
  {
   "cell_type": "markdown",
   "id": "7327f0ae-9f72-4d3d-a631-074daa4cb331",
   "metadata": {},
   "source": [
    "This is not surprising to me, columnar storage formats are much easier to compress efficiently than row storage formats, like the one used by postgres. This should fit in memory for postgres, it has 24GB RAM for shared buffers (and a generous 8GB for sorting and things like that). Let's time some basic operations in DuckDB vs postgres. We will limit DuckDB to 16GB RAM, so my machine can have something left over for running... everything else."
   ]
  },
  {
   "cell_type": "code",
   "execution_count": 12,
   "id": "b0141cda-7753-4ffa-8584-d330285eb42e",
   "metadata": {},
   "outputs": [
    {
     "data": {
      "text/html": [
       "<span style=\"None\">Running query in &#x27;duckdb&#x27;</span>"
      ],
      "text/plain": [
       "Running query in 'duckdb'"
      ]
     },
     "metadata": {},
     "output_type": "display_data"
    },
    {
     "data": {
      "text/html": [
       "<span style=\"None\">Running query in &#x27;duckdb&#x27;</span>"
      ],
      "text/plain": [
       "Running query in 'duckdb'"
      ]
     },
     "metadata": {},
     "output_type": "display_data"
    },
    {
     "name": "stdout",
     "output_type": "stream",
     "text": [
      "CPU times: user 316 ms, sys: 11.3 ms, total: 327 ms\n",
      "Wall time: 31.6 ms\n"
     ]
    },
    {
     "data": {
      "application/vnd.jupyter.widget-view+json": {
       "model_id": "74ebdbb273244aac90ed0033038d3310",
       "version_major": 2,
       "version_minor": 0
      },
      "text/plain": [
       "FloatProgress(value=0.0, layout=Layout(width='auto'), style=ProgressStyle(bar_color='black'))"
      ]
     },
     "metadata": {},
     "output_type": "display_data"
    },
    {
     "name": "stdout",
     "output_type": "stream",
     "text": [
      "CPU times: user 11.3 s, sys: 854 μs, total: 11.3 s\n",
      "Wall time: 11.3 s\n"
     ]
    },
    {
     "data": {
      "text/html": [
       "<div>\n",
       "<style scoped>\n",
       "    .dataframe tbody tr th:only-of-type {\n",
       "        vertical-align: middle;\n",
       "    }\n",
       "\n",
       "    .dataframe tbody tr th {\n",
       "        vertical-align: top;\n",
       "    }\n",
       "\n",
       "    .dataframe thead th {\n",
       "        text-align: right;\n",
       "    }\n",
       "</style>\n",
       "<table border=\"1\" class=\"dataframe\">\n",
       "  <thead>\n",
       "    <tr style=\"text-align: right;\">\n",
       "      <th></th>\n",
       "      <th>dataSource</th>\n",
       "      <th>count</th>\n",
       "    </tr>\n",
       "  </thead>\n",
       "  <tbody>\n",
       "    <tr>\n",
       "      <th>0</th>\n",
       "      <td>AKT</td>\n",
       "      <td>5171934</td>\n",
       "    </tr>\n",
       "    <tr>\n",
       "      <th>1</th>\n",
       "      <td>ATB</td>\n",
       "      <td>7523101</td>\n",
       "    </tr>\n",
       "    <tr>\n",
       "      <th>2</th>\n",
       "      <td>BNR</td>\n",
       "      <td>1011696</td>\n",
       "    </tr>\n",
       "    <tr>\n",
       "      <th>3</th>\n",
       "      <td>BRA</td>\n",
       "      <td>3616400</td>\n",
       "    </tr>\n",
       "    <tr>\n",
       "      <th>4</th>\n",
       "      <td>FIN</td>\n",
       "      <td>692961</td>\n",
       "    </tr>\n",
       "    <tr>\n",
       "      <th>5</th>\n",
       "      <td>FLT</td>\n",
       "      <td>85265</td>\n",
       "    </tr>\n",
       "    <tr>\n",
       "      <th>6</th>\n",
       "      <td>GOA</td>\n",
       "      <td>10792</td>\n",
       "    </tr>\n",
       "    <tr>\n",
       "      <th>7</th>\n",
       "      <td>INN</td>\n",
       "      <td>4628654</td>\n",
       "    </tr>\n",
       "    <tr>\n",
       "      <th>8</th>\n",
       "      <td>KOL</td>\n",
       "      <td>7331910</td>\n",
       "    </tr>\n",
       "    <tr>\n",
       "      <th>9</th>\n",
       "      <td>MOR</td>\n",
       "      <td>3590997</td>\n",
       "    </tr>\n",
       "    <tr>\n",
       "      <th>10</th>\n",
       "      <td>NBU</td>\n",
       "      <td>286315</td>\n",
       "    </tr>\n",
       "    <tr>\n",
       "      <th>11</th>\n",
       "      <td>NOR</td>\n",
       "      <td>2347927</td>\n",
       "    </tr>\n",
       "    <tr>\n",
       "      <th>12</th>\n",
       "      <td>OST</td>\n",
       "      <td>2832777</td>\n",
       "    </tr>\n",
       "    <tr>\n",
       "      <th>13</th>\n",
       "      <td>RUT</td>\n",
       "      <td>23659480</td>\n",
       "    </tr>\n",
       "    <tr>\n",
       "      <th>14</th>\n",
       "      <td>SJN</td>\n",
       "      <td>342</td>\n",
       "    </tr>\n",
       "    <tr>\n",
       "      <th>15</th>\n",
       "      <td>SKY</td>\n",
       "      <td>12316625</td>\n",
       "    </tr>\n",
       "    <tr>\n",
       "      <th>16</th>\n",
       "      <td>SOF</td>\n",
       "      <td>18242</td>\n",
       "    </tr>\n",
       "    <tr>\n",
       "      <th>17</th>\n",
       "      <td>TEL</td>\n",
       "      <td>117</td>\n",
       "    </tr>\n",
       "    <tr>\n",
       "      <th>18</th>\n",
       "      <td>TRO</td>\n",
       "      <td>4037699</td>\n",
       "    </tr>\n",
       "    <tr>\n",
       "      <th>19</th>\n",
       "      <td>VKT</td>\n",
       "      <td>11517</td>\n",
       "    </tr>\n",
       "    <tr>\n",
       "      <th>20</th>\n",
       "      <td>VOT</td>\n",
       "      <td>5853350</td>\n",
       "    </tr>\n",
       "    <tr>\n",
       "      <th>21</th>\n",
       "      <td>VYB</td>\n",
       "      <td>4091</td>\n",
       "    </tr>\n",
       "    <tr>\n",
       "      <th>22</th>\n",
       "      <td>VYG</td>\n",
       "      <td>20638</td>\n",
       "    </tr>\n",
       "    <tr>\n",
       "      <th>23</th>\n",
       "      <td>VYX</td>\n",
       "      <td>26836</td>\n",
       "    </tr>\n",
       "  </tbody>\n",
       "</table>\n",
       "</div>"
      ],
      "text/plain": [
       "   dataSource     count\n",
       "0         AKT   5171934\n",
       "1         ATB   7523101\n",
       "2         BNR   1011696\n",
       "3         BRA   3616400\n",
       "4         FIN    692961\n",
       "5         FLT     85265\n",
       "6         GOA     10792\n",
       "7         INN   4628654\n",
       "8         KOL   7331910\n",
       "9         MOR   3590997\n",
       "10        NBU    286315\n",
       "11        NOR   2347927\n",
       "12        OST   2832777\n",
       "13        RUT  23659480\n",
       "14        SJN       342\n",
       "15        SKY  12316625\n",
       "16        SOF     18242\n",
       "17        TEL       117\n",
       "18        TRO   4037699\n",
       "19        VKT     11517\n",
       "20        VOT   5853350\n",
       "21        VYB      4091\n",
       "22        VYG     20638\n",
       "23        VYX     26836"
      ]
     },
     "execution_count": 12,
     "metadata": {},
     "output_type": "execute_result"
    }
   ],
   "source": [
    "# DuckDB\n",
    "%sql set memory_limit = '16GB';\n",
    "%sql set threads = 11; -- CPU has 12 physical cores, Ryzen 9 5900X.\n",
    "%time db.sql(\"select dataSource, count(*) from arrivals group by dataSource\").df()\n",
    "%time db.sql(\"\"\"call postgres_query('pgtemp', 'select \"dataSource\", count(*) from arrivals group by \"dataSource\"')\"\"\").df()"
   ]
  },
  {
   "cell_type": "markdown",
   "id": "ab67fb12-dc08-4d40-a744-761d67f07fd0",
   "metadata": {},
   "source": [
    "So, for this very simple example, DuckDB can do it in 31.6ms and postgres needs 11.3 seconds.\n",
    "\n",
    "This is a very unfair comparison, though. In this particular instance, DuckDB looks only at 1 column, and it is probably dictionary-encoded and run length encoded, similarly to how Arrow and Parquet does it. You can read a bit more about that [here](https://arrow.apache.org/blog/2019/09/05/faster-strings-cpp-parquet/) and [here](https://wesmckinney.com/blog/python-parquet-multithreading/). This kind of query and data distribution is essentially a best-case for columnar storage formats. An index would help postgres here, but it would likely be significantly bigger than the column DuckDB has stored, and therefore still slower.\n",
    "\n",
    "It may be much more fair to try to do a group by on a column where such shortcuts aren't possible. Let's count registrations by hour of day, which forces both implementations to look at all values of the `recordedAtTime` column."
   ]
  },
  {
   "cell_type": "code",
   "execution_count": 13,
   "id": "a5b7d69a-f7be-42b6-aa02-93ebe2da7b51",
   "metadata": {},
   "outputs": [
    {
     "name": "stdout",
     "output_type": "stream",
     "text": [
      "CPU times: user 18 s, sys: 0 ns, total: 18 s\n",
      "Wall time: 1.65 s\n"
     ]
    },
    {
     "data": {
      "application/vnd.jupyter.widget-view+json": {
       "model_id": "b25af5a3ea4a4e428fca2a861fbcce22",
       "version_major": 2,
       "version_minor": 0
      },
      "text/plain": [
       "FloatProgress(value=0.0, layout=Layout(width='auto'), style=ProgressStyle(bar_color='black'))"
      ]
     },
     "metadata": {},
     "output_type": "display_data"
    },
    {
     "name": "stdout",
     "output_type": "stream",
     "text": [
      "CPU times: user 5.97 s, sys: 0 ns, total: 5.97 s\n",
      "Wall time: 5.97 s\n"
     ]
    },
    {
     "data": {
      "text/html": [
       "<div>\n",
       "<style scoped>\n",
       "    .dataframe tbody tr th:only-of-type {\n",
       "        vertical-align: middle;\n",
       "    }\n",
       "\n",
       "    .dataframe tbody tr th {\n",
       "        vertical-align: top;\n",
       "    }\n",
       "\n",
       "    .dataframe thead th {\n",
       "        text-align: right;\n",
       "    }\n",
       "</style>\n",
       "<table border=\"1\" class=\"dataframe\">\n",
       "  <thead>\n",
       "    <tr style=\"text-align: right;\">\n",
       "      <th></th>\n",
       "      <th>count</th>\n",
       "      <th>hour</th>\n",
       "    </tr>\n",
       "  </thead>\n",
       "  <tbody>\n",
       "    <tr>\n",
       "      <th>0</th>\n",
       "      <td>1595324</td>\n",
       "      <td>0.0</td>\n",
       "    </tr>\n",
       "    <tr>\n",
       "      <th>1</th>\n",
       "      <td>586666</td>\n",
       "      <td>1.0</td>\n",
       "    </tr>\n",
       "    <tr>\n",
       "      <th>2</th>\n",
       "      <td>302350</td>\n",
       "      <td>2.0</td>\n",
       "    </tr>\n",
       "    <tr>\n",
       "      <th>3</th>\n",
       "      <td>307565</td>\n",
       "      <td>3.0</td>\n",
       "    </tr>\n",
       "    <tr>\n",
       "      <th>4</th>\n",
       "      <td>310719</td>\n",
       "      <td>4.0</td>\n",
       "    </tr>\n",
       "    <tr>\n",
       "      <th>5</th>\n",
       "      <td>573415</td>\n",
       "      <td>5.0</td>\n",
       "    </tr>\n",
       "    <tr>\n",
       "      <th>6</th>\n",
       "      <td>2700534</td>\n",
       "      <td>6.0</td>\n",
       "    </tr>\n",
       "    <tr>\n",
       "      <th>7</th>\n",
       "      <td>5711043</td>\n",
       "      <td>7.0</td>\n",
       "    </tr>\n",
       "    <tr>\n",
       "      <th>8</th>\n",
       "      <td>7509193</td>\n",
       "      <td>8.0</td>\n",
       "    </tr>\n",
       "    <tr>\n",
       "      <th>9</th>\n",
       "      <td>4702810</td>\n",
       "      <td>9.0</td>\n",
       "    </tr>\n",
       "    <tr>\n",
       "      <th>10</th>\n",
       "      <td>4108889</td>\n",
       "      <td>10.0</td>\n",
       "    </tr>\n",
       "    <tr>\n",
       "      <th>11</th>\n",
       "      <td>3989599</td>\n",
       "      <td>11.0</td>\n",
       "    </tr>\n",
       "    <tr>\n",
       "      <th>12</th>\n",
       "      <td>4167125</td>\n",
       "      <td>12.0</td>\n",
       "    </tr>\n",
       "    <tr>\n",
       "      <th>13</th>\n",
       "      <td>4760993</td>\n",
       "      <td>13.0</td>\n",
       "    </tr>\n",
       "    <tr>\n",
       "      <th>14</th>\n",
       "      <td>5905952</td>\n",
       "      <td>14.0</td>\n",
       "    </tr>\n",
       "    <tr>\n",
       "      <th>15</th>\n",
       "      <td>6678262</td>\n",
       "      <td>15.0</td>\n",
       "    </tr>\n",
       "    <tr>\n",
       "      <th>16</th>\n",
       "      <td>6826550</td>\n",
       "      <td>16.0</td>\n",
       "    </tr>\n",
       "    <tr>\n",
       "      <th>17</th>\n",
       "      <td>5683158</td>\n",
       "      <td>17.0</td>\n",
       "    </tr>\n",
       "    <tr>\n",
       "      <th>18</th>\n",
       "      <td>4316275</td>\n",
       "      <td>18.0</td>\n",
       "    </tr>\n",
       "    <tr>\n",
       "      <th>19</th>\n",
       "      <td>3624373</td>\n",
       "      <td>19.0</td>\n",
       "    </tr>\n",
       "    <tr>\n",
       "      <th>20</th>\n",
       "      <td>3141777</td>\n",
       "      <td>20.0</td>\n",
       "    </tr>\n",
       "    <tr>\n",
       "      <th>21</th>\n",
       "      <td>2847848</td>\n",
       "      <td>21.0</td>\n",
       "    </tr>\n",
       "    <tr>\n",
       "      <th>22</th>\n",
       "      <td>2496573</td>\n",
       "      <td>22.0</td>\n",
       "    </tr>\n",
       "    <tr>\n",
       "      <th>23</th>\n",
       "      <td>2232673</td>\n",
       "      <td>23.0</td>\n",
       "    </tr>\n",
       "  </tbody>\n",
       "</table>\n",
       "</div>"
      ],
      "text/plain": [
       "      count  hour\n",
       "0   1595324   0.0\n",
       "1    586666   1.0\n",
       "2    302350   2.0\n",
       "3    307565   3.0\n",
       "4    310719   4.0\n",
       "5    573415   5.0\n",
       "6   2700534   6.0\n",
       "7   5711043   7.0\n",
       "8   7509193   8.0\n",
       "9   4702810   9.0\n",
       "10  4108889  10.0\n",
       "11  3989599  11.0\n",
       "12  4167125  12.0\n",
       "13  4760993  13.0\n",
       "14  5905952  14.0\n",
       "15  6678262  15.0\n",
       "16  6826550  16.0\n",
       "17  5683158  17.0\n",
       "18  4316275  18.0\n",
       "19  3624373  19.0\n",
       "20  3141777  20.0\n",
       "21  2847848  21.0\n",
       "22  2496573  22.0\n",
       "23  2232673  23.0"
      ]
     },
     "execution_count": 13,
     "metadata": {},
     "output_type": "execute_result"
    }
   ],
   "source": [
    "q = 'select count(*), extract(hour from \"recordedAtTime\") as hour from arrivals group by 2'\n",
    "%time db.sql(q).df()\n",
    "%time db.sql(f\"call postgres_query('pgtemp', '{q}')\").df()"
   ]
  },
  {
   "cell_type": "markdown",
   "id": "a3a2bd4a-0151-4b98-8a0f-c8cf80ceac2d",
   "metadata": {},
   "source": [
    "This time, the difference is much less drastic. DuckDB needs 1.65s and postgres can do it in 6s. For this query, DuckDB needed to investigate every value in the column, there's much less work that it can simply skip.\n",
    "\n",
    "Let's try one that is a little tougher still. Let's use a window function to calculate the time from arrival at one stop, to the next and calculate some nonsense statistics about it. This will force both databases to do a lot of work using several columns. We may be able to make useful indexes for postgres here, but we'll try without first (I am expecting postgres to summarily lose this one without an index)."
   ]
  },
  {
   "cell_type": "code",
   "execution_count": 14,
   "id": "83616fc7-ca37-4fd0-80a9-a184557ac99b",
   "metadata": {},
   "outputs": [
    {
     "data": {
      "application/vnd.jupyter.widget-view+json": {
       "model_id": "ed3e12dba594412997aef033fa283ed0",
       "version_major": 2,
       "version_minor": 0
      },
      "text/plain": [
       "FloatProgress(value=0.0, layout=Layout(width='auto'), style=ProgressStyle(bar_color='black'))"
      ]
     },
     "metadata": {},
     "output_type": "display_data"
    },
    {
     "name": "stdout",
     "output_type": "stream",
     "text": [
      "CPU times: user 2min 40s, sys: 9.72 s, total: 2min 50s\n",
      "Wall time: 15.7 s\n"
     ]
    },
    {
     "data": {
      "application/vnd.jupyter.widget-view+json": {
       "model_id": "7c610a3f0912433988711034a51e3a08",
       "version_major": 2,
       "version_minor": 0
      },
      "text/plain": [
       "FloatProgress(value=0.0, layout=Layout(width='auto'), style=ProgressStyle(bar_color='black'))"
      ]
     },
     "metadata": {},
     "output_type": "display_data"
    },
    {
     "name": "stdout",
     "output_type": "stream",
     "text": [
      "CPU times: user 8min 15s, sys: 52.2 ms, total: 8min 15s\n",
      "Wall time: 8min 15s\n"
     ]
    },
    {
     "data": {
      "text/html": [
       "<div>\n",
       "<style scoped>\n",
       "    .dataframe tbody tr th:only-of-type {\n",
       "        vertical-align: middle;\n",
       "    }\n",
       "\n",
       "    .dataframe tbody tr th {\n",
       "        vertical-align: top;\n",
       "    }\n",
       "\n",
       "    .dataframe thead th {\n",
       "        text-align: right;\n",
       "    }\n",
       "</style>\n",
       "<table border=\"1\" class=\"dataframe\">\n",
       "  <thead>\n",
       "    <tr style=\"text-align: right;\">\n",
       "      <th></th>\n",
       "      <th>max</th>\n",
       "      <th>min</th>\n",
       "      <th>?column?</th>\n",
       "    </tr>\n",
       "  </thead>\n",
       "  <tbody>\n",
       "    <tr>\n",
       "      <th>0</th>\n",
       "      <td>67755.0</td>\n",
       "      <td>-65402.0</td>\n",
       "      <td>74.021253</td>\n",
       "    </tr>\n",
       "  </tbody>\n",
       "</table>\n",
       "</div>"
      ],
      "text/plain": [
       "       max      min   ?column?\n",
       "0  67755.0 -65402.0  74.021253"
      ]
     },
     "execution_count": 14,
     "metadata": {},
     "output_type": "execute_result"
    }
   ],
   "source": [
    "q = '''\n",
    "with times as (\n",
    "    select \n",
    "      extract(epoch from \n",
    "          lead(\"arrivalTime\", 1) over (partition by \"datedServiceJourneyId\" order by \"sequenceNr\") \n",
    "           - \"arrivalTime\"\n",
    "      ) as timedelta\n",
    "    from arrivals\n",
    ")\n",
    "select\n",
    "    max(timedelta), min(timedelta), sum(timedelta) / count(*) -- avg in postgres and mean in duckdb\n",
    "from times\n",
    "'''\n",
    "%time db.sql(q).df()\n",
    "%time db.sql(f\"call postgres_query('pgtemp', '{q}')\").df()"
   ]
  },
  {
   "cell_type": "markdown",
   "id": "b747863e-bcb3-4e12-9bc9-54d4058d4628",
   "metadata": {},
   "source": [
    "Wow, that's a big difference. DuckDB spent 15.7s and postgres spent 8 mins 15s. I am not sure why the difference is so big in this case. Even a table scan should be quite quick for postgres now, the data is certainly in RAM already.\n",
    "\n",
    "In this case, it would have been much faster to pull all the data out from postgres and into DuckDB and do the aggregation there.\n",
    "\n",
    "I'm betting we can help postgres by making an index that matches the partition of the window function. Let's do that, and time it."
   ]
  },
  {
   "cell_type": "code",
   "execution_count": 15,
   "id": "39ab0416-2db2-4825-888a-658875f5b022",
   "metadata": {},
   "outputs": [
    {
     "data": {
      "application/vnd.jupyter.widget-view+json": {
       "model_id": "8842b741bbaf44cea59594a905fb0212",
       "version_major": 2,
       "version_minor": 0
      },
      "text/plain": [
       "FloatProgress(value=0.0, layout=Layout(width='auto'), style=ProgressStyle(bar_color='black'))"
      ]
     },
     "metadata": {},
     "output_type": "display_data"
    },
    {
     "name": "stdout",
     "output_type": "stream",
     "text": [
      "CPU times: user 3min 3s, sys: 954 ms, total: 3min 4s\n",
      "Wall time: 3min 3s\n"
     ]
    },
    {
     "data": {
      "text/plain": [
       "<duckdb.duckdb.DuckDBPyConnection at 0x79d9a85de8f0>"
      ]
     },
     "execution_count": 15,
     "metadata": {},
     "output_type": "execute_result"
    }
   ],
   "source": [
    "index = 'create index on arrivals(\"datedServiceJourneyId\", \"sequenceNr\");'\n",
    "%time db.execute(f\"call postgres_execute('pgtemp', '{index}');\")"
   ]
  },
  {
   "cell_type": "markdown",
   "id": "b2bc4b3c-8df7-4ffd-a589-dc148f7b1eff",
   "metadata": {},
   "source": [
    "3 minutes, less time than running the query originally. Let's try the query one more time:"
   ]
  },
  {
   "cell_type": "code",
   "execution_count": 16,
   "id": "e87c31ec-bfab-4476-b4a7-517440175928",
   "metadata": {},
   "outputs": [
    {
     "data": {
      "application/vnd.jupyter.widget-view+json": {
       "model_id": "a7705420ac9549a2b38ec2969686f53f",
       "version_major": 2,
       "version_minor": 0
      },
      "text/plain": [
       "FloatProgress(value=0.0, layout=Layout(width='auto'), style=ProgressStyle(bar_color='black'))"
      ]
     },
     "metadata": {},
     "output_type": "display_data"
    },
    {
     "name": "stdout",
     "output_type": "stream",
     "text": [
      "CPU times: user 8min 16s, sys: 432 ms, total: 8min 17s\n",
      "Wall time: 8min 16s\n"
     ]
    },
    {
     "data": {
      "text/html": [
       "<div>\n",
       "<style scoped>\n",
       "    .dataframe tbody tr th:only-of-type {\n",
       "        vertical-align: middle;\n",
       "    }\n",
       "\n",
       "    .dataframe tbody tr th {\n",
       "        vertical-align: top;\n",
       "    }\n",
       "\n",
       "    .dataframe thead th {\n",
       "        text-align: right;\n",
       "    }\n",
       "</style>\n",
       "<table border=\"1\" class=\"dataframe\">\n",
       "  <thead>\n",
       "    <tr style=\"text-align: right;\">\n",
       "      <th></th>\n",
       "      <th>max</th>\n",
       "      <th>min</th>\n",
       "      <th>?column?</th>\n",
       "    </tr>\n",
       "  </thead>\n",
       "  <tbody>\n",
       "    <tr>\n",
       "      <th>0</th>\n",
       "      <td>67755.0</td>\n",
       "      <td>-65402.0</td>\n",
       "      <td>74.021253</td>\n",
       "    </tr>\n",
       "  </tbody>\n",
       "</table>\n",
       "</div>"
      ],
      "text/plain": [
       "       max      min   ?column?\n",
       "0  67755.0 -65402.0  74.021253"
      ]
     },
     "execution_count": 16,
     "metadata": {},
     "output_type": "execute_result"
    }
   ],
   "source": [
    "%time db.sql(f\"call postgres_query('pgtemp', '{q}')\").df()"
   ]
  },
  {
   "cell_type": "markdown",
   "id": "e396e739-5e30-4216-8ac6-e2f8dd56ed4e",
   "metadata": {},
   "source": [
    "Right, the index was not useful. Perhaps because the table fits in memory anyway. I made sure to `ANALYZE;` and try again, just in case. On disk, this index is larger than the entire DuckDB file, creating it increased the size of the `pgtemp` postgres cluster to 25GB:"
   ]
  },
  {
   "cell_type": "code",
   "execution_count": 17,
   "id": "47cfa1fa-4bcb-4ff6-942d-68fedc10fd4f",
   "metadata": {},
   "outputs": [
    {
     "name": "stdout",
     "output_type": "stream",
     "text": [
      "25G\tpgtemp\n"
     ]
    }
   ],
   "source": [
    "!du -hs pgtemp"
   ]
  },
  {
   "cell_type": "markdown",
   "id": "c9463549-2d25-4d25-84e0-09d1fe92c377",
   "metadata": {},
   "source": [
    "One variation that we haven't tried yet, is to just run the query in DuckDB, but against the postgres table (meaning DuckDB will have to delegate some work to postgres, or copy out all the data)."
   ]
  },
  {
   "cell_type": "code",
   "execution_count": 18,
   "id": "0b9721aa-bb57-41b5-961f-be56d24e546a",
   "metadata": {},
   "outputs": [
    {
     "data": {
      "application/vnd.jupyter.widget-view+json": {
       "model_id": "11529b65c94b4e7a961d18b3f3520b4d",
       "version_major": 2,
       "version_minor": 0
      },
      "text/plain": [
       "FloatProgress(value=0.0, layout=Layout(width='auto'), style=ProgressStyle(bar_color='black'))"
      ]
     },
     "metadata": {},
     "output_type": "display_data"
    },
    {
     "name": "stdout",
     "output_type": "stream",
     "text": [
      "CPU times: user 3min, sys: 13.6 s, total: 3min 14s\n",
      "Wall time: 25.7 s\n"
     ]
    },
    {
     "data": {
      "text/html": [
       "<div>\n",
       "<style scoped>\n",
       "    .dataframe tbody tr th:only-of-type {\n",
       "        vertical-align: middle;\n",
       "    }\n",
       "\n",
       "    .dataframe tbody tr th {\n",
       "        vertical-align: top;\n",
       "    }\n",
       "\n",
       "    .dataframe thead th {\n",
       "        text-align: right;\n",
       "    }\n",
       "</style>\n",
       "<table border=\"1\" class=\"dataframe\">\n",
       "  <thead>\n",
       "    <tr style=\"text-align: right;\">\n",
       "      <th></th>\n",
       "      <th>max(timedelta)</th>\n",
       "      <th>min(timedelta)</th>\n",
       "      <th>(sum(timedelta) / count_star())</th>\n",
       "    </tr>\n",
       "  </thead>\n",
       "  <tbody>\n",
       "    <tr>\n",
       "      <th>0</th>\n",
       "      <td>67755.0</td>\n",
       "      <td>-65402.0</td>\n",
       "      <td>74.021397</td>\n",
       "    </tr>\n",
       "  </tbody>\n",
       "</table>\n",
       "</div>"
      ],
      "text/plain": [
       "   max(timedelta)  min(timedelta)  (sum(timedelta) / count_star())\n",
       "0         67755.0        -65402.0                        74.021397"
      ]
     },
     "execution_count": 18,
     "metadata": {},
     "output_type": "execute_result"
    }
   ],
   "source": [
    "%time db.sql(q.replace(\"arrivals\", \"pgtemp.arrivals\")).df()"
   ]
  },
  {
   "cell_type": "markdown",
   "id": "a11d1a82-8cee-43c3-97cb-e512dc34e751",
   "metadata": {},
   "source": [
    "Right, that's very interesting, that's 25.7s compared to the 8 minutes of running purely in postgres or the 13.4s of running purely against DuckDB. This would create load and IO on the postgres database server, naturally, but maybe that's a good way to offload the work on to the applicationserver?\n",
    "\n",
    "I'm going to go look some more into what's happening in postgres here, it does not make sense to me that it can take 8 minutes to run this query if everything's in memory. I'll head over to `psql` and check out what `explain (analyze on, buffers on)` tells me.\n",
    "\n",
    "\n",
    "```sql\n",
    "postgres=# explain (analyze on, buffers on) with times as (\n",
    "    select \n",
    "      extract(epoch from \n",
    "          lead(\"arrivalTime\", 1) over (partition by \"datedServiceJourneyId\" order by \"sequenceNr\") \n",
    "           - \"arrivalTime\"\n",
    "      ) as timedelta\n",
    "    from arrivals\n",
    ")\n",
    "select\n",
    "    max(timedelta), min(timedelta), sum(timedelta) / count(*) -- avg in postgres and mean in duckdb\n",
    "from times;\n",
    "                                                                  QUERY PLAN                                                                   \n",
    "-----------------------------------------------------------------------------------------------------------------------------------------------\n",
    " Aggregate  (cost=18207075.69..18207075.71 rows=1 width=96) (actual time=506560.516..506560.517 rows=1 loops=1)\n",
    "   Buffers: shared hit=2729 read=2314831, temp read=813011 written=813012\n",
    "   ->  WindowAgg  (cost=14377525.67..16505053.45 rows=85101112 width=90) (actual time=467725.139..501383.481 rows=85079666 loops=1)\n",
    "         Buffers: shared hit=2729 read=2314831, temp read=813011 written=813012\n",
    "         ->  Sort  (cost=14377525.65..14590278.43 rows=85101112 width=66) (actual time=467725.100..474901.976 rows=85079666 loops=1)\n",
    "               Sort Key: arrivals.\"datedServiceJourneyId\", arrivals.\"sequenceNr\"\n",
    "               Sort Method: external merge  Disk: 6504088kB\n",
    "               Buffers: shared hit=2729 read=2314831, temp read=813011 written=813012\n",
    "               ->  Seq Scan on arrivals  (cost=0.00..3168571.12 rows=85101112 width=66) (actual time=199.763..17347.756 rows=85079666 loops=1)\n",
    "                     Buffers: shared hit=2729 read=2314831\n",
    " Planning:\n",
    "   Buffers: shared hit=22\n",
    " Planning Time: 0.371 ms\n",
    " JIT:\n",
    "   Functions: 11\n",
    "   Options: Inlining true, Optimization true, Expressions true, Deforming true\n",
    "   Timing: Generation 0.608 ms (Deform 0.255 ms), Inlining 64.518 ms, Optimization 68.888 ms, Emission 66.374 ms, Total 200.389 ms\n",
    " Execution Time: 507455.248 ms\n",
    "```\n",
    "\n",
    "Aha, so it's sorting on disk. That means it may help to increase `work_mem`. I'll try to double it to 16GB with `set work_mem='16GB';` (and close some applications on this machine). I will also create an index that includes all the 3 columns this query uses, to try to get an `Index Only Scan`:\n",
    "\n",
    "```sql\n",
    "postgres=# create index on arrivals(\"datedServiceJourneyId\", \"sequenceNr\", \"arrivalTime\");\n",
    "CREATE INDEX\n",
    "postgres=# explain (analyze on, buffers on) with times as (\n",
    "    select \n",
    "      extract(epoch from \n",
    "          lead(\"arrivalTime\", 1) over (partition by \"datedServiceJourneyId\" order by \"sequenceNr\") \n",
    "           - \"arrivalTime\"\n",
    "      ) as timedelta\n",
    "    from arrivals\n",
    ")\n",
    "select\n",
    "    max(timedelta), min(timedelta), sum(timedelta) / count(*) -- avg in postgres and mean in duckdb\n",
    "from times;\n",
    "                                                                                               QUERY PLAN                                                                                                    \n",
    "-----------------------------------------------------------------------------------------------------------------------------------------------------------------------------------------------------------------\n",
    " Aggregate  (cost=8735893.91..8735893.93 rows=1 width=96) (actual time=46947.869..46947.870 rows=1 loops=1)\n",
    "   Buffers: shared hit=51347699 read=947841\n",
    "   ->  WindowAgg  (cost=0.77..7034300.63 rows=85079664 width=90) (actual time=61.489..41859.920 rows=85079666 loops=1)\n",
    "         Buffers: shared hit=51347699 read=947841\n",
    "         ->  Index Only Scan using \"arrivals_datedServiceJourneyId_sequenceNr_arrivalTime_idx\" on arrivals  (cost=0.69..5120008.19 rows=85079664 width=66) (actual time=61.471..12268.748 rows=85079666 loops=1)\n",
    "               Heap Fetches: 0\n",
    "               Buffers: shared hit=51347699 read=947841\n",
    " Planning:\n",
    "   Buffers: shared hit=22 read=1 dirtied=2\n",
    " Planning Time: 14.759 ms\n",
    " JIT:\n",
    "   Functions: 10\n",
    "   Options: Inlining true, Optimization true, Expressions true, Deforming true\n",
    "   Timing: Generation 0.499 ms (Deform 0.116 ms), Inlining 11.793 ms, Optimization 28.170 ms, Emission 21.494 ms, Total 61.955 ms\n",
    " Execution Time: 46950.351 ms\n",
    "(15 rows)\n",
    "\n",
    "```\n",
    "\n",
    "That's more like it. So if we back the query with an appropriate index, postgres can run this query in 47s, which is quite close to DuckDB, considering that it doesn't use all my cores. This index is 7504MB, though, and took many minutes to create.\n",
    "\n",
    "I'm going to clean up my mess here and call it a day. I do think it's probably true that postgres can do almost everything that DuckDB can do. But I can definitely see a case for having both, they complement each others capabilities really well."
   ]
  },
  {
   "cell_type": "code",
   "execution_count": 19,
   "id": "b329b9e134e32ffa",
   "metadata": {
    "ExecuteTime": {
     "end_time": "2025-03-01T21:31:55.031215Z",
     "start_time": "2025-03-01T21:31:54.309740Z"
    }
   },
   "outputs": [
    {
     "name": "stdout",
     "output_type": "stream",
     "text": [
      "waiting for server to shut down...... done\n",
      "server stopped\n"
     ]
    }
   ],
   "source": [
    "!pg_ctl stop -D pgtemp\n",
    "!rm -rf pgtemp"
   ]
  },
  {
   "cell_type": "markdown",
   "id": "4f826f81-9c2a-4d3d-9d84-91bcc9183c0d",
   "metadata": {
    "ExecuteTime": {
     "end_time": "2025-03-01T21:23:34.357679Z",
     "start_time": "2025-03-01T21:23:34.355832Z"
    }
   },
   "source": [
    "Thanks for reading!"
   ]
  }
 ],
 "metadata": {
  "kernelspec": {
   "display_name": "Python 3 (ipykernel)",
   "language": "python",
   "name": "python3"
  },
  "language_info": {
   "codemirror_mode": {
    "name": "ipython",
    "version": 3
   },
   "file_extension": ".py",
   "mimetype": "text/x-python",
   "name": "python",
   "nbconvert_exporter": "python",
   "pygments_lexer": "ipython3",
   "version": "3.12.9"
  }
 },
 "nbformat": 4,
 "nbformat_minor": 5
}
